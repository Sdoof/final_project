{
 "cells": [
  {
   "cell_type": "markdown",
   "metadata": {},
   "source": [
    "## THIS IS THE FOURTH NOTEBOOK FOR THE FINAL PROJECT"
   ]
  },
  {
   "cell_type": "code",
   "execution_count": 2,
   "metadata": {},
   "outputs": [],
   "source": [
    "from tpqoa import tpqoa\n",
    "\n",
    "import numpy as np\n",
    "import pandas as pd\n",
    "\n",
    "import tables as tb\n",
    "import tstables as tstb\n",
    "import pickle\n",
    "\n",
    "import datetime\n",
    "import time\n",
    "import logging\n",
    "\n",
    "from sklearn import linear_model\n",
    "\n",
    "import matplotlib.pyplot as plt\n",
    "plt.style.use('seaborn')\n",
    "%matplotlib inline\n",
    "\n",
    "logging.basicConfig(filename=\"tradingstrategy.log\",level=logging.DEBUG,\n",
    "                    format=\"%(asctime)s %(name)s.%(funcName)s +%(lineno)s: %(levelname)-8s %(message)s\", \n",
    "                    datefmt ='%d/%m/%y %I:%M:%S %P')"
   ]
  },
  {
   "cell_type": "code",
   "execution_count": 3,
   "metadata": {},
   "outputs": [],
   "source": [
    "class tradingstrategy(tpqoa):\n",
    "    '''class for trading strategy using lagged returns, rsi and macd\n",
    "    indicators. Optimised using logistic regression.\n",
    "    '''\n",
    "    def __init__(self, conf_file, instrument):\n",
    "        tpqoa.__init__(self, conf_file)\n",
    "        self.instrument = instrument\n",
    "        self.live_data = pd.DataFrame()\n",
    "        self.position = 0\n",
    "        self.ticks = 0\n",
    "        self.units = 100000\n",
    "        self.rsi_n = 21\n",
    "        self.mom1 = 2\n",
    "        self.mom2 = 5\n",
    "        self.lags = 5\n",
    "        \n",
    "    def stream_data(self, stop = None):\n",
    "        # self.stoptime = datetime.datetime(2018, 5, 25, 4, 0, 0, 0)\n",
    "        ''' starts a real time Oanda data stream'''\n",
    "        self.ticks = 0\n",
    "        response = self.ctx_stream.pricing.stream(self.account_id, snapshot = True,\n",
    "                                                 instruments = self.instrument)\n",
    "        for msg_type, msg in response.parts():\n",
    "            if msg_type == 'pricing.Price':\n",
    "                self.on_success(msg.time,\n",
    "                              float(msg.bids[0].price),\n",
    "                              float(msg.asks[0].price))\n",
    "                if stop is not None:\n",
    "                    if self.ticks >= stop:\n",
    "                        logging.info('stop reached')\n",
    "                        break # **********************************\n",
    "                              # **********************************\n",
    "                        # stop reached close out long position\n",
    "                        if self.positon == 1:\n",
    "                            self.create_order(self.instrument,\n",
    "                                             units = -self.units)\n",
    "                            logging.info('stop reached - closing long, no open positions')\n",
    "                            print('stop reached - closing long, no open positions')\n",
    "                        # stop reached close out short position\n",
    "                        elif self.position == -1:\n",
    "                            self.create_order(self.instrument,\n",
    "                                             units = self.units)\n",
    "                            logging.info('stop reached - closing short, no open positions')\n",
    "                            print('stop reached - closing short, no open positions')\n",
    "                        print(15 * '-')\n",
    "                        print('Trading has stopped')\n",
    "                        print(15 * '-')\n",
    "                        response = self.ctx.transaction.since(self.account_id, id = 474)\n",
    "                        transactions = response.get('transactions')\n",
    "                        for trans in transactions:\n",
    "                            trans = trans.dict()\n",
    "                            templ = '%s | %14s | % 12s'\n",
    "                            logging.info(templ % trans['time'],\n",
    "                                        trans['instrument'],\n",
    "                                        trans['units'])\n",
    "                            print(templ % trans['time'],\n",
    "                                        trans['instrument'],\n",
    "                                        trans['units'])\n",
    "                            break\n",
    "                            \n",
    "    def on_success(self, time, bid, ask):\n",
    "        '''Method called when new data is received. This updates the on_success\n",
    "        method originally in the tpqoa class inherited by tradingstrategy class\n",
    "        which merely printed and timestamped bid and ask prices'''\n",
    "        self.ticks += 1\n",
    "        if self.ticks % 5 == 0:\n",
    "            print('%3d | '% self.ticks, time, bid, ask)\n",
    "            \n",
    "        self.live_data = self.live_data.append(pd.DataFrame({'bid':bid, \n",
    "                                                             'ask': ask},\n",
    "                                                            index = [pd.Timestamp(time)]))\n",
    "        self.dataresam = self.live_data.resample('5s', label = 'right').last().ffill().iloc[:-1]\n",
    "        self.dataresam['mid'] = self.dataresam.mean(axis=1)\n",
    "        self.dataresam['returns'] = np.log(self.dataresam['mid'] / self.dataresam['mid'].shift(1))\n",
    "        if len(self.dataresam) > 22: # self.mom2: ******************************\n",
    "                                                # *****************************\n",
    "            self.dataresam = self.prepare_features(self.dataresam, self.lags)\n",
    "            self.dataresam['RSI'] = self.relative_strength(self.dataresam['mid'], self.rsi_n)\n",
    "            self.dataresam['macd'] = self.macd(self.dataresam['mid'])\n",
    "            \n",
    "        \n",
    "        \n",
    "        \n",
    "    def relative_strength(self, data, rsi_n):\n",
    "        '''Creates RSI feature -\n",
    "        initial RSI value created here'''\n",
    "        abchange = (data - data.shift(1)) # calculate absolute daily change\n",
    "        rsperiod = abchange[:rsi_n + 1]\n",
    "        upday = rsperiod[rsperiod >= 0].sum() / rsi_n # in the RSI period what is the up day change\n",
    "        dnday = -rsperiod[rsperiod < 0].sum() / rsi_n # in the RSI period what is the down day change\n",
    "        rs = upday / dnday # up day change/down day change ratio\n",
    "        rsi = np.zeros_like(data)\n",
    "        rsi[:rsi_n] = 100. - (100. / ( 1. + rs)) # formula for RSI Index calculation\n",
    "        \n",
    "        '''calculates subsequent change in RSI values'''\n",
    "        for i in range(rsi_n, len(data)):\n",
    "            abchg = abchange[i - 1]\n",
    "            if abchg > 0:\n",
    "                upval = abchg\n",
    "                dnval = 0\n",
    "            else:\n",
    "                upval = 0\n",
    "                dnval = abs(abchg)\n",
    "            \n",
    "            # iterate through each daily change proportionally adding it\n",
    "            # to the respective RSI period change\n",
    "            upday = (upday * (rsi_n - 1) + upval) / rsi_n\n",
    "            dnday = (dnday * (rsi_n - 1) + dnval) / rsi_n\n",
    "            \n",
    "            rs = upday / dnday # up day change/down day change ratio\n",
    "            rsi[i] = 100. - (100. / ( 1. + rs)) # formula for RSI Index calculation\n",
    "        \n",
    "        \n",
    "        rsi = pd.DataFrame(rsi)\n",
    "        rsi.index = data.index\n",
    "        rsi.columns = ['RSI']\n",
    "        return rsi # Return the RSI Index value calculated\n",
    "\n",
    "    \n",
    "    def macd(self, data, slow = 26, fast = 12, signal = 9):\n",
    "        # calculate respective fast and slow exponential moving averages\n",
    "        ema_fast = data.ewm(span = fast).mean()\n",
    "        ema_slow = data.ewm(span = slow).mean()\n",
    "        # MACD line is slow m.a. minus fast m.a.\n",
    "        macd_line = ema_slow - ema_fast\n",
    "        # signal line is 9 day ema of macd line\n",
    "        sig_line = macd_line.ewm(span = signal).mean()\n",
    "        # macd histogram is the macd line minus the signal line\n",
    "        macd_hist = macd_line - sig_line\n",
    "        macd_hist = pd.DataFrame(macd_hist)\n",
    "        macd_hist.columns = ['MACD']\n",
    "        return macd_hist\n",
    "    \n",
    "    def prepare_features(self, df, lagz):\n",
    "        '''creates lagged and momentum features'''\n",
    "        self.cols = []\n",
    "        # add lagged return data\n",
    "        for lag in range(1, lagz + 1):\n",
    "            col = 'lag_%d' % lag\n",
    "            df[col] = df['returns'].shift(lag)\n",
    "            self.cols.append(col)\n",
    "        # add short term momentum signal\n",
    "        df['MOM1'] = np.where(df['returns'].rolling(self.mom1).mean() > 0, 1, 0)\n",
    "        df['MOM1'] = df['MOM1'].shift(1)\n",
    "        self.cols.append('MOM1')\n",
    "        # add long term momentum signal\n",
    "        df['MOM2'] = np.where(df['returns'].rolling(self.mom2).mean() > 0, 1, 0)\n",
    "        df['MOM2'] = df['MOM2'].shift(1)\n",
    "        self.cols.append('MOM2')\n",
    "        df.dropna(inplace = True)\n",
    "        return df\n",
    "        \n",
    "        \n",
    "        "
   ]
  },
  {
   "cell_type": "code",
   "execution_count": 4,
   "metadata": {},
   "outputs": [],
   "source": [
    "rt = tradingstrategy('/root/pyalgo.cfg','AUD_USD')"
   ]
  },
  {
   "cell_type": "code",
   "execution_count": 5,
   "metadata": {
    "scrolled": true
   },
   "outputs": [
    {
     "name": "stdout",
     "output_type": "stream",
     "text": [
      "  5 |  2018-05-25T12:49:03.037661906Z 0.75674 0.75686\n",
      " 10 |  2018-05-25T12:49:27.484856355Z 0.75646 0.75661\n",
      " 15 |  2018-05-25T12:49:34.872131571Z 0.7566 0.75673\n",
      " 20 |  2018-05-25T12:49:48.706909005Z 0.75668 0.75682\n",
      " 25 |  2018-05-25T12:50:42.483166849Z 0.75658 0.75673\n",
      " 30 |  2018-05-25T12:51:05.727513553Z 0.75658 0.75673\n",
      " 35 |  2018-05-25T12:51:31.334733951Z 0.75659 0.75671\n",
      " 40 |  2018-05-25T12:52:23.181241991Z 0.75652 0.75665\n",
      " 45 |  2018-05-25T12:52:57.798971936Z 0.75651 0.75664\n",
      " 50 |  2018-05-25T12:53:42.845191612Z 0.75671 0.75684\n",
      " 55 |  2018-05-25T12:53:47.125651946Z 0.75688 0.75702\n",
      " 60 |  2018-05-25T12:53:50.974775561Z 0.75681 0.75695\n",
      " 65 |  2018-05-25T12:53:53.989947965Z 0.75685 0.75697\n",
      " 70 |  2018-05-25T12:54:04.773768046Z 0.75698 0.75712\n",
      " 75 |  2018-05-25T12:54:12.460389870Z 0.75692 0.75706\n",
      " 80 |  2018-05-25T12:54:21.065412482Z 0.75687 0.757\n",
      " 85 |  2018-05-25T12:54:26.455602116Z 0.7568 0.75694\n",
      " 90 |  2018-05-25T12:54:48.741242398Z 0.75684 0.75697\n",
      " 95 |  2018-05-25T12:55:14.182784245Z 0.75676 0.7569\n",
      "100 |  2018-05-25T12:55:23.993825636Z 0.75673 0.75687\n"
     ]
    }
   ],
   "source": [
    "rt.stream_data(stop = 100)"
   ]
  },
  {
   "cell_type": "code",
   "execution_count": 6,
   "metadata": {
    "scrolled": true
   },
   "outputs": [
    {
     "data": {
      "text/plain": [
       "<matplotlib.axes._subplots.AxesSubplot at 0x7f34f42c7390>"
      ]
     },
     "execution_count": 6,
     "metadata": {},
     "output_type": "execute_result"
    },
    {
     "data": {
      "image/png": "[encoded data removed]",
      "text/plain": [
       "<Figure size 432x288 with 1 Axes>"
      ]
     },
     "metadata": {},
     "output_type": "display_data"
    }
   ],
   "source": [
    "rt.dataresam['RSI'].plot()"
   ]
  },
  {
   "cell_type": "code",
   "execution_count": 7,
   "metadata": {
    "scrolled": true
   },
   "outputs": [
    {
     "data": {
      "text/plain": [
       "<matplotlib.axes._subplots.AxesSubplot at 0x7f34f1bd3eb8>"
      ]
     },
     "execution_count": 7,
     "metadata": {},
     "output_type": "execute_result"
    },
    {
     "data": {
      "image/png": "[encoded data removed]",
      "text/plain": [
       "<Figure size 432x288 with 2 Axes>"
      ]
     },
     "metadata": {},
     "output_type": "display_data"
    }
   ],
   "source": [
    "rt.dataresam[['mid','macd']].plot(secondary_y = 'macd')"
   ]
  },
  {
   "cell_type": "code",
   "execution_count": 8,
   "metadata": {},
   "outputs": [
    {
     "data": {
      "text/plain": [
       "<matplotlib.axes._subplots.AxesSubplot at 0x7f34f1b038d0>"
      ]
     },
     "execution_count": 8,
     "metadata": {},
     "output_type": "execute_result"
    },
    {
     "data": {
      "image/png": "[encoded data removed]",
      "text/plain": [
       "<Figure size 432x288 with 2 Axes>"
      ]
     },
     "metadata": {},
     "output_type": "display_data"
    }
   ],
   "source": [
    "rt.dataresam[['mid','RSI']].plot(secondary_y='RSI')"
   ]
  },
  {
   "cell_type": "code",
   "execution_count": 9,
   "metadata": {},
   "outputs": [
    {
     "data": {
      "text/html": [
       "<div>\n",
       "<table border=\"1\" class=\"dataframe\">\n",
       "  <thead>\n",
       "    <tr style=\"text-align: right;\">\n",
       "      <th></th>\n",
       "      <th>ask</th>\n",
       "      <th>bid</th>\n",
       "      <th>mid</th>\n",
       "      <th>returns</th>\n",
       "      <th>lag_1</th>\n",
       "      <th>lag_2</th>\n",
       "      <th>lag_3</th>\n",
       "      <th>lag_4</th>\n",
       "      <th>lag_5</th>\n",
       "      <th>MOM1</th>\n",
       "      <th>MOM2</th>\n",
       "      <th>RSI</th>\n",
       "      <th>macd</th>\n",
       "    </tr>\n",
       "  </thead>\n",
       "  <tbody>\n",
       "    <tr>\n",
       "      <th>2018-05-25 12:55:00+00:00</th>\n",
       "      <td>0.75704</td>\n",
       "      <td>0.75690</td>\n",
       "      <td>0.756970</td>\n",
       "      <td>0.000000</td>\n",
       "      <td>0.000040</td>\n",
       "      <td>0.000046</td>\n",
       "      <td>0.000000</td>\n",
       "      <td>0.000000</td>\n",
       "      <td>0.000000</td>\n",
       "      <td>1.0</td>\n",
       "      <td>1.0</td>\n",
       "      <td>62.938448</td>\n",
       "      <td>-0.000069</td>\n",
       "    </tr>\n",
       "    <tr>\n",
       "      <th>2018-05-25 12:55:05+00:00</th>\n",
       "      <td>0.75695</td>\n",
       "      <td>0.75682</td>\n",
       "      <td>0.756885</td>\n",
       "      <td>-0.000112</td>\n",
       "      <td>0.000000</td>\n",
       "      <td>0.000040</td>\n",
       "      <td>0.000046</td>\n",
       "      <td>0.000000</td>\n",
       "      <td>0.000000</td>\n",
       "      <td>1.0</td>\n",
       "      <td>1.0</td>\n",
       "      <td>62.938448</td>\n",
       "      <td>-0.000061</td>\n",
       "    </tr>\n",
       "    <tr>\n",
       "      <th>2018-05-25 12:55:10+00:00</th>\n",
       "      <td>0.75695</td>\n",
       "      <td>0.75682</td>\n",
       "      <td>0.756885</td>\n",
       "      <td>0.000000</td>\n",
       "      <td>-0.000112</td>\n",
       "      <td>0.000000</td>\n",
       "      <td>0.000040</td>\n",
       "      <td>0.000046</td>\n",
       "      <td>0.000000</td>\n",
       "      <td>0.0</td>\n",
       "      <td>0.0</td>\n",
       "      <td>55.589059</td>\n",
       "      <td>-0.000054</td>\n",
       "    </tr>\n",
       "    <tr>\n",
       "      <th>2018-05-25 12:55:15+00:00</th>\n",
       "      <td>0.75690</td>\n",
       "      <td>0.75676</td>\n",
       "      <td>0.756830</td>\n",
       "      <td>-0.000073</td>\n",
       "      <td>0.000000</td>\n",
       "      <td>-0.000112</td>\n",
       "      <td>0.000000</td>\n",
       "      <td>0.000040</td>\n",
       "      <td>0.000046</td>\n",
       "      <td>0.0</td>\n",
       "      <td>0.0</td>\n",
       "      <td>55.589059</td>\n",
       "      <td>-0.000044</td>\n",
       "    </tr>\n",
       "    <tr>\n",
       "      <th>2018-05-25 12:55:20+00:00</th>\n",
       "      <td>0.75688</td>\n",
       "      <td>0.75675</td>\n",
       "      <td>0.756815</td>\n",
       "      <td>-0.000020</td>\n",
       "      <td>-0.000073</td>\n",
       "      <td>0.000000</td>\n",
       "      <td>-0.000112</td>\n",
       "      <td>0.000000</td>\n",
       "      <td>0.000040</td>\n",
       "      <td>0.0</td>\n",
       "      <td>0.0</td>\n",
       "      <td>51.314442</td>\n",
       "      <td>-0.000034</td>\n",
       "    </tr>\n",
       "  </tbody>\n",
       "</table>\n",
       "</div>"
      ],
      "text/plain": [
       "                               ask      bid       mid   returns     lag_1  \\\n",
       "2018-05-25 12:55:00+00:00  0.75704  0.75690  0.756970  0.000000  0.000040   \n",
       "2018-05-25 12:55:05+00:00  0.75695  0.75682  0.756885 -0.000112  0.000000   \n",
       "2018-05-25 12:55:10+00:00  0.75695  0.75682  0.756885  0.000000 -0.000112   \n",
       "2018-05-25 12:55:15+00:00  0.75690  0.75676  0.756830 -0.000073  0.000000   \n",
       "2018-05-25 12:55:20+00:00  0.75688  0.75675  0.756815 -0.000020 -0.000073   \n",
       "\n",
       "                              lag_2     lag_3     lag_4     lag_5  MOM1  MOM2  \\\n",
       "2018-05-25 12:55:00+00:00  0.000046  0.000000  0.000000  0.000000   1.0   1.0   \n",
       "2018-05-25 12:55:05+00:00  0.000040  0.000046  0.000000  0.000000   1.0   1.0   \n",
       "2018-05-25 12:55:10+00:00  0.000000  0.000040  0.000046  0.000000   0.0   0.0   \n",
       "2018-05-25 12:55:15+00:00 -0.000112  0.000000  0.000040  0.000046   0.0   0.0   \n",
       "2018-05-25 12:55:20+00:00  0.000000 -0.000112  0.000000  0.000040   0.0   0.0   \n",
       "\n",
       "                                 RSI      macd  \n",
       "2018-05-25 12:55:00+00:00  62.938448 -0.000069  \n",
       "2018-05-25 12:55:05+00:00  62.938448 -0.000061  \n",
       "2018-05-25 12:55:10+00:00  55.589059 -0.000054  \n",
       "2018-05-25 12:55:15+00:00  55.589059 -0.000044  \n",
       "2018-05-25 12:55:20+00:00  51.314442 -0.000034  "
      ]
     },
     "execution_count": 9,
     "metadata": {},
     "output_type": "execute_result"
    }
   ],
   "source": [
    "rt.dataresam.tail()"
   ]
  },
  {
   "cell_type": "code",
   "execution_count": null,
   "metadata": {},
   "outputs": [],
   "source": []
  }
 ],
 "metadata": {
  "kernelspec": {
   "display_name": "Python 3",
   "language": "python",
   "name": "python3"
  },
  "language_info": {
   "codemirror_mode": {
    "name": "ipython",
    "version": 3
   },
   "file_extension": ".py",
   "mimetype": "text/x-python",
   "name": "python",
   "nbconvert_exporter": "python",
   "pygments_lexer": "ipython3",
   "version": "3.6.4"
  }
 },
 "nbformat": 4,
 "nbformat_minor": 2
}
