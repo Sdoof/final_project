{
 "cells": [
  {
   "cell_type": "markdown",
   "metadata": {},
   "source": [
    "## THIS IS THE FOURTH NOTEBOOK FOR THE FINAL PROJECT"
   ]
  },
  {
   "cell_type": "code",
   "execution_count": 1,
   "metadata": {},
   "outputs": [],
   "source": [
    "from tpqoa import tpqoa\n",
    "import numpy as np\n",
    "import pandas as pd\n",
    "import tables as tb\n",
    "import tstables as tstb\n",
    "import pickle\n",
    "import datetime\n",
    "import time\n",
    "import logging\n",
    "import sys\n",
    "sys.path.insert(0, '/root/')\n",
    "from sklearn import linear_model\n",
    "import matplotlib.pyplot as plt\n",
    "plt.style.use('seaborn')\n",
    "%matplotlib inline\n",
    "\n",
    "\n",
    "class tradingstrategy(tpqoa):\n",
    "    '''class for trading strategy using lagged returns, rsi and macd\n",
    "    indicators. Optimised using logistic regression.\n",
    "    '''\n",
    "    def __init__(self, conf_file, instrument):\n",
    "        tpqoa.__init__(self, conf_file)\n",
    "        self.instrument = instrument\n",
    "        self.live_data = pd.DataFrame()\n",
    "        self.position = 0\n",
    "        self.ticks = 0\n",
    "        self.units = 100000\n",
    "        self.rsi_n = 21\n",
    "        self.mom1 = 2\n",
    "        self.mom2 = 5\n",
    "        self.lags = 20\n",
    "        self.model = linear_model.LogisticRegression()\n",
    "        logging.basicConfig(filename=\"tradingstrategy.log\",level=logging.DEBUG,\n",
    "                    format=\"%(asctime)s %(name)s.%(funcName)s +%(lineno)s: %(levelname)-8s %(message)s\", \n",
    "                    datefmt ='%d/%m/%y %I:%M:%S %P')\n",
    "        \n",
    "    def stream_data(self, stop = None):\n",
    "        # self.stoptime = datetime.datetime(2018, 5, 25, 4, 0, 0, 0)\n",
    "        ''' starts a real time Oanda data stream'''\n",
    "        self.ticks = 0\n",
    "        response = self.ctx_stream.pricing.stream(self.account_id, snapshot = True,\n",
    "                                                 instruments = self.instrument)\n",
    "        for msg_type, msg in response.parts():\n",
    "            if msg_type == 'pricing.Price':\n",
    "                self.on_success(msg.time,\n",
    "                              float(msg.bids[0].price),\n",
    "                              float(msg.asks[0].price))\n",
    "                if stop is not None:\n",
    "                    if self.ticks >= stop:\n",
    "                        self.close_out(stop)\n",
    "                        break\n",
    "                            \n",
    "    def on_success(self, time, bid, ask):\n",
    "        '''Method called when new data is received. This updates the on_success\n",
    "        method originally in the tpqoa class inherited by tradingstrategy class\n",
    "        which merely printed and timestamped bid and ask prices'''\n",
    "        self.ticks += 1\n",
    "        if self.ticks % 1 == 0:\n",
    "            print('%3d | '% self.ticks, time, bid, ask)\n",
    "            \n",
    "        self.live_data = self.live_data.append(pd.DataFrame({'bid':bid, \n",
    "                                                             'ask': ask},\n",
    "                                                            index = [pd.Timestamp(time)]))\n",
    "        self.dataresam = self.live_data.resample('5s', label = 'right').last().ffill().iloc[:-1]\n",
    "        self.dataresam['mid'] = self.dataresam.mean(axis=1)\n",
    "        self.dataresam['returns'] = np.log(self.dataresam['mid'] / self.dataresam['mid'].shift(1))\n",
    "        if len(self.dataresam) > 22: # self.mom2: ******************************\n",
    "                                                # *****************************\n",
    "            self.dataresam['RSI'] = self.relative_strength(self.dataresam['mid'], self.rsi_n)\n",
    "            self.dataresam['MACD'] = self.macd(self.dataresam['mid'])\n",
    "            self.dataresam = self.prepare_features(self.dataresam, self.lags)\n",
    "            self.load_model()\n",
    "    \n",
    "    def relative_strength(self, data, rsi_n):\n",
    "        '''Creates RSI feature -\n",
    "        initial RSI value created here'''\n",
    "        abchange = (data - data.shift(1)) # calculate absolute daily change\n",
    "        rsperiod = abchange[:rsi_n + 1]\n",
    "        upday = rsperiod[rsperiod >= 0].sum() / rsi_n # in the RSI period what is the up day change\n",
    "        dnday = -rsperiod[rsperiod < 0].sum() / rsi_n # in the RSI period what is the down day change\n",
    "        rs = upday / dnday # up day change/down day change ratio\n",
    "        rsi = np.zeros_like(data)\n",
    "        rsi[:rsi_n] = 100. - (100. / ( 1. + rs)) # formula for RSI Index calculation\n",
    "        \n",
    "        '''calculates subsequent change in RSI values'''\n",
    "        for i in range(rsi_n, len(data)):\n",
    "            abchg = abchange[i - 1]\n",
    "            if abchg > 0:\n",
    "                upval = abchg\n",
    "                dnval = 0\n",
    "            else:\n",
    "                upval = 0\n",
    "                dnval = abs(abchg)\n",
    "            \n",
    "            # iterate through each daily change proportionally adding it\n",
    "            # to the respective RSI period change\n",
    "            upday = (upday * (rsi_n - 1) + upval) / rsi_n\n",
    "            dnday = (dnday * (rsi_n - 1) + dnval) / rsi_n\n",
    "            \n",
    "            rs = upday / dnday # up day change/down day change ratio\n",
    "            rsi[i] = 100. - (100. / ( 1. + rs)) # formula for RSI Index calculation\n",
    "        rsi = pd.DataFrame(rsi)\n",
    "        rsi.index = data.index\n",
    "        rsi.columns = ['RSI']\n",
    "        return rsi # Return the RSI Index value calculated\n",
    "    \n",
    "    def macd(self, data, slow = 26, fast = 12, signal = 9):\n",
    "        # calculate respective fast and slow exponential moving averages\n",
    "        ema_fast = data.ewm(span = fast).mean()\n",
    "        ema_slow = data.ewm(span = slow).mean()\n",
    "        # MACD line is slow m.a. minus fast m.a.\n",
    "        macd_line = ema_slow - ema_fast\n",
    "        # signal line is 9 day ema of macd line\n",
    "        sig_line = macd_line.ewm(span = signal).mean()\n",
    "        # macd histogram is the macd line minus the signal line\n",
    "        macd_hist = macd_line - sig_line\n",
    "        macd_hist = pd.DataFrame(macd_hist)\n",
    "        macd_hist.columns = ['MACD']\n",
    "        return macd_hist\n",
    "            \n",
    "    def prepare_features(self, df, lagz):\n",
    "        '''creates lagged and momentum features'''\n",
    "        self.cols = []\n",
    "        \n",
    "        #self.features = ['RSI','MACD','Returns']\n",
    "        # add lagged RSI and MACD data, backtest suggests 1\n",
    "        # lagged return only\n",
    "        for feat1 in ['RSI','MACD']:\n",
    "            lag1 = 1\n",
    "            col = '%s_lag_%d' % (feat1, lag1)\n",
    "            df[col] = df[feat1].shift(lag1)\n",
    "            self.cols.append(col)\n",
    "            \n",
    "        # add lagged return data, backtest suggests 20\n",
    "        # lagged returns        \n",
    "        for lag in range(1,lagz + 1):\n",
    "            col = 'Returns_lag_%d' % lag\n",
    "            df[col] = df['returns'].shift(lag)\n",
    "            self.cols.append(col)\n",
    "            \n",
    "        # add short term momentum signal\n",
    "        df['MOM1'] = np.where(df['returns'].rolling(self.mom1).mean() > 0, 1, 0)\n",
    "        df['MOM1'] = df['MOM1'].shift(1)\n",
    "        self.cols.append('MOM1')\n",
    "        # add long term momentum signal\n",
    "        df['MOM2'] = np.where(df['returns'].rolling(self.mom2).mean() > 0, 1, 0)\n",
    "        df['MOM2'] = df['MOM2'].shift(1)\n",
    "        self.cols.append('MOM2')\n",
    "        df.dropna(inplace = True)\n",
    "        return df\n",
    "    \n",
    "    def load_model(self):\n",
    "        LinMod = pickle.load(open('final_model.sav','rb'))\n",
    "        pred = LinMod.predict(self.dataresam[self.cols])\n",
    "        self.dataresam['prediction'] = pred\n",
    "        self.execute_order()\n",
    "        \n",
    "    def execute_order(self):\n",
    "        # Entering long\n",
    "        if self.dataresam['prediction'].iloc[-2] > 0 and self.position == 0:\n",
    "            print('going long')\n",
    "            self.position = 1\n",
    "            self.create_order(self.instrument, self.units)\n",
    "            logging.info('going long | %s | units %4d | ask %0.5f' % \n",
    "                         (self.instrument, self.units, self.dataresam.iloc[-1]['ask']))\n",
    "            \n",
    "        elif self.dataresam['prediction'].iloc[-2] > 0 and self.position == -1:\n",
    "            print('covering short and going long')\n",
    "            self.position = 1\n",
    "            self.create_order(self.instrument, 2 * self.units)\n",
    "            logging.info('covering short and going long | %s | units %4d | ask %0.5f' %\n",
    "                         (self.instrument, self.units, self.dataresam.iloc[-1]['ask']))\n",
    "            \n",
    "        # Entering short\n",
    "        elif self.dataresam['prediction'].iloc[-2] < 0 and self.position == 0:\n",
    "            print('going short')\n",
    "            self.position = -1\n",
    "            self.create_order(self.instrument, units = -self.units)\n",
    "            logging.info('going short | %s | units %4d | bid %0.5f' % \n",
    "                         (self.instrument, self.units, self.dataresam.iloc[-1]['bid']))\n",
    "            \n",
    "        elif self.dataresam['prediction'].iloc[-2] < 0 and self.position == 1:\n",
    "            print('covering long and going short')\n",
    "            self.position = -1\n",
    "            self.create_order(self.instrument, units = -2 * self.units)\n",
    "            logging.info('covering long and going short | %s | units %4d | bid %0.5f' %\n",
    "                         (self.instrument, self.units, self.dataresam.iloc[-1]['bid']))      \n",
    "                \n",
    "    def close_out(self, stop):\n",
    "        if self.ticks >= stop:\n",
    "            logging.info('stop reached')\n",
    "        \n",
    "            # stop reached close out long position\n",
    "            if self.position == 1:\n",
    "                self.create_order(self.instrument, \n",
    "                                  units = -self.units)\n",
    "                logging.info('stop reached - closing long, no open positions| %s | units %4d | bid %0.5f' \n",
    "                             % (self.instrument, self.units, self.dataresam.iloc[-1]['bid']))\n",
    "                print('stop reached - closing long, no open positions') \n",
    "                self.position = 0\n",
    "                \n",
    "            # stop reached close out short position\n",
    "            elif self.position == -1:\n",
    "                self.create_order(self.instrument, units = self.units)\n",
    "                logging.info('stop reached - closing short, no open position| %s | units %4d | ask %0.5f' \n",
    "                             % (self.instrument, self.units, self.dataresam.iloc[-1]['ask']))\n",
    "                print('stop reached - closing short, no open positions')\n",
    "                self.position = 0\n",
    "        \n",
    "            print(15 * '-')\n",
    "            # sys.exit('Trading has stopped')"
   ]
  },
  {
   "cell_type": "code",
   "execution_count": 2,
   "metadata": {},
   "outputs": [],
   "source": [
    "rt = tradingstrategy('/root/pyalgo.cfg','AUD_USD')"
   ]
  },
  {
   "cell_type": "code",
   "execution_count": 3,
   "metadata": {
    "scrolled": false
   },
   "outputs": [
    {
     "name": "stdout",
     "output_type": "stream",
     "text": [
      "  1 |  2018-05-29T01:01:24.353956914Z 0.75464 0.75479\n",
      "  2 |  2018-05-29T01:01:56.184267477Z 0.75461 0.75475\n",
      "  3 |  2018-05-29T01:01:58.894070586Z 0.75457 0.75472\n",
      "  4 |  2018-05-29T01:01:59.483796552Z 0.75454 0.75468\n",
      "  5 |  2018-05-29T01:02:00.187626887Z 0.7546 0.75475\n",
      "  6 |  2018-05-29T01:02:00.507640183Z 0.75467 0.7548\n",
      "  7 |  2018-05-29T01:02:06.763152168Z 0.75463 0.75476\n",
      "  8 |  2018-05-29T01:02:22.320559141Z 0.75468 0.75483\n",
      "  9 |  2018-05-29T01:03:11.030571537Z 0.75474 0.75488\n",
      " 10 |  2018-05-29T01:03:21.570518552Z 0.7547 0.75484\n",
      "going long\n",
      "\n",
      "\n",
      " {'id': '2762', 'time': '2018-05-29T01:03:22.850729953Z', 'userID': 8094291, 'accountID': '101-011-8094291-001', 'batchID': '2761', 'requestID': '60450228942428064', 'type': 'ORDER_FILL', 'orderID': '2761', 'instrument': 'AUD_USD', 'units': '100000.0', 'price': '0.75484', 'fullPrice': {'bids': [{'price': '0.7547', 'liquidity': '10000000'}], 'asks': [{'price': '0.75484', 'liquidity': '10000000'}], 'closeoutBid': '0.75455', 'closeoutAsk': '0.75499', 'timestamp': '2018-05-29T01:03:21.570518552Z'}, 'reason': 'MARKET_ORDER', 'pl': '-1.325', 'financing': '-0.0034', 'commission': '0.0', 'accountBalance': '95780.8349', 'tradesClosed': [{'tradeID': '2758', 'units': '100000.0', 'realizedPL': '-1.325', 'financing': '-0.0034'}]} \n",
      "\n",
      " 11 |  2018-05-29T01:03:23.019841939Z 0.75466 0.7548\n",
      " 12 |  2018-05-29T01:03:23.350729953Z 0.75466 0.7548\n",
      " 13 |  2018-05-29T01:03:23.933520707Z 0.75464 0.75476\n",
      " 14 |  2018-05-29T01:04:05.848024873Z 0.75456 0.75469\n",
      " 15 |  2018-05-29T01:04:19.446408347Z 0.75452 0.75467\n",
      " 16 |  2018-05-29T01:05:00.406733079Z 0.75448 0.75463\n",
      "covering long and going short\n",
      "\n",
      "\n",
      " {'id': '2764', 'time': '2018-05-29T01:05:00.926237842Z', 'userID': 8094291, 'accountID': '101-011-8094291-001', 'batchID': '2763', 'requestID': '60450229353587845', 'type': 'ORDER_FILL', 'orderID': '2763', 'instrument': 'AUD_USD', 'units': '-200000.0', 'price': '0.75448', 'fullPrice': {'bids': [{'price': '0.75448', 'liquidity': '10000000'}], 'asks': [{'price': '0.75463', 'liquidity': '10000000'}], 'closeoutBid': '0.75433', 'closeoutAsk': '0.75478', 'timestamp': '2018-05-29T01:05:00.406733079Z'}, 'reason': 'MARKET_ORDER', 'pl': '0.0', 'financing': '0.0', 'commission': '0.0', 'accountBalance': '95780.8349', 'tradeOpened': {'tradeID': '2764', 'units': '-200000.0'}} \n",
      "\n",
      " 17 |  2018-05-29T01:05:00.926237842Z 0.75448 0.75463\n",
      " 18 |  2018-05-29T01:05:01.426237842Z 0.75448 0.75463\n",
      " 19 |  2018-05-29T01:05:14.854440013Z 0.75442 0.75457\n",
      " 20 |  2018-05-29T01:05:14.869027216Z 0.75443 0.75457\n",
      " 21 |  2018-05-29T01:05:30.153168383Z 0.75436 0.75451\n",
      "covering short and going long\n",
      "\n",
      "\n",
      " {'id': '2766', 'time': '2018-05-29T01:05:30.496949471Z', 'userID': 8094291, 'accountID': '101-011-8094291-001', 'batchID': '2765', 'requestID': '60450229479452249', 'type': 'ORDER_FILL', 'orderID': '2765', 'instrument': 'AUD_USD', 'units': '200000.0', 'price': '0.75451', 'fullPrice': {'bids': [{'price': '0.75436', 'liquidity': '10000000'}], 'asks': [{'price': '0.75451', 'liquidity': '10000000'}], 'closeoutBid': '0.75421', 'closeoutAsk': '0.75466', 'timestamp': '2018-05-29T01:05:30.153168383Z'}, 'reason': 'MARKET_ORDER', 'pl': '-7.9538', 'financing': '-0.0011', 'commission': '0.0', 'accountBalance': '95772.88', 'tradesClosed': [{'tradeID': '2764', 'units': '200000.0', 'realizedPL': '-7.9538', 'financing': '-0.0011'}]} \n",
      "\n",
      " 22 |  2018-05-29T01:05:30.496949471Z 0.75436 0.75451\n",
      " 23 |  2018-05-29T01:05:30.996949471Z 0.75436 0.75451\n",
      " 24 |  2018-05-29T01:05:43.025922668Z 0.75438 0.75452\n",
      " 25 |  2018-05-29T01:05:49.851417265Z 0.75431 0.75446\n",
      "\n",
      "\n",
      " {'id': '2768', 'time': '2018-05-29T01:05:50.310756497Z', 'userID': 8094291, 'accountID': '101-011-8094291-001', 'batchID': '2767', 'requestID': '60450229563361796', 'type': 'ORDER_FILL', 'orderID': '2767', 'instrument': 'AUD_USD', 'units': '-100000.0', 'price': '0.75431', 'fullPrice': {'bids': [{'price': '0.75431', 'liquidity': '10000000'}], 'asks': [{'price': '0.75446', 'liquidity': '10000000'}], 'closeoutBid': '0.75416', 'closeoutAsk': '0.75461', 'timestamp': '2018-05-29T01:05:49.851417265Z'}, 'reason': 'MARKET_ORDER', 'pl': '0.0', 'financing': '0.0', 'commission': '0.0', 'accountBalance': '95772.88', 'tradeOpened': {'tradeID': '2768', 'units': '-100000.0'}} \n",
      "\n",
      "stop reached - closing long, no open positions\n",
      "---------------\n"
     ]
    }
   ],
   "source": [
    "rt.stream_data(stop = 25)"
   ]
  },
  {
   "cell_type": "code",
   "execution_count": 4,
   "metadata": {
    "scrolled": true
   },
   "outputs": [
    {
     "data": {
      "text/plain": [
       "<matplotlib.axes._subplots.AxesSubplot at 0x7f41f2570668>"
      ]
     },
     "execution_count": 4,
     "metadata": {},
     "output_type": "execute_result"
    },
    {
     "data": {
      "image/png": "[encoded data removed]",
      "text/plain": [
       "<Figure size 432x288 with 1 Axes>"
      ]
     },
     "metadata": {},
     "output_type": "display_data"
    }
   ],
   "source": [
    "rt.dataresam['RSI'].plot()"
   ]
  },
  {
   "cell_type": "code",
   "execution_count": 5,
   "metadata": {
    "scrolled": true
   },
   "outputs": [
    {
     "data": {
      "text/plain": [
       "<matplotlib.axes._subplots.AxesSubplot at 0x7f41f04a4c50>"
      ]
     },
     "execution_count": 5,
     "metadata": {},
     "output_type": "execute_result"
    },
    {
     "data": {
      "image/png": "[encoded data removed]",
      "text/plain": [
       "<Figure size 432x288 with 2 Axes>"
      ]
     },
     "metadata": {},
     "output_type": "display_data"
    }
   ],
   "source": [
    "rt.dataresam[['mid','MACD']].plot(secondary_y = 'MACD')"
   ]
  },
  {
   "cell_type": "code",
   "execution_count": 6,
   "metadata": {},
   "outputs": [
    {
     "data": {
      "text/plain": [
       "<matplotlib.axes._subplots.AxesSubplot at 0x7f41f03ddf98>"
      ]
     },
     "execution_count": 6,
     "metadata": {},
     "output_type": "execute_result"
    },
    {
     "data": {
      "image/png": "[encoded data removed]",
      "text/plain": [
       "<Figure size 432x288 with 2 Axes>"
      ]
     },
     "metadata": {},
     "output_type": "display_data"
    }
   ],
   "source": [
    "rt.dataresam[['mid','RSI']].plot(secondary_y='RSI')"
   ]
  },
  {
   "cell_type": "code",
   "execution_count": 7,
   "metadata": {},
   "outputs": [
    {
     "data": {
      "text/html": [
       "<div>\n",
       "<table border=\"1\" class=\"dataframe\">\n",
       "  <thead>\n",
       "    <tr style=\"text-align: right;\">\n",
       "      <th></th>\n",
       "      <th>ask</th>\n",
       "      <th>bid</th>\n",
       "      <th>mid</th>\n",
       "      <th>returns</th>\n",
       "      <th>RSI</th>\n",
       "      <th>MACD</th>\n",
       "      <th>RSI_lag_1</th>\n",
       "      <th>MACD_lag_1</th>\n",
       "      <th>Returns_lag_1</th>\n",
       "      <th>Returns_lag_2</th>\n",
       "      <th>...</th>\n",
       "      <th>Returns_lag_14</th>\n",
       "      <th>Returns_lag_15</th>\n",
       "      <th>Returns_lag_16</th>\n",
       "      <th>Returns_lag_17</th>\n",
       "      <th>Returns_lag_18</th>\n",
       "      <th>Returns_lag_19</th>\n",
       "      <th>Returns_lag_20</th>\n",
       "      <th>MOM1</th>\n",
       "      <th>MOM2</th>\n",
       "      <th>prediction</th>\n",
       "    </tr>\n",
       "  </thead>\n",
       "  <tbody>\n",
       "    <tr>\n",
       "      <th>2018-05-29 01:03:10+00:00</th>\n",
       "      <td>0.75483</td>\n",
       "      <td>0.75468</td>\n",
       "      <td>0.754755</td>\n",
       "      <td>0.000000</td>\n",
       "      <td>56.060606</td>\n",
       "      <td>-1.859477e-06</td>\n",
       "      <td>56.060606</td>\n",
       "      <td>-2.416411e-06</td>\n",
       "      <td>0.000000</td>\n",
       "      <td>0.000000</td>\n",
       "      <td>...</td>\n",
       "      <td>-0.000139</td>\n",
       "      <td>0.000000</td>\n",
       "      <td>0.000000</td>\n",
       "      <td>0.000000</td>\n",
       "      <td>0.000000</td>\n",
       "      <td>0.0</td>\n",
       "      <td>0.0</td>\n",
       "      <td>0.0</td>\n",
       "      <td>0.0</td>\n",
       "      <td>1.0</td>\n",
       "    </tr>\n",
       "    <tr>\n",
       "      <th>2018-05-29 01:03:15+00:00</th>\n",
       "      <td>0.75488</td>\n",
       "      <td>0.75474</td>\n",
       "      <td>0.754810</td>\n",
       "      <td>0.000073</td>\n",
       "      <td>56.060606</td>\n",
       "      <td>-4.329069e-06</td>\n",
       "      <td>56.060606</td>\n",
       "      <td>-1.859477e-06</td>\n",
       "      <td>0.000000</td>\n",
       "      <td>0.000000</td>\n",
       "      <td>...</td>\n",
       "      <td>0.000166</td>\n",
       "      <td>-0.000139</td>\n",
       "      <td>0.000000</td>\n",
       "      <td>0.000000</td>\n",
       "      <td>0.000000</td>\n",
       "      <td>0.0</td>\n",
       "      <td>0.0</td>\n",
       "      <td>0.0</td>\n",
       "      <td>0.0</td>\n",
       "      <td>1.0</td>\n",
       "    </tr>\n",
       "    <tr>\n",
       "      <th>2018-05-29 01:03:20+00:00</th>\n",
       "      <td>0.75488</td>\n",
       "      <td>0.75474</td>\n",
       "      <td>0.754810</td>\n",
       "      <td>0.000000</td>\n",
       "      <td>63.167061</td>\n",
       "      <td>-5.548441e-06</td>\n",
       "      <td>56.060606</td>\n",
       "      <td>-4.329069e-06</td>\n",
       "      <td>0.000073</td>\n",
       "      <td>0.000000</td>\n",
       "      <td>...</td>\n",
       "      <td>-0.000053</td>\n",
       "      <td>0.000166</td>\n",
       "      <td>-0.000139</td>\n",
       "      <td>0.000000</td>\n",
       "      <td>0.000000</td>\n",
       "      <td>0.0</td>\n",
       "      <td>0.0</td>\n",
       "      <td>1.0</td>\n",
       "      <td>1.0</td>\n",
       "      <td>-1.0</td>\n",
       "    </tr>\n",
       "    <tr>\n",
       "      <th>2018-05-29 01:03:25+00:00</th>\n",
       "      <td>0.75476</td>\n",
       "      <td>0.75464</td>\n",
       "      <td>0.754700</td>\n",
       "      <td>-0.000146</td>\n",
       "      <td>63.167061</td>\n",
       "      <td>1.951979e-07</td>\n",
       "      <td>63.167061</td>\n",
       "      <td>-5.548441e-06</td>\n",
       "      <td>0.000000</td>\n",
       "      <td>0.000073</td>\n",
       "      <td>...</td>\n",
       "      <td>0.000000</td>\n",
       "      <td>-0.000053</td>\n",
       "      <td>0.000166</td>\n",
       "      <td>-0.000139</td>\n",
       "      <td>0.000000</td>\n",
       "      <td>0.0</td>\n",
       "      <td>0.0</td>\n",
       "      <td>1.0</td>\n",
       "      <td>1.0</td>\n",
       "      <td>-1.0</td>\n",
       "    </tr>\n",
       "    <tr>\n",
       "      <th>2018-05-29 01:03:30+00:00</th>\n",
       "      <td>0.75476</td>\n",
       "      <td>0.75464</td>\n",
       "      <td>0.754700</td>\n",
       "      <td>0.000000</td>\n",
       "      <td>46.562037</td>\n",
       "      <td>3.850173e-06</td>\n",
       "      <td>63.167061</td>\n",
       "      <td>1.951979e-07</td>\n",
       "      <td>-0.000146</td>\n",
       "      <td>0.000000</td>\n",
       "      <td>...</td>\n",
       "      <td>0.000000</td>\n",
       "      <td>0.000000</td>\n",
       "      <td>-0.000053</td>\n",
       "      <td>0.000166</td>\n",
       "      <td>-0.000139</td>\n",
       "      <td>0.0</td>\n",
       "      <td>0.0</td>\n",
       "      <td>0.0</td>\n",
       "      <td>0.0</td>\n",
       "      <td>1.0</td>\n",
       "    </tr>\n",
       "  </tbody>\n",
       "</table>\n",
       "<p>5 rows × 31 columns</p>\n",
       "</div>"
      ],
      "text/plain": [
       "                               ask      bid       mid   returns        RSI  \\\n",
       "2018-05-29 01:03:10+00:00  0.75483  0.75468  0.754755  0.000000  56.060606   \n",
       "2018-05-29 01:03:15+00:00  0.75488  0.75474  0.754810  0.000073  56.060606   \n",
       "2018-05-29 01:03:20+00:00  0.75488  0.75474  0.754810  0.000000  63.167061   \n",
       "2018-05-29 01:03:25+00:00  0.75476  0.75464  0.754700 -0.000146  63.167061   \n",
       "2018-05-29 01:03:30+00:00  0.75476  0.75464  0.754700  0.000000  46.562037   \n",
       "\n",
       "                                   MACD  RSI_lag_1    MACD_lag_1  \\\n",
       "2018-05-29 01:03:10+00:00 -1.859477e-06  56.060606 -2.416411e-06   \n",
       "2018-05-29 01:03:15+00:00 -4.329069e-06  56.060606 -1.859477e-06   \n",
       "2018-05-29 01:03:20+00:00 -5.548441e-06  56.060606 -4.329069e-06   \n",
       "2018-05-29 01:03:25+00:00  1.951979e-07  63.167061 -5.548441e-06   \n",
       "2018-05-29 01:03:30+00:00  3.850173e-06  63.167061  1.951979e-07   \n",
       "\n",
       "                           Returns_lag_1  Returns_lag_2     ...      \\\n",
       "2018-05-29 01:03:10+00:00       0.000000       0.000000     ...       \n",
       "2018-05-29 01:03:15+00:00       0.000000       0.000000     ...       \n",
       "2018-05-29 01:03:20+00:00       0.000073       0.000000     ...       \n",
       "2018-05-29 01:03:25+00:00       0.000000       0.000073     ...       \n",
       "2018-05-29 01:03:30+00:00      -0.000146       0.000000     ...       \n",
       "\n",
       "                           Returns_lag_14  Returns_lag_15  Returns_lag_16  \\\n",
       "2018-05-29 01:03:10+00:00       -0.000139        0.000000        0.000000   \n",
       "2018-05-29 01:03:15+00:00        0.000166       -0.000139        0.000000   \n",
       "2018-05-29 01:03:20+00:00       -0.000053        0.000166       -0.000139   \n",
       "2018-05-29 01:03:25+00:00        0.000000       -0.000053        0.000166   \n",
       "2018-05-29 01:03:30+00:00        0.000000        0.000000       -0.000053   \n",
       "\n",
       "                           Returns_lag_17  Returns_lag_18  Returns_lag_19  \\\n",
       "2018-05-29 01:03:10+00:00        0.000000        0.000000             0.0   \n",
       "2018-05-29 01:03:15+00:00        0.000000        0.000000             0.0   \n",
       "2018-05-29 01:03:20+00:00        0.000000        0.000000             0.0   \n",
       "2018-05-29 01:03:25+00:00       -0.000139        0.000000             0.0   \n",
       "2018-05-29 01:03:30+00:00        0.000166       -0.000139             0.0   \n",
       "\n",
       "                           Returns_lag_20  MOM1  MOM2  prediction  \n",
       "2018-05-29 01:03:10+00:00             0.0   0.0   0.0         1.0  \n",
       "2018-05-29 01:03:15+00:00             0.0   0.0   0.0         1.0  \n",
       "2018-05-29 01:03:20+00:00             0.0   1.0   1.0        -1.0  \n",
       "2018-05-29 01:03:25+00:00             0.0   1.0   1.0        -1.0  \n",
       "2018-05-29 01:03:30+00:00             0.0   0.0   0.0         1.0  \n",
       "\n",
       "[5 rows x 31 columns]"
      ]
     },
     "execution_count": 7,
     "metadata": {},
     "output_type": "execute_result"
    }
   ],
   "source": [
    "rt.dataresam.head()"
   ]
  },
  {
   "cell_type": "code",
   "execution_count": 8,
   "metadata": {},
   "outputs": [
    {
     "data": {
      "text/plain": [
       "<matplotlib.axes._subplots.AxesSubplot at 0x7f41f030c5f8>"
      ]
     },
     "execution_count": 8,
     "metadata": {},
     "output_type": "execute_result"
    },
    {
     "data": {
      "image/png": "[encoded data removed]",
      "text/plain": [
       "<Figure size 432x288 with 1 Axes>"
      ]
     },
     "metadata": {},
     "output_type": "display_data"
    }
   ],
   "source": [
    "rt.dataresam['prediction'].plot()"
   ]
  },
  {
   "cell_type": "code",
   "execution_count": 9,
   "metadata": {},
   "outputs": [
    {
     "data": {
      "text/plain": [
       "0.75438"
      ]
     },
     "execution_count": 9,
     "metadata": {},
     "output_type": "execute_result"
    }
   ],
   "source": [
    "rt.dataresam.iloc[-1]['bid']"
   ]
  },
  {
   "cell_type": "code",
   "execution_count": 10,
   "metadata": {},
   "outputs": [
    {
     "data": {
      "text/plain": [
       "0.75431"
      ]
     },
     "execution_count": 10,
     "metadata": {},
     "output_type": "execute_result"
    }
   ],
   "source": [
    "rt.live_data.iloc[-1]['bid']"
   ]
  },
  {
   "cell_type": "code",
   "execution_count": null,
   "metadata": {},
   "outputs": [],
   "source": []
  }
 ],
 "metadata": {
  "kernelspec": {
   "display_name": "Python 3",
   "language": "python",
   "name": "python3"
  },
  "language_info": {
   "codemirror_mode": {
    "name": "ipython",
    "version": 3
   },
   "file_extension": ".py",
   "mimetype": "text/x-python",
   "name": "python",
   "nbconvert_exporter": "python",
   "pygments_lexer": "ipython3",
   "version": "3.6.4"
  }
 },
 "nbformat": 4,
 "nbformat_minor": 2
}
