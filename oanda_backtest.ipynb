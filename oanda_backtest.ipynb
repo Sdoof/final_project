{
 "cells": [
  {
   "cell_type": "markdown",
   "metadata": {},
   "source": [
    "## Pull data from HDF5 file"
   ]
  },
  {
   "cell_type": "code",
   "execution_count": 1,
   "metadata": {},
   "outputs": [],
   "source": [
    "import sys\n",
    "sys.path.insert(0, '/root/')"
   ]
  },
  {
   "cell_type": "code",
   "execution_count": 2,
   "metadata": {},
   "outputs": [],
   "source": [
    "from tpqoa import tpqoa\n",
    "import numpy as np\n",
    "import pandas as pd\n",
    "import tables as tb\n",
    "import tstables as tstb\n",
    "%matplotlib inline\n",
    "import matplotlib.pyplot as plt\n",
    "plt.style.use('seaborn')"
   ]
  },
  {
   "cell_type": "code",
   "execution_count": 3,
   "metadata": {},
   "outputs": [],
   "source": [
    "h6 = pd.HDFStore('/root/pyalgocourse/test_project/data_features.h5','r')"
   ]
  },
  {
   "cell_type": "code",
   "execution_count": 4,
   "metadata": {},
   "outputs": [],
   "source": [
    "data = h6['data']"
   ]
  },
  {
   "cell_type": "code",
   "execution_count": 5,
   "metadata": {},
   "outputs": [],
   "source": [
    "h6.close()"
   ]
  },
  {
   "cell_type": "markdown",
   "metadata": {},
   "source": [
    "## Split data into train, validate, test"
   ]
  },
  {
   "cell_type": "code",
   "execution_count": 6,
   "metadata": {},
   "outputs": [
    {
     "data": {
      "text/html": [
       "<div>\n",
       "<table border=\"1\" class=\"dataframe\">\n",
       "  <thead>\n",
       "    <tr style=\"text-align: right;\">\n",
       "      <th></th>\n",
       "      <th>AUDUSD</th>\n",
       "      <th>RSI</th>\n",
       "      <th>MACD</th>\n",
       "      <th>Returns</th>\n",
       "      <th>lag_1</th>\n",
       "      <th>lag_2</th>\n",
       "      <th>lag_3</th>\n",
       "      <th>lag_4</th>\n",
       "      <th>lag_5</th>\n",
       "      <th>lag_6</th>\n",
       "      <th>...</th>\n",
       "      <th>lag_23</th>\n",
       "      <th>lag_24</th>\n",
       "      <th>lag_25</th>\n",
       "      <th>lag_26</th>\n",
       "      <th>lag_27</th>\n",
       "      <th>lag_28</th>\n",
       "      <th>lag_29</th>\n",
       "      <th>lag_30</th>\n",
       "      <th>MOM1</th>\n",
       "      <th>MOM2</th>\n",
       "    </tr>\n",
       "    <tr>\n",
       "      <th>time</th>\n",
       "      <th></th>\n",
       "      <th></th>\n",
       "      <th></th>\n",
       "      <th></th>\n",
       "      <th></th>\n",
       "      <th></th>\n",
       "      <th></th>\n",
       "      <th></th>\n",
       "      <th></th>\n",
       "      <th></th>\n",
       "      <th></th>\n",
       "      <th></th>\n",
       "      <th></th>\n",
       "      <th></th>\n",
       "      <th></th>\n",
       "      <th></th>\n",
       "      <th></th>\n",
       "      <th></th>\n",
       "      <th></th>\n",
       "      <th></th>\n",
       "      <th></th>\n",
       "    </tr>\n",
       "  </thead>\n",
       "  <tbody>\n",
       "    <tr>\n",
       "      <th>2018-01-02 03:10:00</th>\n",
       "      <td>0.78318</td>\n",
       "      <td>63.690322</td>\n",
       "      <td>-0.000410</td>\n",
       "      <td>0.000651</td>\n",
       "      <td>0.000562</td>\n",
       "      <td>0.000102</td>\n",
       "      <td>0.000102</td>\n",
       "      <td>-0.000281</td>\n",
       "      <td>0.000384</td>\n",
       "      <td>-0.000345</td>\n",
       "      <td>...</td>\n",
       "      <td>-0.000474</td>\n",
       "      <td>-0.000192</td>\n",
       "      <td>-0.001293</td>\n",
       "      <td>0.001075</td>\n",
       "      <td>0.000371</td>\n",
       "      <td>-0.000192</td>\n",
       "      <td>0.000026</td>\n",
       "      <td>-0.000064</td>\n",
       "      <td>1.0</td>\n",
       "      <td>0.0</td>\n",
       "    </tr>\n",
       "    <tr>\n",
       "      <th>2018-01-02 03:20:00</th>\n",
       "      <td>0.78318</td>\n",
       "      <td>66.794347</td>\n",
       "      <td>-0.000446</td>\n",
       "      <td>0.000000</td>\n",
       "      <td>0.000651</td>\n",
       "      <td>0.000562</td>\n",
       "      <td>0.000102</td>\n",
       "      <td>0.000102</td>\n",
       "      <td>-0.000281</td>\n",
       "      <td>0.000384</td>\n",
       "      <td>...</td>\n",
       "      <td>-0.000269</td>\n",
       "      <td>-0.000474</td>\n",
       "      <td>-0.000192</td>\n",
       "      <td>-0.001293</td>\n",
       "      <td>0.001075</td>\n",
       "      <td>0.000371</td>\n",
       "      <td>-0.000192</td>\n",
       "      <td>0.000026</td>\n",
       "      <td>1.0</td>\n",
       "      <td>0.0</td>\n",
       "    </tr>\n",
       "    <tr>\n",
       "      <th>2018-01-02 03:30:00</th>\n",
       "      <td>0.78312</td>\n",
       "      <td>66.794347</td>\n",
       "      <td>-0.000465</td>\n",
       "      <td>-0.000077</td>\n",
       "      <td>0.000000</td>\n",
       "      <td>0.000651</td>\n",
       "      <td>0.000562</td>\n",
       "      <td>0.000102</td>\n",
       "      <td>0.000102</td>\n",
       "      <td>-0.000281</td>\n",
       "      <td>...</td>\n",
       "      <td>-0.000321</td>\n",
       "      <td>-0.000269</td>\n",
       "      <td>-0.000474</td>\n",
       "      <td>-0.000192</td>\n",
       "      <td>-0.001293</td>\n",
       "      <td>0.001075</td>\n",
       "      <td>0.000371</td>\n",
       "      <td>-0.000192</td>\n",
       "      <td>1.0</td>\n",
       "      <td>0.0</td>\n",
       "    </tr>\n",
       "    <tr>\n",
       "      <th>2018-01-02 03:40:00</th>\n",
       "      <td>0.78336</td>\n",
       "      <td>66.061838</td>\n",
       "      <td>-0.000493</td>\n",
       "      <td>0.000306</td>\n",
       "      <td>-0.000077</td>\n",
       "      <td>0.000000</td>\n",
       "      <td>0.000651</td>\n",
       "      <td>0.000562</td>\n",
       "      <td>0.000102</td>\n",
       "      <td>0.000102</td>\n",
       "      <td>...</td>\n",
       "      <td>0.000423</td>\n",
       "      <td>-0.000321</td>\n",
       "      <td>-0.000269</td>\n",
       "      <td>-0.000474</td>\n",
       "      <td>-0.000192</td>\n",
       "      <td>-0.001293</td>\n",
       "      <td>0.001075</td>\n",
       "      <td>0.000371</td>\n",
       "      <td>1.0</td>\n",
       "      <td>0.0</td>\n",
       "    </tr>\n",
       "    <tr>\n",
       "      <th>2018-01-02 03:50:00</th>\n",
       "      <td>0.78345</td>\n",
       "      <td>67.556195</td>\n",
       "      <td>-0.000515</td>\n",
       "      <td>0.000115</td>\n",
       "      <td>0.000306</td>\n",
       "      <td>-0.000077</td>\n",
       "      <td>0.000000</td>\n",
       "      <td>0.000651</td>\n",
       "      <td>0.000562</td>\n",
       "      <td>0.000102</td>\n",
       "      <td>...</td>\n",
       "      <td>0.000256</td>\n",
       "      <td>0.000423</td>\n",
       "      <td>-0.000321</td>\n",
       "      <td>-0.000269</td>\n",
       "      <td>-0.000474</td>\n",
       "      <td>-0.000192</td>\n",
       "      <td>-0.001293</td>\n",
       "      <td>0.001075</td>\n",
       "      <td>1.0</td>\n",
       "      <td>0.0</td>\n",
       "    </tr>\n",
       "  </tbody>\n",
       "</table>\n",
       "<p>5 rows × 36 columns</p>\n",
       "</div>"
      ],
      "text/plain": [
       "                      AUDUSD        RSI      MACD   Returns     lag_1  \\\n",
       "time                                                                    \n",
       "2018-01-02 03:10:00  0.78318  63.690322 -0.000410  0.000651  0.000562   \n",
       "2018-01-02 03:20:00  0.78318  66.794347 -0.000446  0.000000  0.000651   \n",
       "2018-01-02 03:30:00  0.78312  66.794347 -0.000465 -0.000077  0.000000   \n",
       "2018-01-02 03:40:00  0.78336  66.061838 -0.000493  0.000306 -0.000077   \n",
       "2018-01-02 03:50:00  0.78345  67.556195 -0.000515  0.000115  0.000306   \n",
       "\n",
       "                        lag_2     lag_3     lag_4     lag_5     lag_6  ...   \\\n",
       "time                                                                   ...    \n",
       "2018-01-02 03:10:00  0.000102  0.000102 -0.000281  0.000384 -0.000345  ...    \n",
       "2018-01-02 03:20:00  0.000562  0.000102  0.000102 -0.000281  0.000384  ...    \n",
       "2018-01-02 03:30:00  0.000651  0.000562  0.000102  0.000102 -0.000281  ...    \n",
       "2018-01-02 03:40:00  0.000000  0.000651  0.000562  0.000102  0.000102  ...    \n",
       "2018-01-02 03:50:00 -0.000077  0.000000  0.000651  0.000562  0.000102  ...    \n",
       "\n",
       "                       lag_23    lag_24    lag_25    lag_26    lag_27  \\\n",
       "time                                                                    \n",
       "2018-01-02 03:10:00 -0.000474 -0.000192 -0.001293  0.001075  0.000371   \n",
       "2018-01-02 03:20:00 -0.000269 -0.000474 -0.000192 -0.001293  0.001075   \n",
       "2018-01-02 03:30:00 -0.000321 -0.000269 -0.000474 -0.000192 -0.001293   \n",
       "2018-01-02 03:40:00  0.000423 -0.000321 -0.000269 -0.000474 -0.000192   \n",
       "2018-01-02 03:50:00  0.000256  0.000423 -0.000321 -0.000269 -0.000474   \n",
       "\n",
       "                       lag_28    lag_29    lag_30  MOM1  MOM2  \n",
       "time                                                           \n",
       "2018-01-02 03:10:00 -0.000192  0.000026 -0.000064   1.0   0.0  \n",
       "2018-01-02 03:20:00  0.000371 -0.000192  0.000026   1.0   0.0  \n",
       "2018-01-02 03:30:00  0.001075  0.000371 -0.000192   1.0   0.0  \n",
       "2018-01-02 03:40:00 -0.001293  0.001075  0.000371   1.0   0.0  \n",
       "2018-01-02 03:50:00 -0.000192 -0.001293  0.001075   1.0   0.0  \n",
       "\n",
       "[5 rows x 36 columns]"
      ]
     },
     "execution_count": 6,
     "metadata": {},
     "output_type": "execute_result"
    }
   ],
   "source": [
    "data.head()"
   ]
  },
  {
   "cell_type": "code",
   "execution_count": 7,
   "metadata": {},
   "outputs": [
    {
     "data": {
      "text/plain": [
       "12077"
      ]
     },
     "execution_count": 7,
     "metadata": {},
     "output_type": "execute_result"
    }
   ],
   "source": [
    "len(data)"
   ]
  },
  {
   "cell_type": "code",
   "execution_count": 8,
   "metadata": {},
   "outputs": [],
   "source": [
    "test = data[9600:]"
   ]
  },
  {
   "cell_type": "code",
   "execution_count": 9,
   "metadata": {},
   "outputs": [],
   "source": [
    "train = data[:7600]\n"
   ]
  },
  {
   "cell_type": "code",
   "execution_count": 10,
   "metadata": {},
   "outputs": [],
   "source": [
    "validate = data[7600:9600]"
   ]
  },
  {
   "cell_type": "code",
   "execution_count": 11,
   "metadata": {},
   "outputs": [],
   "source": [
    "cross_val = data[:9600]"
   ]
  },
  {
   "cell_type": "markdown",
   "metadata": {},
   "source": [
    "## Backtest"
   ]
  },
  {
   "cell_type": "code",
   "execution_count": 12,
   "metadata": {},
   "outputs": [],
   "source": [
    "from sklearn import linear_model\n",
    "# https://www.inovancetech.com/how-to-trade-rsi.html\n",
    "from sklearn import svm"
   ]
  },
  {
   "cell_type": "code",
   "execution_count": 13,
   "metadata": {},
   "outputs": [
    {
     "data": {
      "text/plain": [
       "Index(['RSI', 'MACD', 'lag_1', 'lag_2', 'lag_3', 'lag_4', 'lag_5', 'lag_6',\n",
       "       'lag_7', 'lag_8', 'lag_9', 'lag_10', 'lag_11', 'lag_12', 'lag_13',\n",
       "       'lag_14', 'lag_15', 'lag_16', 'lag_17', 'lag_18', 'lag_19', 'lag_20',\n",
       "       'lag_21', 'lag_22', 'lag_23', 'lag_24', 'lag_25', 'lag_26', 'lag_27',\n",
       "       'lag_28', 'lag_29', 'MOM1', 'MOM2'],\n",
       "      dtype='object')"
      ]
     },
     "execution_count": 13,
     "metadata": {},
     "output_type": "execute_result"
    }
   ],
   "source": [
    "# use this to drop some of the lagged returns, drop none, drop = 30, drop all, drop =0 \n",
    "drop = 29\n",
    "dropped = []\n",
    "for drop in range(drop+1,30+1):\n",
    "    drp = 'lag_%d' % drop\n",
    "    dropped.append(drp)\n",
    "cols = data.columns.drop(dropped)\n",
    "cols = cols.drop(['AUDUSD','Returns'])\n",
    "cols"
   ]
  },
  {
   "cell_type": "code",
   "execution_count": 14,
   "metadata": {},
   "outputs": [
    {
     "data": {
      "text/html": [
       "<div>\n",
       "<table border=\"1\" class=\"dataframe\">\n",
       "  <thead>\n",
       "    <tr style=\"text-align: right;\">\n",
       "      <th></th>\n",
       "      <th>AUDUSD</th>\n",
       "      <th>RSI</th>\n",
       "      <th>MACD</th>\n",
       "      <th>Returns</th>\n",
       "      <th>lag_1</th>\n",
       "      <th>lag_2</th>\n",
       "      <th>lag_3</th>\n",
       "      <th>lag_4</th>\n",
       "      <th>lag_5</th>\n",
       "      <th>lag_6</th>\n",
       "      <th>...</th>\n",
       "      <th>lag_23</th>\n",
       "      <th>lag_24</th>\n",
       "      <th>lag_25</th>\n",
       "      <th>lag_26</th>\n",
       "      <th>lag_27</th>\n",
       "      <th>lag_28</th>\n",
       "      <th>lag_29</th>\n",
       "      <th>lag_30</th>\n",
       "      <th>MOM1</th>\n",
       "      <th>MOM2</th>\n",
       "    </tr>\n",
       "    <tr>\n",
       "      <th>time</th>\n",
       "      <th></th>\n",
       "      <th></th>\n",
       "      <th></th>\n",
       "      <th></th>\n",
       "      <th></th>\n",
       "      <th></th>\n",
       "      <th></th>\n",
       "      <th></th>\n",
       "      <th></th>\n",
       "      <th></th>\n",
       "      <th></th>\n",
       "      <th></th>\n",
       "      <th></th>\n",
       "      <th></th>\n",
       "      <th></th>\n",
       "      <th></th>\n",
       "      <th></th>\n",
       "      <th></th>\n",
       "      <th></th>\n",
       "      <th></th>\n",
       "      <th></th>\n",
       "    </tr>\n",
       "  </thead>\n",
       "  <tbody>\n",
       "    <tr>\n",
       "      <th>2018-01-02 03:10:00</th>\n",
       "      <td>0.78318</td>\n",
       "      <td>63.690322</td>\n",
       "      <td>-0.000410</td>\n",
       "      <td>0.000651</td>\n",
       "      <td>0.000562</td>\n",
       "      <td>0.000102</td>\n",
       "      <td>0.000102</td>\n",
       "      <td>-0.000281</td>\n",
       "      <td>0.000384</td>\n",
       "      <td>-0.000345</td>\n",
       "      <td>...</td>\n",
       "      <td>-0.000474</td>\n",
       "      <td>-0.000192</td>\n",
       "      <td>-0.001293</td>\n",
       "      <td>0.001075</td>\n",
       "      <td>0.000371</td>\n",
       "      <td>-0.000192</td>\n",
       "      <td>0.000026</td>\n",
       "      <td>-0.000064</td>\n",
       "      <td>1.0</td>\n",
       "      <td>0.0</td>\n",
       "    </tr>\n",
       "    <tr>\n",
       "      <th>2018-01-02 03:20:00</th>\n",
       "      <td>0.78318</td>\n",
       "      <td>66.794347</td>\n",
       "      <td>-0.000446</td>\n",
       "      <td>0.000000</td>\n",
       "      <td>0.000651</td>\n",
       "      <td>0.000562</td>\n",
       "      <td>0.000102</td>\n",
       "      <td>0.000102</td>\n",
       "      <td>-0.000281</td>\n",
       "      <td>0.000384</td>\n",
       "      <td>...</td>\n",
       "      <td>-0.000269</td>\n",
       "      <td>-0.000474</td>\n",
       "      <td>-0.000192</td>\n",
       "      <td>-0.001293</td>\n",
       "      <td>0.001075</td>\n",
       "      <td>0.000371</td>\n",
       "      <td>-0.000192</td>\n",
       "      <td>0.000026</td>\n",
       "      <td>1.0</td>\n",
       "      <td>0.0</td>\n",
       "    </tr>\n",
       "    <tr>\n",
       "      <th>2018-01-02 03:30:00</th>\n",
       "      <td>0.78312</td>\n",
       "      <td>66.794347</td>\n",
       "      <td>-0.000465</td>\n",
       "      <td>-0.000077</td>\n",
       "      <td>0.000000</td>\n",
       "      <td>0.000651</td>\n",
       "      <td>0.000562</td>\n",
       "      <td>0.000102</td>\n",
       "      <td>0.000102</td>\n",
       "      <td>-0.000281</td>\n",
       "      <td>...</td>\n",
       "      <td>-0.000321</td>\n",
       "      <td>-0.000269</td>\n",
       "      <td>-0.000474</td>\n",
       "      <td>-0.000192</td>\n",
       "      <td>-0.001293</td>\n",
       "      <td>0.001075</td>\n",
       "      <td>0.000371</td>\n",
       "      <td>-0.000192</td>\n",
       "      <td>1.0</td>\n",
       "      <td>0.0</td>\n",
       "    </tr>\n",
       "    <tr>\n",
       "      <th>2018-01-02 03:40:00</th>\n",
       "      <td>0.78336</td>\n",
       "      <td>66.061838</td>\n",
       "      <td>-0.000493</td>\n",
       "      <td>0.000306</td>\n",
       "      <td>-0.000077</td>\n",
       "      <td>0.000000</td>\n",
       "      <td>0.000651</td>\n",
       "      <td>0.000562</td>\n",
       "      <td>0.000102</td>\n",
       "      <td>0.000102</td>\n",
       "      <td>...</td>\n",
       "      <td>0.000423</td>\n",
       "      <td>-0.000321</td>\n",
       "      <td>-0.000269</td>\n",
       "      <td>-0.000474</td>\n",
       "      <td>-0.000192</td>\n",
       "      <td>-0.001293</td>\n",
       "      <td>0.001075</td>\n",
       "      <td>0.000371</td>\n",
       "      <td>1.0</td>\n",
       "      <td>0.0</td>\n",
       "    </tr>\n",
       "    <tr>\n",
       "      <th>2018-01-02 03:50:00</th>\n",
       "      <td>0.78345</td>\n",
       "      <td>67.556195</td>\n",
       "      <td>-0.000515</td>\n",
       "      <td>0.000115</td>\n",
       "      <td>0.000306</td>\n",
       "      <td>-0.000077</td>\n",
       "      <td>0.000000</td>\n",
       "      <td>0.000651</td>\n",
       "      <td>0.000562</td>\n",
       "      <td>0.000102</td>\n",
       "      <td>...</td>\n",
       "      <td>0.000256</td>\n",
       "      <td>0.000423</td>\n",
       "      <td>-0.000321</td>\n",
       "      <td>-0.000269</td>\n",
       "      <td>-0.000474</td>\n",
       "      <td>-0.000192</td>\n",
       "      <td>-0.001293</td>\n",
       "      <td>0.001075</td>\n",
       "      <td>1.0</td>\n",
       "      <td>0.0</td>\n",
       "    </tr>\n",
       "  </tbody>\n",
       "</table>\n",
       "<p>5 rows × 36 columns</p>\n",
       "</div>"
      ],
      "text/plain": [
       "                      AUDUSD        RSI      MACD   Returns     lag_1  \\\n",
       "time                                                                    \n",
       "2018-01-02 03:10:00  0.78318  63.690322 -0.000410  0.000651  0.000562   \n",
       "2018-01-02 03:20:00  0.78318  66.794347 -0.000446  0.000000  0.000651   \n",
       "2018-01-02 03:30:00  0.78312  66.794347 -0.000465 -0.000077  0.000000   \n",
       "2018-01-02 03:40:00  0.78336  66.061838 -0.000493  0.000306 -0.000077   \n",
       "2018-01-02 03:50:00  0.78345  67.556195 -0.000515  0.000115  0.000306   \n",
       "\n",
       "                        lag_2     lag_3     lag_4     lag_5     lag_6  ...   \\\n",
       "time                                                                   ...    \n",
       "2018-01-02 03:10:00  0.000102  0.000102 -0.000281  0.000384 -0.000345  ...    \n",
       "2018-01-02 03:20:00  0.000562  0.000102  0.000102 -0.000281  0.000384  ...    \n",
       "2018-01-02 03:30:00  0.000651  0.000562  0.000102  0.000102 -0.000281  ...    \n",
       "2018-01-02 03:40:00  0.000000  0.000651  0.000562  0.000102  0.000102  ...    \n",
       "2018-01-02 03:50:00 -0.000077  0.000000  0.000651  0.000562  0.000102  ...    \n",
       "\n",
       "                       lag_23    lag_24    lag_25    lag_26    lag_27  \\\n",
       "time                                                                    \n",
       "2018-01-02 03:10:00 -0.000474 -0.000192 -0.001293  0.001075  0.000371   \n",
       "2018-01-02 03:20:00 -0.000269 -0.000474 -0.000192 -0.001293  0.001075   \n",
       "2018-01-02 03:30:00 -0.000321 -0.000269 -0.000474 -0.000192 -0.001293   \n",
       "2018-01-02 03:40:00  0.000423 -0.000321 -0.000269 -0.000474 -0.000192   \n",
       "2018-01-02 03:50:00  0.000256  0.000423 -0.000321 -0.000269 -0.000474   \n",
       "\n",
       "                       lag_28    lag_29    lag_30  MOM1  MOM2  \n",
       "time                                                           \n",
       "2018-01-02 03:10:00 -0.000192  0.000026 -0.000064   1.0   0.0  \n",
       "2018-01-02 03:20:00  0.000371 -0.000192  0.000026   1.0   0.0  \n",
       "2018-01-02 03:30:00  0.001075  0.000371 -0.000192   1.0   0.0  \n",
       "2018-01-02 03:40:00 -0.001293  0.001075  0.000371   1.0   0.0  \n",
       "2018-01-02 03:50:00 -0.000192 -0.001293  0.001075   1.0   0.0  \n",
       "\n",
       "[5 rows x 36 columns]"
      ]
     },
     "execution_count": 14,
     "metadata": {},
     "output_type": "execute_result"
    }
   ],
   "source": [
    "strat_train = train.copy()\n",
    "strat_train.head()"
   ]
  },
  {
   "cell_type": "code",
   "execution_count": 15,
   "metadata": {},
   "outputs": [],
   "source": [
    "LinMod = linear_model.LogisticRegression(C=1e6)\n",
    "# LinMod = svm.SVC(C = 1, probability = True)"
   ]
  },
  {
   "cell_type": "code",
   "execution_count": 16,
   "metadata": {},
   "outputs": [
    {
     "data": {
      "text/plain": [
       "LogisticRegression(C=1000000.0, class_weight=None, dual=False,\n",
       "          fit_intercept=True, intercept_scaling=1, max_iter=100,\n",
       "          multi_class='ovr', n_jobs=1, penalty='l2', random_state=None,\n",
       "          solver='liblinear', tol=0.0001, verbose=0, warm_start=False)"
      ]
     },
     "execution_count": 16,
     "metadata": {},
     "output_type": "execute_result"
    }
   ],
   "source": [
    "LinMod.fit(strat_train[cols], np.sign(strat_train.loc[:,'Returns']))\n",
    "# LinMod.fit(strat_train[cols],np.sign(strat_train.loc[:,'Returns']))"
   ]
  },
  {
   "cell_type": "code",
   "execution_count": 17,
   "metadata": {},
   "outputs": [],
   "source": [
    "pred = LinMod.predict(strat_train[cols])"
   ]
  },
  {
   "cell_type": "code",
   "execution_count": 18,
   "metadata": {},
   "outputs": [
    {
     "data": {
      "text/plain": [
       "array([-1., -1., -1., ...,  1.,  1.,  1.])"
      ]
     },
     "execution_count": 18,
     "metadata": {},
     "output_type": "execute_result"
    }
   ],
   "source": [
    "pred"
   ]
  },
  {
   "cell_type": "code",
   "execution_count": 19,
   "metadata": {},
   "outputs": [],
   "source": [
    "strat_train.loc[:,'Position'] = pred"
   ]
  },
  {
   "cell_type": "code",
   "execution_count": 20,
   "metadata": {},
   "outputs": [],
   "source": [
    "strat_train.loc[:,'Strategy'] = strat_train.loc[:,'Position'] * strat_train.loc[:,'Returns']"
   ]
  },
  {
   "cell_type": "code",
   "execution_count": 21,
   "metadata": {},
   "outputs": [
    {
     "data": {
      "text/plain": [
       "<matplotlib.axes._subplots.AxesSubplot at 0x7fa42657d588>"
      ]
     },
     "execution_count": 21,
     "metadata": {},
     "output_type": "execute_result"
    },
    {
     "data": {
      "image/png": "[encoded data removed]",
      "text/plain": [
       "<Figure size 720x432 with 1 Axes>"
      ]
     },
     "metadata": {},
     "output_type": "display_data"
    }
   ],
   "source": [
    "strat_train[['Returns','Strategy']].cumsum().apply(np.exp).plot(figsize=(10,6))"
   ]
  },
  {
   "cell_type": "code",
   "execution_count": 22,
   "metadata": {},
   "outputs": [
    {
     "data": {
      "text/plain": [
       "Returns    -0.017112\n",
       "Strategy    0.702695\n",
       "dtype: float64"
      ]
     },
     "execution_count": 22,
     "metadata": {},
     "output_type": "execute_result"
    }
   ],
   "source": [
    "mean = strat_train[['Returns','Strategy']].mean() * 6 * 24 * 252\n",
    "mean"
   ]
  },
  {
   "cell_type": "markdown",
   "metadata": {},
   "source": [
    "## Run model on validation data"
   ]
  },
  {
   "cell_type": "code",
   "execution_count": 23,
   "metadata": {},
   "outputs": [
    {
     "data": {
      "text/html": [
       "<div>\n",
       "<table border=\"1\" class=\"dataframe\">\n",
       "  <thead>\n",
       "    <tr style=\"text-align: right;\">\n",
       "      <th></th>\n",
       "      <th>AUDUSD</th>\n",
       "      <th>RSI</th>\n",
       "      <th>MACD</th>\n",
       "      <th>Returns</th>\n",
       "      <th>lag_1</th>\n",
       "      <th>lag_2</th>\n",
       "      <th>lag_3</th>\n",
       "      <th>lag_4</th>\n",
       "      <th>lag_5</th>\n",
       "      <th>lag_6</th>\n",
       "      <th>...</th>\n",
       "      <th>lag_23</th>\n",
       "      <th>lag_24</th>\n",
       "      <th>lag_25</th>\n",
       "      <th>lag_26</th>\n",
       "      <th>lag_27</th>\n",
       "      <th>lag_28</th>\n",
       "      <th>lag_29</th>\n",
       "      <th>lag_30</th>\n",
       "      <th>MOM1</th>\n",
       "      <th>MOM2</th>\n",
       "    </tr>\n",
       "    <tr>\n",
       "      <th>time</th>\n",
       "      <th></th>\n",
       "      <th></th>\n",
       "      <th></th>\n",
       "      <th></th>\n",
       "      <th></th>\n",
       "      <th></th>\n",
       "      <th></th>\n",
       "      <th></th>\n",
       "      <th></th>\n",
       "      <th></th>\n",
       "      <th></th>\n",
       "      <th></th>\n",
       "      <th></th>\n",
       "      <th></th>\n",
       "      <th></th>\n",
       "      <th></th>\n",
       "      <th></th>\n",
       "      <th></th>\n",
       "      <th></th>\n",
       "      <th></th>\n",
       "      <th></th>\n",
       "    </tr>\n",
       "  </thead>\n",
       "  <tbody>\n",
       "    <tr>\n",
       "      <th>2018-03-15 20:50:00</th>\n",
       "      <td>0.78002</td>\n",
       "      <td>34.726214</td>\n",
       "      <td>0.000444</td>\n",
       "      <td>0.000192</td>\n",
       "      <td>0.000282</td>\n",
       "      <td>-0.000038</td>\n",
       "      <td>-0.000436</td>\n",
       "      <td>-0.000244</td>\n",
       "      <td>0.000192</td>\n",
       "      <td>-0.000320</td>\n",
       "      <td>...</td>\n",
       "      <td>-0.000218</td>\n",
       "      <td>0.000090</td>\n",
       "      <td>-0.000128</td>\n",
       "      <td>-0.000960</td>\n",
       "      <td>-0.000038</td>\n",
       "      <td>-0.000333</td>\n",
       "      <td>0.000243</td>\n",
       "      <td>0.000026</td>\n",
       "      <td>1.0</td>\n",
       "      <td>0.0</td>\n",
       "    </tr>\n",
       "    <tr>\n",
       "      <th>2018-03-15 21:00:00</th>\n",
       "      <td>0.77989</td>\n",
       "      <td>37.003615</td>\n",
       "      <td>0.000421</td>\n",
       "      <td>-0.000167</td>\n",
       "      <td>0.000192</td>\n",
       "      <td>0.000282</td>\n",
       "      <td>-0.000038</td>\n",
       "      <td>-0.000436</td>\n",
       "      <td>-0.000244</td>\n",
       "      <td>0.000192</td>\n",
       "      <td>...</td>\n",
       "      <td>0.000167</td>\n",
       "      <td>-0.000218</td>\n",
       "      <td>0.000090</td>\n",
       "      <td>-0.000128</td>\n",
       "      <td>-0.000960</td>\n",
       "      <td>-0.000038</td>\n",
       "      <td>-0.000333</td>\n",
       "      <td>0.000243</td>\n",
       "      <td>1.0</td>\n",
       "      <td>0.0</td>\n",
       "    </tr>\n",
       "    <tr>\n",
       "      <th>2018-03-15 21:10:00</th>\n",
       "      <td>0.78021</td>\n",
       "      <td>35.864908</td>\n",
       "      <td>0.000372</td>\n",
       "      <td>0.000410</td>\n",
       "      <td>-0.000167</td>\n",
       "      <td>0.000192</td>\n",
       "      <td>0.000282</td>\n",
       "      <td>-0.000038</td>\n",
       "      <td>-0.000436</td>\n",
       "      <td>-0.000244</td>\n",
       "      <td>...</td>\n",
       "      <td>0.000256</td>\n",
       "      <td>0.000167</td>\n",
       "      <td>-0.000218</td>\n",
       "      <td>0.000090</td>\n",
       "      <td>-0.000128</td>\n",
       "      <td>-0.000960</td>\n",
       "      <td>-0.000038</td>\n",
       "      <td>-0.000333</td>\n",
       "      <td>0.0</td>\n",
       "      <td>0.0</td>\n",
       "    </tr>\n",
       "    <tr>\n",
       "      <th>2018-03-15 21:20:00</th>\n",
       "      <td>0.77993</td>\n",
       "      <td>40.590129</td>\n",
       "      <td>0.000353</td>\n",
       "      <td>-0.000359</td>\n",
       "      <td>0.000410</td>\n",
       "      <td>-0.000167</td>\n",
       "      <td>0.000192</td>\n",
       "      <td>0.000282</td>\n",
       "      <td>-0.000038</td>\n",
       "      <td>-0.000436</td>\n",
       "      <td>...</td>\n",
       "      <td>0.000064</td>\n",
       "      <td>0.000256</td>\n",
       "      <td>0.000167</td>\n",
       "      <td>-0.000218</td>\n",
       "      <td>0.000090</td>\n",
       "      <td>-0.000128</td>\n",
       "      <td>-0.000960</td>\n",
       "      <td>-0.000038</td>\n",
       "      <td>1.0</td>\n",
       "      <td>0.0</td>\n",
       "    </tr>\n",
       "    <tr>\n",
       "      <th>2018-03-15 21:30:00</th>\n",
       "      <td>0.77993</td>\n",
       "      <td>38.016778</td>\n",
       "      <td>0.000333</td>\n",
       "      <td>0.000000</td>\n",
       "      <td>-0.000359</td>\n",
       "      <td>0.000410</td>\n",
       "      <td>-0.000167</td>\n",
       "      <td>0.000192</td>\n",
       "      <td>0.000282</td>\n",
       "      <td>-0.000038</td>\n",
       "      <td>...</td>\n",
       "      <td>0.000231</td>\n",
       "      <td>0.000064</td>\n",
       "      <td>0.000256</td>\n",
       "      <td>0.000167</td>\n",
       "      <td>-0.000218</td>\n",
       "      <td>0.000090</td>\n",
       "      <td>-0.000128</td>\n",
       "      <td>-0.000960</td>\n",
       "      <td>0.0</td>\n",
       "      <td>0.0</td>\n",
       "    </tr>\n",
       "  </tbody>\n",
       "</table>\n",
       "<p>5 rows × 36 columns</p>\n",
       "</div>"
      ],
      "text/plain": [
       "                      AUDUSD        RSI      MACD   Returns     lag_1  \\\n",
       "time                                                                    \n",
       "2018-03-15 20:50:00  0.78002  34.726214  0.000444  0.000192  0.000282   \n",
       "2018-03-15 21:00:00  0.77989  37.003615  0.000421 -0.000167  0.000192   \n",
       "2018-03-15 21:10:00  0.78021  35.864908  0.000372  0.000410 -0.000167   \n",
       "2018-03-15 21:20:00  0.77993  40.590129  0.000353 -0.000359  0.000410   \n",
       "2018-03-15 21:30:00  0.77993  38.016778  0.000333  0.000000 -0.000359   \n",
       "\n",
       "                        lag_2     lag_3     lag_4     lag_5     lag_6  ...   \\\n",
       "time                                                                   ...    \n",
       "2018-03-15 20:50:00 -0.000038 -0.000436 -0.000244  0.000192 -0.000320  ...    \n",
       "2018-03-15 21:00:00  0.000282 -0.000038 -0.000436 -0.000244  0.000192  ...    \n",
       "2018-03-15 21:10:00  0.000192  0.000282 -0.000038 -0.000436 -0.000244  ...    \n",
       "2018-03-15 21:20:00 -0.000167  0.000192  0.000282 -0.000038 -0.000436  ...    \n",
       "2018-03-15 21:30:00  0.000410 -0.000167  0.000192  0.000282 -0.000038  ...    \n",
       "\n",
       "                       lag_23    lag_24    lag_25    lag_26    lag_27  \\\n",
       "time                                                                    \n",
       "2018-03-15 20:50:00 -0.000218  0.000090 -0.000128 -0.000960 -0.000038   \n",
       "2018-03-15 21:00:00  0.000167 -0.000218  0.000090 -0.000128 -0.000960   \n",
       "2018-03-15 21:10:00  0.000256  0.000167 -0.000218  0.000090 -0.000128   \n",
       "2018-03-15 21:20:00  0.000064  0.000256  0.000167 -0.000218  0.000090   \n",
       "2018-03-15 21:30:00  0.000231  0.000064  0.000256  0.000167 -0.000218   \n",
       "\n",
       "                       lag_28    lag_29    lag_30  MOM1  MOM2  \n",
       "time                                                           \n",
       "2018-03-15 20:50:00 -0.000333  0.000243  0.000026   1.0   0.0  \n",
       "2018-03-15 21:00:00 -0.000038 -0.000333  0.000243   1.0   0.0  \n",
       "2018-03-15 21:10:00 -0.000960 -0.000038 -0.000333   0.0   0.0  \n",
       "2018-03-15 21:20:00 -0.000128 -0.000960 -0.000038   1.0   0.0  \n",
       "2018-03-15 21:30:00  0.000090 -0.000128 -0.000960   0.0   0.0  \n",
       "\n",
       "[5 rows x 36 columns]"
      ]
     },
     "execution_count": 23,
     "metadata": {},
     "output_type": "execute_result"
    }
   ],
   "source": [
    "strat_valid = validate.copy()\n",
    "strat_valid.head()"
   ]
  },
  {
   "cell_type": "code",
   "execution_count": 24,
   "metadata": {},
   "outputs": [],
   "source": [
    "pred = LinMod.predict(strat_valid[cols])"
   ]
  },
  {
   "cell_type": "code",
   "execution_count": 25,
   "metadata": {},
   "outputs": [],
   "source": [
    "strat_valid.loc[:,'Position'] = pred"
   ]
  },
  {
   "cell_type": "code",
   "execution_count": 26,
   "metadata": {},
   "outputs": [],
   "source": [
    "strat_valid.loc[:,'Strategy'] = strat_valid.loc[:,'Position'] * strat_valid.loc[:,'Returns']"
   ]
  },
  {
   "cell_type": "code",
   "execution_count": 27,
   "metadata": {},
   "outputs": [
    {
     "data": {
      "text/plain": [
       "<matplotlib.axes._subplots.AxesSubplot at 0x7fa4261c2128>"
      ]
     },
     "execution_count": 27,
     "metadata": {},
     "output_type": "execute_result"
    },
    {
     "data": {
      "image/png": "[encoded data removed]",
      "text/plain": [
       "<Figure size 720x432 with 1 Axes>"
      ]
     },
     "metadata": {},
     "output_type": "display_data"
    }
   ],
   "source": [
    "strat_valid[['Returns','Strategy']].cumsum().apply(np.exp).plot(figsize=(10,6))"
   ]
  },
  {
   "cell_type": "code",
   "execution_count": 28,
   "metadata": {},
   "outputs": [
    {
     "data": {
      "text/plain": [
       "Returns    -0.219553\n",
       "Strategy    0.518439\n",
       "dtype: float64"
      ]
     },
     "execution_count": 28,
     "metadata": {},
     "output_type": "execute_result"
    }
   ],
   "source": [
    "mean = strat_valid[['Returns','Strategy']].mean() * 6 * 24 * 252\n",
    "mean"
   ]
  },
  {
   "cell_type": "markdown",
   "metadata": {},
   "source": [
    "## Cross validate the model using Scikit - learn"
   ]
  },
  {
   "cell_type": "code",
   "execution_count": 29,
   "metadata": {},
   "outputs": [
    {
     "data": {
      "text/html": [
       "<div>\n",
       "<table border=\"1\" class=\"dataframe\">\n",
       "  <thead>\n",
       "    <tr style=\"text-align: right;\">\n",
       "      <th></th>\n",
       "      <th>AUDUSD</th>\n",
       "      <th>RSI</th>\n",
       "      <th>MACD</th>\n",
       "      <th>Returns</th>\n",
       "      <th>lag_1</th>\n",
       "      <th>lag_2</th>\n",
       "      <th>lag_3</th>\n",
       "      <th>lag_4</th>\n",
       "      <th>lag_5</th>\n",
       "      <th>lag_6</th>\n",
       "      <th>...</th>\n",
       "      <th>lag_23</th>\n",
       "      <th>lag_24</th>\n",
       "      <th>lag_25</th>\n",
       "      <th>lag_26</th>\n",
       "      <th>lag_27</th>\n",
       "      <th>lag_28</th>\n",
       "      <th>lag_29</th>\n",
       "      <th>lag_30</th>\n",
       "      <th>MOM1</th>\n",
       "      <th>MOM2</th>\n",
       "    </tr>\n",
       "    <tr>\n",
       "      <th>time</th>\n",
       "      <th></th>\n",
       "      <th></th>\n",
       "      <th></th>\n",
       "      <th></th>\n",
       "      <th></th>\n",
       "      <th></th>\n",
       "      <th></th>\n",
       "      <th></th>\n",
       "      <th></th>\n",
       "      <th></th>\n",
       "      <th></th>\n",
       "      <th></th>\n",
       "      <th></th>\n",
       "      <th></th>\n",
       "      <th></th>\n",
       "      <th></th>\n",
       "      <th></th>\n",
       "      <th></th>\n",
       "      <th></th>\n",
       "      <th></th>\n",
       "      <th></th>\n",
       "    </tr>\n",
       "  </thead>\n",
       "  <tbody>\n",
       "    <tr>\n",
       "      <th>2018-01-02 03:10:00</th>\n",
       "      <td>0.78318</td>\n",
       "      <td>63.690322</td>\n",
       "      <td>-0.000410</td>\n",
       "      <td>0.000651</td>\n",
       "      <td>0.000562</td>\n",
       "      <td>0.000102</td>\n",
       "      <td>0.000102</td>\n",
       "      <td>-0.000281</td>\n",
       "      <td>0.000384</td>\n",
       "      <td>-0.000345</td>\n",
       "      <td>...</td>\n",
       "      <td>-0.000474</td>\n",
       "      <td>-0.000192</td>\n",
       "      <td>-0.001293</td>\n",
       "      <td>0.001075</td>\n",
       "      <td>0.000371</td>\n",
       "      <td>-0.000192</td>\n",
       "      <td>0.000026</td>\n",
       "      <td>-0.000064</td>\n",
       "      <td>1.0</td>\n",
       "      <td>0.0</td>\n",
       "    </tr>\n",
       "    <tr>\n",
       "      <th>2018-01-02 03:20:00</th>\n",
       "      <td>0.78318</td>\n",
       "      <td>66.794347</td>\n",
       "      <td>-0.000446</td>\n",
       "      <td>0.000000</td>\n",
       "      <td>0.000651</td>\n",
       "      <td>0.000562</td>\n",
       "      <td>0.000102</td>\n",
       "      <td>0.000102</td>\n",
       "      <td>-0.000281</td>\n",
       "      <td>0.000384</td>\n",
       "      <td>...</td>\n",
       "      <td>-0.000269</td>\n",
       "      <td>-0.000474</td>\n",
       "      <td>-0.000192</td>\n",
       "      <td>-0.001293</td>\n",
       "      <td>0.001075</td>\n",
       "      <td>0.000371</td>\n",
       "      <td>-0.000192</td>\n",
       "      <td>0.000026</td>\n",
       "      <td>1.0</td>\n",
       "      <td>0.0</td>\n",
       "    </tr>\n",
       "    <tr>\n",
       "      <th>2018-01-02 03:30:00</th>\n",
       "      <td>0.78312</td>\n",
       "      <td>66.794347</td>\n",
       "      <td>-0.000465</td>\n",
       "      <td>-0.000077</td>\n",
       "      <td>0.000000</td>\n",
       "      <td>0.000651</td>\n",
       "      <td>0.000562</td>\n",
       "      <td>0.000102</td>\n",
       "      <td>0.000102</td>\n",
       "      <td>-0.000281</td>\n",
       "      <td>...</td>\n",
       "      <td>-0.000321</td>\n",
       "      <td>-0.000269</td>\n",
       "      <td>-0.000474</td>\n",
       "      <td>-0.000192</td>\n",
       "      <td>-0.001293</td>\n",
       "      <td>0.001075</td>\n",
       "      <td>0.000371</td>\n",
       "      <td>-0.000192</td>\n",
       "      <td>1.0</td>\n",
       "      <td>0.0</td>\n",
       "    </tr>\n",
       "    <tr>\n",
       "      <th>2018-01-02 03:40:00</th>\n",
       "      <td>0.78336</td>\n",
       "      <td>66.061838</td>\n",
       "      <td>-0.000493</td>\n",
       "      <td>0.000306</td>\n",
       "      <td>-0.000077</td>\n",
       "      <td>0.000000</td>\n",
       "      <td>0.000651</td>\n",
       "      <td>0.000562</td>\n",
       "      <td>0.000102</td>\n",
       "      <td>0.000102</td>\n",
       "      <td>...</td>\n",
       "      <td>0.000423</td>\n",
       "      <td>-0.000321</td>\n",
       "      <td>-0.000269</td>\n",
       "      <td>-0.000474</td>\n",
       "      <td>-0.000192</td>\n",
       "      <td>-0.001293</td>\n",
       "      <td>0.001075</td>\n",
       "      <td>0.000371</td>\n",
       "      <td>1.0</td>\n",
       "      <td>0.0</td>\n",
       "    </tr>\n",
       "    <tr>\n",
       "      <th>2018-01-02 03:50:00</th>\n",
       "      <td>0.78345</td>\n",
       "      <td>67.556195</td>\n",
       "      <td>-0.000515</td>\n",
       "      <td>0.000115</td>\n",
       "      <td>0.000306</td>\n",
       "      <td>-0.000077</td>\n",
       "      <td>0.000000</td>\n",
       "      <td>0.000651</td>\n",
       "      <td>0.000562</td>\n",
       "      <td>0.000102</td>\n",
       "      <td>...</td>\n",
       "      <td>0.000256</td>\n",
       "      <td>0.000423</td>\n",
       "      <td>-0.000321</td>\n",
       "      <td>-0.000269</td>\n",
       "      <td>-0.000474</td>\n",
       "      <td>-0.000192</td>\n",
       "      <td>-0.001293</td>\n",
       "      <td>0.001075</td>\n",
       "      <td>1.0</td>\n",
       "      <td>0.0</td>\n",
       "    </tr>\n",
       "  </tbody>\n",
       "</table>\n",
       "<p>5 rows × 36 columns</p>\n",
       "</div>"
      ],
      "text/plain": [
       "                      AUDUSD        RSI      MACD   Returns     lag_1  \\\n",
       "time                                                                    \n",
       "2018-01-02 03:10:00  0.78318  63.690322 -0.000410  0.000651  0.000562   \n",
       "2018-01-02 03:20:00  0.78318  66.794347 -0.000446  0.000000  0.000651   \n",
       "2018-01-02 03:30:00  0.78312  66.794347 -0.000465 -0.000077  0.000000   \n",
       "2018-01-02 03:40:00  0.78336  66.061838 -0.000493  0.000306 -0.000077   \n",
       "2018-01-02 03:50:00  0.78345  67.556195 -0.000515  0.000115  0.000306   \n",
       "\n",
       "                        lag_2     lag_3     lag_4     lag_5     lag_6  ...   \\\n",
       "time                                                                   ...    \n",
       "2018-01-02 03:10:00  0.000102  0.000102 -0.000281  0.000384 -0.000345  ...    \n",
       "2018-01-02 03:20:00  0.000562  0.000102  0.000102 -0.000281  0.000384  ...    \n",
       "2018-01-02 03:30:00  0.000651  0.000562  0.000102  0.000102 -0.000281  ...    \n",
       "2018-01-02 03:40:00  0.000000  0.000651  0.000562  0.000102  0.000102  ...    \n",
       "2018-01-02 03:50:00 -0.000077  0.000000  0.000651  0.000562  0.000102  ...    \n",
       "\n",
       "                       lag_23    lag_24    lag_25    lag_26    lag_27  \\\n",
       "time                                                                    \n",
       "2018-01-02 03:10:00 -0.000474 -0.000192 -0.001293  0.001075  0.000371   \n",
       "2018-01-02 03:20:00 -0.000269 -0.000474 -0.000192 -0.001293  0.001075   \n",
       "2018-01-02 03:30:00 -0.000321 -0.000269 -0.000474 -0.000192 -0.001293   \n",
       "2018-01-02 03:40:00  0.000423 -0.000321 -0.000269 -0.000474 -0.000192   \n",
       "2018-01-02 03:50:00  0.000256  0.000423 -0.000321 -0.000269 -0.000474   \n",
       "\n",
       "                       lag_28    lag_29    lag_30  MOM1  MOM2  \n",
       "time                                                           \n",
       "2018-01-02 03:10:00 -0.000192  0.000026 -0.000064   1.0   0.0  \n",
       "2018-01-02 03:20:00  0.000371 -0.000192  0.000026   1.0   0.0  \n",
       "2018-01-02 03:30:00  0.001075  0.000371 -0.000192   1.0   0.0  \n",
       "2018-01-02 03:40:00 -0.001293  0.001075  0.000371   1.0   0.0  \n",
       "2018-01-02 03:50:00 -0.000192 -0.001293  0.001075   1.0   0.0  \n",
       "\n",
       "[5 rows x 36 columns]"
      ]
     },
     "execution_count": 29,
     "metadata": {},
     "output_type": "execute_result"
    }
   ],
   "source": [
    "strat_crssval = cross_val.copy()\n",
    "strat_crssval.head()"
   ]
  },
  {
   "cell_type": "code",
   "execution_count": 30,
   "metadata": {},
   "outputs": [],
   "source": [
    "# cross validation: estimating estimator performance"
   ]
  },
  {
   "cell_type": "code",
   "execution_count": 31,
   "metadata": {},
   "outputs": [],
   "source": [
    "# Learning the parameters of a prediction function and testing it on the same data \n",
    "# is a methodological mistake: a model that would just repeat the labels of the \n",
    "# samples that it has just seen would have a perfect score but would fail to predict \n",
    "# anything useful on yet-unseen data. This situation is called overfitting. To avoid \n",
    "# it, it is common practice when performing a (supervised) machine learning experiment \n",
    "# to hold out part of the available data as a test set X_test, y_test"
   ]
  },
  {
   "cell_type": "code",
   "execution_count": 32,
   "metadata": {},
   "outputs": [
    {
     "name": "stderr",
     "output_type": "stream",
     "text": [
      "/root/miniconda3/lib/python3.6/site-packages/sklearn/model_selection/_split.py:2026: FutureWarning: From version 0.21, test_size will always complement train_size unless both are specified.\n",
      "  FutureWarning)\n"
     ]
    },
    {
     "data": {
      "text/plain": [
       "(0.639375, 0.5027083333333333)"
      ]
     },
     "execution_count": 32,
     "metadata": {},
     "output_type": "execute_result"
    }
   ],
   "source": [
    "from sklearn.model_selection import train_test_split\n",
    "# split the data with 50% in each set\n",
    "x_train, x_test, y_train, y_test = train_test_split(strat_crssval[cols], np.sign(strat_crssval.loc[:,'Returns']),\n",
    "                                  random_state = 0, train_size = 0.5)\n",
    "\n",
    "# check train data\n",
    "x_train.shape, y_train.shape\n",
    "# check test data\n",
    "x_test.shape, y_test.shape\n",
    "\n",
    "# fit and evaluate the model on the second set of data\n",
    "LinMod.fit(x_train, y_train).score(x_test,y_test), LinMod.fit(x_test, y_test).score(x_train, y_train)\n",
    "#y2_model = LinMod.fit(x2, y2).predict(x1)\n",
    "#accuracy_score(y1, y1_model), accuracy_score(y2, y2_model)"
   ]
  },
  {
   "cell_type": "code",
   "execution_count": 33,
   "metadata": {},
   "outputs": [],
   "source": [
    "# Five fold cross validation"
   ]
  },
  {
   "cell_type": "code",
   "execution_count": 34,
   "metadata": {},
   "outputs": [],
   "source": [
    "from sklearn.model_selection import cross_val_score"
   ]
  },
  {
   "cell_type": "code",
   "execution_count": 35,
   "metadata": {},
   "outputs": [],
   "source": [
    "# here we complete a five fold cross validation, whereby we split the\n",
    "# data into five groups and use each group to evaluate the model fit \n",
    "# other four fifths of the data"
   ]
  },
  {
   "cell_type": "code",
   "execution_count": 36,
   "metadata": {},
   "outputs": [
    {
     "data": {
      "text/plain": [
       "array([0.6024974 , 0.65      , 0.609375  , 0.60031266, 0.5383012 ])"
      ]
     },
     "execution_count": 36,
     "metadata": {},
     "output_type": "execute_result"
    }
   ],
   "source": [
    "scores = cross_val_score(LinMod,strat_crssval[cols], np.sign(strat_crssval.loc[:,'Returns']),cv =5)\n",
    "scores"
   ]
  },
  {
   "cell_type": "code",
   "execution_count": 37,
   "metadata": {},
   "outputs": [
    {
     "name": "stdout",
     "output_type": "stream",
     "text": [
      "Accuracy: 0.600 (+/- 0.04)\n"
     ]
    }
   ],
   "source": [
    "print(\"Accuracy: %0.3f (+/- %0.2f)\" % (scores.mean(), scores.std()))\n"
   ]
  },
  {
   "cell_type": "code",
   "execution_count": null,
   "metadata": {},
   "outputs": [],
   "source": []
  },
  {
   "cell_type": "code",
   "execution_count": null,
   "metadata": {},
   "outputs": [],
   "source": []
  },
  {
   "cell_type": "code",
   "execution_count": null,
   "metadata": {},
   "outputs": [],
   "source": []
  }
 ],
 "metadata": {
  "kernelspec": {
   "display_name": "Python 3",
   "language": "python",
   "name": "python3"
  },
  "language_info": {
   "codemirror_mode": {
    "name": "ipython",
    "version": 3
   },
   "file_extension": ".py",
   "mimetype": "text/x-python",
   "name": "python",
   "nbconvert_exporter": "python",
   "pygments_lexer": "ipython3",
   "version": "3.6.4"
  }
 },
 "nbformat": 4,
 "nbformat_minor": 2
}
