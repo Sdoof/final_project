{
 "cells": [
  {
   "cell_type": "code",
   "execution_count": 1,
   "metadata": {},
   "outputs": [],
   "source": [
    "from tpqoa import tpqoa\n",
    "\n",
    "import numpy as np\n",
    "import pandas as pd\n",
    "\n",
    "import tables as tb\n",
    "import tstables as tstb\n",
    "import pickle\n",
    "\n",
    "import datetime\n",
    "import time\n",
    "\n",
    "from sklearn import linear_model\n",
    "\n",
    "import matplotlib.pyplot as plt\n",
    "plt.style.use('seaborn')\n",
    "%matplotlib inline"
   ]
  },
  {
   "cell_type": "code",
   "execution_count": null,
   "metadata": {},
   "outputs": [],
   "source": [
    "class tradingstrategy(tpqoa):\n",
    "    '''class for trading strategy using lagged returns, rsi and macd\n",
    "    indicators. Optimised using logistic regression.\n",
    "    '''\n",
    "    def __init__(self, conf_file, instrument):\n",
    "        tpqoa.__init__(self, conf_file)\n",
    "        self.instrument = instrument\n",
    "        self.live_data = pd.DataFrame\n",
    "        self.position = 0\n",
    "        self.ticks = 0\n",
    "        self.units = 100000\n",
    "        \n",
    "    def relative_strength(self, data, n = 21):\n",
    "     \n",
    "    abchange = (data - data.shift(1))\n",
    "    rsperiod = abchange[:n + 1]\n",
    "    upday = rsperiod[rsperiod >= 0].sum() / n\n",
    "    dnday = -rsperiod[rsperiod < 0].sum() / n\n",
    "    rs = upday / dnday\n",
    "    rsi = np.zeros_like(data)\n",
    "    rsi[:n] = 100. - (100. / ( 1. + rs))\n",
    "    \n",
    "    for i in range(n, len(data)):\n",
    "        abchg = abchange[i - 1]\n",
    "        if abchg > 0:\n",
    "            upval = abchg\n",
    "            dnval = 0\n",
    "        else:\n",
    "            upval = 0\n",
    "            dnval = abs(abchg)\n",
    "            \n",
    "        upday = (upday * (n - 1) + upval) / n\n",
    "        dnday = (dnday * (n - 1) + dnval) / n\n",
    "        \n",
    "        rs = upday / dnday\n",
    "        rsi[i] = 100. - (100. / ( 1. + rs))\n",
    "        \n",
    "    \n",
    "    rsi = pd.DataFrame(rsi)\n",
    "    rsi.index = fulldata_copy.index\n",
    "    rsi.columns = ['RSI']\n",
    "    return rsi\n",
    "\n",
    "    def macd(self):\n",
    "        pass\n",
    "        # fulldata_copy['MACD'] = fulldata_copy['AUDUSD'].ewm(span = 26).mean() \n",
    "        # - fulldata_copy['AUDUSD'].ewm(span = 12).mean()\n",
    "        "
   ]
  }
 ],
 "metadata": {
  "kernelspec": {
   "display_name": "Python 3",
   "language": "python",
   "name": "python3"
  },
  "language_info": {
   "codemirror_mode": {
    "name": "ipython",
    "version": 3
   },
   "file_extension": ".py",
   "mimetype": "text/x-python",
   "name": "python",
   "nbconvert_exporter": "python",
   "pygments_lexer": "ipython3",
   "version": "3.6.4"
  }
 },
 "nbformat": 4,
 "nbformat_minor": 2
}
