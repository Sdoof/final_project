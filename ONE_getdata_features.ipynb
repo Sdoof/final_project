{
 "cells": [
  {
   "cell_type": "markdown",
   "metadata": {},
   "source": [
    "## THIS IS THE FIRST NOTEBOOK FOR THE FINAL PROJECT"
   ]
  },
  {
   "cell_type": "code",
   "execution_count": 1,
   "metadata": {},
   "outputs": [],
   "source": [
    "# A. downloads data from Oanda (2. Connect to the Oanda API and download data)\n",
    "#    and saves to an HDF5 file (3. Store dataseries fulldata with HDF5) called\n",
    "#   'data.h5'\n",
    "# B. to avoid having to download data from Oanda start running notebook\n",
    "#    from number (4. start with data saved from HDF5 file) which accesses\n",
    "#    the data previously saved in (2. Connect to the Oanda API and download data).\n",
    "# C. calculates features (5. Calculate features for data) - RSI and MACD using\n",
    "#    functions and then...\n",
    "# D. calculates lagged variables (6. Creates lagged data for the features RSI, \n",
    "#    MACD and Returns) for RSI, MACD and Returns\n",
    "# E. (7. Create a short and long term momentum signal) also creates two \n",
    "#    momentum features (short and long term)\n",
    "# F. Finally all the data and features are saved in a file 'data_\n",
    "#    features.h5' for later use in the backtesting notebooks (8. store the \n",
    "#    data and features in an HDF5 file 'data_features.h5')"
   ]
  },
  {
   "cell_type": "markdown",
   "metadata": {},
   "source": [
    "## 1. Imports"
   ]
  },
  {
   "cell_type": "code",
   "execution_count": 2,
   "metadata": {},
   "outputs": [],
   "source": [
    "import sys\n",
    "sys.path.insert(0, '/root/')"
   ]
  },
  {
   "cell_type": "code",
   "execution_count": 3,
   "metadata": {},
   "outputs": [],
   "source": [
    "from tpqoa import tpqoa\n",
    "import numpy as np\n",
    "import pandas as pd\n",
    "import tables as tb\n",
    "import tstables as tstb\n",
    "%matplotlib inline\n",
    "import matplotlib.pyplot as plt\n",
    "plt.style.use('seaborn')"
   ]
  },
  {
   "cell_type": "markdown",
   "metadata": {},
   "source": [
    "## 2. Connect to the Oanda API and download data"
   ]
  },
  {
   "cell_type": "code",
   "execution_count": 4,
   "metadata": {},
   "outputs": [],
   "source": [
    "# connects to Oanda and saves 4 months (jan 18 - Apr 18) of \n",
    "# AUDUSD data concatenates the four months into a single pandas\n",
    "# dataseries called \"fulldata\""
   ]
  },
  {
   "cell_type": "code",
   "execution_count": 5,
   "metadata": {},
   "outputs": [],
   "source": [
    "oanda = tpqoa('/root/pyalgo.cfg')"
   ]
  },
  {
   "cell_type": "code",
   "execution_count": 6,
   "metadata": {},
   "outputs": [],
   "source": [
    "instrument_1 = 'AUD_USD'"
   ]
  },
  {
   "cell_type": "code",
   "execution_count": 7,
   "metadata": {},
   "outputs": [],
   "source": [
    "month1 = oanda.get_history(instrument_1,\n",
    "                          start = '2017-12-31',\n",
    "                          end = '2018-2-1',\n",
    "                          granularity = 'M10',\n",
    "                          price = 'A')"
   ]
  },
  {
   "cell_type": "code",
   "execution_count": 8,
   "metadata": {},
   "outputs": [],
   "source": [
    "month2 = oanda.get_history(instrument_1,\n",
    "                          start = '2018-2-1',\n",
    "                          end = '2018-3-1',\n",
    "                          granularity ='M10',\n",
    "                          price = 'A')"
   ]
  },
  {
   "cell_type": "code",
   "execution_count": 9,
   "metadata": {},
   "outputs": [],
   "source": [
    "month3 = oanda.get_history(instrument_1,\n",
    "                        start = '2018-3-1',\n",
    "                        end = '2018-3-31',\n",
    "                        granularity = 'M10',\n",
    "                        price = 'A')"
   ]
  },
  {
   "cell_type": "code",
   "execution_count": 10,
   "metadata": {},
   "outputs": [],
   "source": [
    "month4 = oanda.get_history(instrument_1,\n",
    "                        start = '2018-3-31',\n",
    "                        end = '2018-4-30',\n",
    "                        granularity = 'M10',\n",
    "                        price = 'A')"
   ]
  },
  {
   "cell_type": "code",
   "execution_count": 11,
   "metadata": {},
   "outputs": [],
   "source": [
    "month1cls = month1['c']\n",
    "month2cls = month2['c']\n",
    "month3cls = month3['c']\n",
    "month4cls = month4['c']"
   ]
  },
  {
   "cell_type": "code",
   "execution_count": 12,
   "metadata": {},
   "outputs": [],
   "source": [
    "seg_data = [month1cls, month2cls, month3cls, month4cls]"
   ]
  },
  {
   "cell_type": "code",
   "execution_count": 13,
   "metadata": {},
   "outputs": [],
   "source": [
    "fulldata = pd.concat(seg_data)"
   ]
  },
  {
   "cell_type": "markdown",
   "metadata": {},
   "source": [
    "# 3. Store dataseries 'fulldata' with HDF5"
   ]
  },
  {
   "cell_type": "code",
   "execution_count": 14,
   "metadata": {},
   "outputs": [],
   "source": [
    "# writes the pandas dataseries fulldata to an HDF5 file"
   ]
  },
  {
   "cell_type": "code",
   "execution_count": 15,
   "metadata": {},
   "outputs": [],
   "source": [
    "h5 = pd.HDFStore('/root/pyalgocourse/final_project/data.h5','w')"
   ]
  },
  {
   "cell_type": "code",
   "execution_count": 16,
   "metadata": {},
   "outputs": [],
   "source": [
    "h5['data'] = fulldata"
   ]
  },
  {
   "cell_type": "code",
   "execution_count": 17,
   "metadata": {},
   "outputs": [
    {
     "data": {
      "text/plain": [
       "<class 'pandas.io.pytables.HDFStore'>\n",
       "File path: /root/pyalgocourse/final_project/data.h5\n",
       "/data            series       (shape->[12108])"
      ]
     },
     "execution_count": 17,
     "metadata": {},
     "output_type": "execute_result"
    }
   ],
   "source": [
    "h5"
   ]
  },
  {
   "cell_type": "code",
   "execution_count": 18,
   "metadata": {},
   "outputs": [
    {
     "name": "stdout",
     "output_type": "stream",
     "text": [
      "-rw-r--r-- 1 0 0 198816 May 27 02:23 data.h5\r\n"
     ]
    }
   ],
   "source": [
    "ls -n data.*"
   ]
  },
  {
   "cell_type": "code",
   "execution_count": 19,
   "metadata": {},
   "outputs": [],
   "source": [
    "h5.close()"
   ]
  },
  {
   "cell_type": "markdown",
   "metadata": {},
   "source": [
    "## 4. Start with data saved from HDF5 file"
   ]
  },
  {
   "cell_type": "code",
   "execution_count": 20,
   "metadata": {},
   "outputs": [],
   "source": [
    "# to avoid calling the data from Oanda the notebook can\n",
    "# be run from here using data previously stored in HDF5 file\n",
    "# in number (3) above"
   ]
  },
  {
   "cell_type": "code",
   "execution_count": 21,
   "metadata": {},
   "outputs": [],
   "source": [
    "import pandas as pd"
   ]
  },
  {
   "cell_type": "code",
   "execution_count": 22,
   "metadata": {},
   "outputs": [],
   "source": [
    "h5 = pd.HDFStore('/root/pyalgocourse/final_project/data.h5','r')"
   ]
  },
  {
   "cell_type": "code",
   "execution_count": 23,
   "metadata": {},
   "outputs": [],
   "source": [
    "fulldata_copy = h5['data']"
   ]
  },
  {
   "cell_type": "code",
   "execution_count": 24,
   "metadata": {},
   "outputs": [],
   "source": [
    "h5.close()"
   ]
  },
  {
   "cell_type": "code",
   "execution_count": 25,
   "metadata": {},
   "outputs": [
    {
     "data": {
      "image/png": "[encoded data removed]",
      "text/plain": [
       "<Figure size 432x288 with 1 Axes>"
      ]
     },
     "metadata": {},
     "output_type": "display_data"
    }
   ],
   "source": [
    "fulldata_copy.plot();"
   ]
  },
  {
   "cell_type": "markdown",
   "metadata": {},
   "source": [
    "## 5. Calculate features for data"
   ]
  },
  {
   "cell_type": "code",
   "execution_count": 26,
   "metadata": {},
   "outputs": [],
   "source": [
    "# a function to calulate the RSI Index.\n",
    "\n",
    "def relative_strength(data, n = 21):\n",
    "    '''Creates RSI feature -\n",
    "    initial RSI value created here'''   \n",
    "    abchange = (data - data.shift(1)) # calculate absolute daily change\n",
    "    rsperiod = abchange[:n + 1] \n",
    "    upday = rsperiod[rsperiod >= 0].sum() / n # in the RSI period what is the up day change\n",
    "    dnday = -rsperiod[rsperiod < 0].sum() / n # in the RSI period ehat is the down day change\n",
    "    rs = upday / dnday # up day change/down day change ratio\n",
    "    rsi = np.zeros_like(data)\n",
    "    rsi[:n] = 100. - (100. / ( 1. + rs)) # formula for RSI Index calculation\n",
    "    \n",
    "    '''calculates subsequent change in RSI values'''\n",
    "    for i in range(n, len(data)):\n",
    "        abchg = abchange[i - 1]\n",
    "        if abchg > 0:\n",
    "            upval = abchg\n",
    "            dnval = 0\n",
    "        else:\n",
    "            upval = 0\n",
    "            dnval = abs(abchg)\n",
    "        \n",
    "        # iterate through each daily change proportionally adding it\n",
    "        # to the respective RSI period cahnge\n",
    "        upday = (upday * (n - 1) + upval) / n\n",
    "        dnday = (dnday * (n - 1) + dnval) / n\n",
    "        \n",
    "        rs = upday / dnday # up day change/down day change ratio\n",
    "        rsi[i] = 100. - (100. / ( 1. + rs)) # formula for RSI Index calculation\n",
    "        \n",
    "    \n",
    "    rsi = pd.DataFrame(rsi)\n",
    "    rsi.index = fulldata_copy.index\n",
    "    rsi.columns = ['RSI']\n",
    "    return rsi # return the RSI Index value calculated\n",
    "    "
   ]
  },
  {
   "cell_type": "code",
   "execution_count": 27,
   "metadata": {},
   "outputs": [],
   "source": [
    "# run function 'relative_strength' to create RSI values\n",
    "# for the dataseries\n",
    "rsi = relative_strength(fulldata_copy)"
   ]
  },
  {
   "cell_type": "code",
   "execution_count": 28,
   "metadata": {},
   "outputs": [],
   "source": [
    "fulldata_copy = pd.DataFrame(fulldata_copy)"
   ]
  },
  {
   "cell_type": "code",
   "execution_count": 29,
   "metadata": {},
   "outputs": [],
   "source": [
    "fulldata_copy['RSI'] = rsi['RSI']\n",
    "fulldata_copy.columns = ['AUDUSD','RSI']"
   ]
  },
  {
   "cell_type": "code",
   "execution_count": 30,
   "metadata": {},
   "outputs": [
    {
     "data": {
      "text/html": [
       "<div>\n",
       "<table border=\"1\" class=\"dataframe\">\n",
       "  <thead>\n",
       "    <tr style=\"text-align: right;\">\n",
       "      <th></th>\n",
       "      <th>AUDUSD</th>\n",
       "      <th>RSI</th>\n",
       "    </tr>\n",
       "    <tr>\n",
       "      <th>time</th>\n",
       "      <th></th>\n",
       "      <th></th>\n",
       "    </tr>\n",
       "  </thead>\n",
       "  <tbody>\n",
       "    <tr>\n",
       "      <th>2018-01-01 22:00:00</th>\n",
       "      <td>0.78072</td>\n",
       "      <td>63.131313</td>\n",
       "    </tr>\n",
       "    <tr>\n",
       "      <th>2018-01-01 22:10:00</th>\n",
       "      <td>0.78067</td>\n",
       "      <td>63.131313</td>\n",
       "    </tr>\n",
       "    <tr>\n",
       "      <th>2018-01-01 22:20:00</th>\n",
       "      <td>0.78069</td>\n",
       "      <td>63.131313</td>\n",
       "    </tr>\n",
       "    <tr>\n",
       "      <th>2018-01-01 22:30:00</th>\n",
       "      <td>0.78054</td>\n",
       "      <td>63.131313</td>\n",
       "    </tr>\n",
       "    <tr>\n",
       "      <th>2018-01-01 22:40:00</th>\n",
       "      <td>0.78083</td>\n",
       "      <td>63.131313</td>\n",
       "    </tr>\n",
       "  </tbody>\n",
       "</table>\n",
       "</div>"
      ],
      "text/plain": [
       "                      AUDUSD        RSI\n",
       "time                                   \n",
       "2018-01-01 22:00:00  0.78072  63.131313\n",
       "2018-01-01 22:10:00  0.78067  63.131313\n",
       "2018-01-01 22:20:00  0.78069  63.131313\n",
       "2018-01-01 22:30:00  0.78054  63.131313\n",
       "2018-01-01 22:40:00  0.78083  63.131313"
      ]
     },
     "execution_count": 30,
     "metadata": {},
     "output_type": "execute_result"
    }
   ],
   "source": [
    "fulldata_copy.head()"
   ]
  },
  {
   "cell_type": "code",
   "execution_count": 31,
   "metadata": {},
   "outputs": [],
   "source": [
    "# a function to calulate the MACD Index.\n",
    "\n",
    "def macd(data, slow = 26, fast = 12, signal = 9):\n",
    "    # calculate respective fast and slow exponential moving \n",
    "    # averages (ema)\n",
    "    ema_fast = data.ewm(span = fast).mean()\n",
    "    ema_slow = data.ewm(span = slow).mean()\n",
    "    # MACD line is slow m.a. minus fast m.a.\n",
    "    macd_line = ema_slow - ema_fast\n",
    "    # signal line is 9 day ema of macd line\n",
    "    sig_line = macd_line.ewm(span = signal).mean()\n",
    "    # macd histogram is the macd line minus the \n",
    "    # signal line\n",
    "    macd_hist = macd_line - sig_line\n",
    "    macd_hist = pd.DataFrame(macd_hist)\n",
    "    macd_hist.columns = ['MACD']\n",
    "    return macd_hist"
   ]
  },
  {
   "cell_type": "code",
   "execution_count": 32,
   "metadata": {},
   "outputs": [],
   "source": [
    "# run function 'macd' to create macd values\n",
    "# for the dataseries\n",
    "macd = macd(fulldata_copy['AUDUSD'])"
   ]
  },
  {
   "cell_type": "code",
   "execution_count": 33,
   "metadata": {},
   "outputs": [],
   "source": [
    "fulldata_copy['MACD'] = macd['MACD']"
   ]
  },
  {
   "cell_type": "code",
   "execution_count": 34,
   "metadata": {},
   "outputs": [
    {
     "data": {
      "text/html": [
       "<div>\n",
       "<table border=\"1\" class=\"dataframe\">\n",
       "  <thead>\n",
       "    <tr style=\"text-align: right;\">\n",
       "      <th></th>\n",
       "      <th>AUDUSD</th>\n",
       "      <th>RSI</th>\n",
       "      <th>MACD</th>\n",
       "    </tr>\n",
       "    <tr>\n",
       "      <th>time</th>\n",
       "      <th></th>\n",
       "      <th></th>\n",
       "      <th></th>\n",
       "    </tr>\n",
       "  </thead>\n",
       "  <tbody>\n",
       "    <tr>\n",
       "      <th>2018-01-01 22:00:00</th>\n",
       "      <td>0.78072</td>\n",
       "      <td>63.131313</td>\n",
       "      <td>0.000000e+00</td>\n",
       "    </tr>\n",
       "    <tr>\n",
       "      <th>2018-01-01 22:10:00</th>\n",
       "      <td>0.78067</td>\n",
       "      <td>63.131313</td>\n",
       "      <td>4.985755e-07</td>\n",
       "    </tr>\n",
       "    <tr>\n",
       "      <th>2018-01-01 22:20:00</th>\n",
       "      <td>0.78069</td>\n",
       "      <td>63.131313</td>\n",
       "      <td>1.097535e-07</td>\n",
       "    </tr>\n",
       "    <tr>\n",
       "      <th>2018-01-01 22:30:00</th>\n",
       "      <td>0.78054</td>\n",
       "      <td>63.131313</td>\n",
       "      <td>3.546554e-06</td>\n",
       "    </tr>\n",
       "    <tr>\n",
       "      <th>2018-01-01 22:40:00</th>\n",
       "      <td>0.78083</td>\n",
       "      <td>63.131313</td>\n",
       "      <td>-3.699540e-06</td>\n",
       "    </tr>\n",
       "  </tbody>\n",
       "</table>\n",
       "</div>"
      ],
      "text/plain": [
       "                      AUDUSD        RSI          MACD\n",
       "time                                                 \n",
       "2018-01-01 22:00:00  0.78072  63.131313  0.000000e+00\n",
       "2018-01-01 22:10:00  0.78067  63.131313  4.985755e-07\n",
       "2018-01-01 22:20:00  0.78069  63.131313  1.097535e-07\n",
       "2018-01-01 22:30:00  0.78054  63.131313  3.546554e-06\n",
       "2018-01-01 22:40:00  0.78083  63.131313 -3.699540e-06"
      ]
     },
     "execution_count": 34,
     "metadata": {},
     "output_type": "execute_result"
    }
   ],
   "source": [
    "fulldata_copy.head()"
   ]
  },
  {
   "cell_type": "code",
   "execution_count": 35,
   "metadata": {},
   "outputs": [],
   "source": [
    "# calulate the daily returns for the dataseries\n",
    "fulldata_copy['Returns'] = np.log(fulldata_copy['AUDUSD'] / fulldata_copy['AUDUSD'].shift(1))"
   ]
  },
  {
   "cell_type": "code",
   "execution_count": 36,
   "metadata": {},
   "outputs": [
    {
     "data": {
      "image/png": "[encoded data removed]",
      "text/plain": [
       "<Figure size 720x432 with 2 Axes>"
      ]
     },
     "metadata": {},
     "output_type": "display_data"
    }
   ],
   "source": [
    "# plot AUDUSD vs its RSI Index\n",
    "fulldata_copy[['AUDUSD','RSI']][:500].plot(figsize=(10,6),secondary_y = 'RSI');"
   ]
  },
  {
   "cell_type": "code",
   "execution_count": 37,
   "metadata": {
    "scrolled": true
   },
   "outputs": [
    {
     "data": {
      "image/png": "[encoded data removed]",
      "text/plain": [
       "<Figure size 720x432 with 2 Axes>"
      ]
     },
     "metadata": {},
     "output_type": "display_data"
    }
   ],
   "source": [
    "# Plot AUDUSD vs its MACD Histogram (plotted as a line)\n",
    "fulldata_copy[['AUDUSD','MACD']][:500].plot(figsize=(10,6),secondary_y = 'MACD');"
   ]
  },
  {
   "cell_type": "markdown",
   "metadata": {},
   "source": [
    "## 6. Creates lagged data for the features RSI, MACD and Returns"
   ]
  },
  {
   "cell_type": "code",
   "execution_count": 38,
   "metadata": {},
   "outputs": [],
   "source": [
    "# This cell created lagged data for the features, the loop takes\n",
    "# each feature e.g. RSI, MACD,... and creates lag 1 day, 2 day to \n",
    "# result in RSI_lag_1, RSI_lag_2,...,MACD_lag_1,...\n",
    "lags = 29\n",
    "features = fulldata_copy.columns\n",
    "new_features = features.drop('AUDUSD')\n",
    "cols = []\n",
    "for feat in new_features:\n",
    "    for lags in range(1, lags + 1):\n",
    "        col = '%s_lag_%d' % (feat, lags)\n",
    "        fulldata_copy[col] = fulldata_copy[feat].shift(lags)\n",
    "        cols.append(col)"
   ]
  },
  {
   "cell_type": "code",
   "execution_count": 39,
   "metadata": {},
   "outputs": [
    {
     "data": {
      "text/html": [
       "<div>\n",
       "<table border=\"1\" class=\"dataframe\">\n",
       "  <thead>\n",
       "    <tr style=\"text-align: right;\">\n",
       "      <th></th>\n",
       "      <th>AUDUSD</th>\n",
       "      <th>RSI</th>\n",
       "      <th>MACD</th>\n",
       "      <th>Returns</th>\n",
       "      <th>RSI_lag_1</th>\n",
       "      <th>RSI_lag_2</th>\n",
       "      <th>RSI_lag_3</th>\n",
       "      <th>RSI_lag_4</th>\n",
       "      <th>RSI_lag_5</th>\n",
       "      <th>RSI_lag_6</th>\n",
       "      <th>...</th>\n",
       "      <th>Returns_lag_20</th>\n",
       "      <th>Returns_lag_21</th>\n",
       "      <th>Returns_lag_22</th>\n",
       "      <th>Returns_lag_23</th>\n",
       "      <th>Returns_lag_24</th>\n",
       "      <th>Returns_lag_25</th>\n",
       "      <th>Returns_lag_26</th>\n",
       "      <th>Returns_lag_27</th>\n",
       "      <th>Returns_lag_28</th>\n",
       "      <th>Returns_lag_29</th>\n",
       "    </tr>\n",
       "    <tr>\n",
       "      <th>time</th>\n",
       "      <th></th>\n",
       "      <th></th>\n",
       "      <th></th>\n",
       "      <th></th>\n",
       "      <th></th>\n",
       "      <th></th>\n",
       "      <th></th>\n",
       "      <th></th>\n",
       "      <th></th>\n",
       "      <th></th>\n",
       "      <th></th>\n",
       "      <th></th>\n",
       "      <th></th>\n",
       "      <th></th>\n",
       "      <th></th>\n",
       "      <th></th>\n",
       "      <th></th>\n",
       "      <th></th>\n",
       "      <th></th>\n",
       "      <th></th>\n",
       "      <th></th>\n",
       "    </tr>\n",
       "  </thead>\n",
       "  <tbody>\n",
       "    <tr>\n",
       "      <th>2018-04-29 23:10:00</th>\n",
       "      <td>0.75740</td>\n",
       "      <td>49.180254</td>\n",
       "      <td>0.000114</td>\n",
       "      <td>-0.000172</td>\n",
       "      <td>50.540744</td>\n",
       "      <td>51.752726</td>\n",
       "      <td>55.730185</td>\n",
       "      <td>58.112165</td>\n",
       "      <td>57.114627</td>\n",
       "      <td>56.746750</td>\n",
       "      <td>...</td>\n",
       "      <td>-0.000185</td>\n",
       "      <td>-0.000026</td>\n",
       "      <td>-0.000066</td>\n",
       "      <td>-0.000026</td>\n",
       "      <td>0.000026</td>\n",
       "      <td>0.000119</td>\n",
       "      <td>0.000198</td>\n",
       "      <td>0.000449</td>\n",
       "      <td>0.000594</td>\n",
       "      <td>0.000079</td>\n",
       "    </tr>\n",
       "    <tr>\n",
       "      <th>2018-04-29 23:20:00</th>\n",
       "      <td>0.75728</td>\n",
       "      <td>47.251147</td>\n",
       "      <td>0.000123</td>\n",
       "      <td>-0.000158</td>\n",
       "      <td>49.180254</td>\n",
       "      <td>50.540744</td>\n",
       "      <td>51.752726</td>\n",
       "      <td>55.730185</td>\n",
       "      <td>58.112165</td>\n",
       "      <td>57.114627</td>\n",
       "      <td>...</td>\n",
       "      <td>-0.000132</td>\n",
       "      <td>-0.000185</td>\n",
       "      <td>-0.000026</td>\n",
       "      <td>-0.000066</td>\n",
       "      <td>-0.000026</td>\n",
       "      <td>0.000026</td>\n",
       "      <td>0.000119</td>\n",
       "      <td>0.000198</td>\n",
       "      <td>0.000449</td>\n",
       "      <td>0.000594</td>\n",
       "    </tr>\n",
       "    <tr>\n",
       "      <th>2018-04-29 23:30:00</th>\n",
       "      <td>0.75745</td>\n",
       "      <td>45.520534</td>\n",
       "      <td>0.000113</td>\n",
       "      <td>0.000224</td>\n",
       "      <td>47.251147</td>\n",
       "      <td>49.180254</td>\n",
       "      <td>50.540744</td>\n",
       "      <td>51.752726</td>\n",
       "      <td>55.730185</td>\n",
       "      <td>58.112165</td>\n",
       "      <td>...</td>\n",
       "      <td>-0.000040</td>\n",
       "      <td>-0.000132</td>\n",
       "      <td>-0.000185</td>\n",
       "      <td>-0.000026</td>\n",
       "      <td>-0.000066</td>\n",
       "      <td>-0.000026</td>\n",
       "      <td>0.000026</td>\n",
       "      <td>0.000119</td>\n",
       "      <td>0.000198</td>\n",
       "      <td>0.000449</td>\n",
       "    </tr>\n",
       "    <tr>\n",
       "      <th>2018-04-29 23:40:00</th>\n",
       "      <td>0.75760</td>\n",
       "      <td>48.335277</td>\n",
       "      <td>0.000091</td>\n",
       "      <td>0.000198</td>\n",
       "      <td>45.520534</td>\n",
       "      <td>47.251147</td>\n",
       "      <td>49.180254</td>\n",
       "      <td>50.540744</td>\n",
       "      <td>51.752726</td>\n",
       "      <td>55.730185</td>\n",
       "      <td>...</td>\n",
       "      <td>0.000106</td>\n",
       "      <td>-0.000040</td>\n",
       "      <td>-0.000132</td>\n",
       "      <td>-0.000185</td>\n",
       "      <td>-0.000026</td>\n",
       "      <td>-0.000066</td>\n",
       "      <td>-0.000026</td>\n",
       "      <td>0.000026</td>\n",
       "      <td>0.000119</td>\n",
       "      <td>0.000198</td>\n",
       "    </tr>\n",
       "    <tr>\n",
       "      <th>2018-04-29 23:50:00</th>\n",
       "      <td>0.75740</td>\n",
       "      <td>50.695350</td>\n",
       "      <td>0.000086</td>\n",
       "      <td>-0.000264</td>\n",
       "      <td>48.335277</td>\n",
       "      <td>45.520534</td>\n",
       "      <td>47.251147</td>\n",
       "      <td>49.180254</td>\n",
       "      <td>50.540744</td>\n",
       "      <td>51.752726</td>\n",
       "      <td>...</td>\n",
       "      <td>-0.000013</td>\n",
       "      <td>0.000106</td>\n",
       "      <td>-0.000040</td>\n",
       "      <td>-0.000132</td>\n",
       "      <td>-0.000185</td>\n",
       "      <td>-0.000026</td>\n",
       "      <td>-0.000066</td>\n",
       "      <td>-0.000026</td>\n",
       "      <td>0.000026</td>\n",
       "      <td>0.000119</td>\n",
       "    </tr>\n",
       "  </tbody>\n",
       "</table>\n",
       "<p>5 rows × 91 columns</p>\n",
       "</div>"
      ],
      "text/plain": [
       "                      AUDUSD        RSI      MACD   Returns  RSI_lag_1  \\\n",
       "time                                                                     \n",
       "2018-04-29 23:10:00  0.75740  49.180254  0.000114 -0.000172  50.540744   \n",
       "2018-04-29 23:20:00  0.75728  47.251147  0.000123 -0.000158  49.180254   \n",
       "2018-04-29 23:30:00  0.75745  45.520534  0.000113  0.000224  47.251147   \n",
       "2018-04-29 23:40:00  0.75760  48.335277  0.000091  0.000198  45.520534   \n",
       "2018-04-29 23:50:00  0.75740  50.695350  0.000086 -0.000264  48.335277   \n",
       "\n",
       "                     RSI_lag_2  RSI_lag_3  RSI_lag_4  RSI_lag_5  RSI_lag_6  \\\n",
       "time                                                                         \n",
       "2018-04-29 23:10:00  51.752726  55.730185  58.112165  57.114627  56.746750   \n",
       "2018-04-29 23:20:00  50.540744  51.752726  55.730185  58.112165  57.114627   \n",
       "2018-04-29 23:30:00  49.180254  50.540744  51.752726  55.730185  58.112165   \n",
       "2018-04-29 23:40:00  47.251147  49.180254  50.540744  51.752726  55.730185   \n",
       "2018-04-29 23:50:00  45.520534  47.251147  49.180254  50.540744  51.752726   \n",
       "\n",
       "                          ...        Returns_lag_20  Returns_lag_21  \\\n",
       "time                      ...                                         \n",
       "2018-04-29 23:10:00       ...             -0.000185       -0.000026   \n",
       "2018-04-29 23:20:00       ...             -0.000132       -0.000185   \n",
       "2018-04-29 23:30:00       ...             -0.000040       -0.000132   \n",
       "2018-04-29 23:40:00       ...              0.000106       -0.000040   \n",
       "2018-04-29 23:50:00       ...             -0.000013        0.000106   \n",
       "\n",
       "                     Returns_lag_22  Returns_lag_23  Returns_lag_24  \\\n",
       "time                                                                  \n",
       "2018-04-29 23:10:00       -0.000066       -0.000026        0.000026   \n",
       "2018-04-29 23:20:00       -0.000026       -0.000066       -0.000026   \n",
       "2018-04-29 23:30:00       -0.000185       -0.000026       -0.000066   \n",
       "2018-04-29 23:40:00       -0.000132       -0.000185       -0.000026   \n",
       "2018-04-29 23:50:00       -0.000040       -0.000132       -0.000185   \n",
       "\n",
       "                     Returns_lag_25  Returns_lag_26  Returns_lag_27  \\\n",
       "time                                                                  \n",
       "2018-04-29 23:10:00        0.000119        0.000198        0.000449   \n",
       "2018-04-29 23:20:00        0.000026        0.000119        0.000198   \n",
       "2018-04-29 23:30:00       -0.000026        0.000026        0.000119   \n",
       "2018-04-29 23:40:00       -0.000066       -0.000026        0.000026   \n",
       "2018-04-29 23:50:00       -0.000026       -0.000066       -0.000026   \n",
       "\n",
       "                     Returns_lag_28  Returns_lag_29  \n",
       "time                                                 \n",
       "2018-04-29 23:10:00        0.000594        0.000079  \n",
       "2018-04-29 23:20:00        0.000449        0.000594  \n",
       "2018-04-29 23:30:00        0.000198        0.000449  \n",
       "2018-04-29 23:40:00        0.000119        0.000198  \n",
       "2018-04-29 23:50:00        0.000026        0.000119  \n",
       "\n",
       "[5 rows x 91 columns]"
      ]
     },
     "execution_count": 39,
     "metadata": {},
     "output_type": "execute_result"
    }
   ],
   "source": [
    "fulldata_copy.tail()"
   ]
  },
  {
   "cell_type": "markdown",
   "metadata": {},
   "source": [
    "## 7. Create a short and long term momentum signal"
   ]
  },
  {
   "cell_type": "code",
   "execution_count": 40,
   "metadata": {},
   "outputs": [],
   "source": [
    "# creates twp momentum signals MOM1 and MOM2. The signal is 1 is the momentum for\n",
    "# the signal period is positive and 0 is it is negative\n",
    "fulldata_copy['MOM1'] = np.where(fulldata_copy['Returns'].rolling(10).mean() > 0, 1, 0)\n",
    "fulldata_copy['MOM1'] = fulldata_copy['MOM1'].shift(1)\n",
    "cols.append('MOM1')\n",
    "fulldata_copy['MOM2'] = np.where(fulldata_copy['Returns'].rolling(50).mean() > 0, 1, 0)\n",
    "fulldata_copy['MOM2'] = fulldata_copy['MOM2'].shift(1)\n",
    "cols.append('MOM2')"
   ]
  },
  {
   "cell_type": "code",
   "execution_count": 41,
   "metadata": {},
   "outputs": [],
   "source": [
    "fulldata_copy.dropna(inplace = True)"
   ]
  },
  {
   "cell_type": "code",
   "execution_count": 42,
   "metadata": {},
   "outputs": [
    {
     "data": {
      "text/html": [
       "<div>\n",
       "<table border=\"1\" class=\"dataframe\">\n",
       "  <thead>\n",
       "    <tr style=\"text-align: right;\">\n",
       "      <th></th>\n",
       "      <th>AUDUSD</th>\n",
       "      <th>RSI</th>\n",
       "      <th>MACD</th>\n",
       "      <th>Returns</th>\n",
       "      <th>RSI_lag_1</th>\n",
       "      <th>RSI_lag_2</th>\n",
       "      <th>RSI_lag_3</th>\n",
       "      <th>RSI_lag_4</th>\n",
       "      <th>RSI_lag_5</th>\n",
       "      <th>RSI_lag_6</th>\n",
       "      <th>...</th>\n",
       "      <th>Returns_lag_22</th>\n",
       "      <th>Returns_lag_23</th>\n",
       "      <th>Returns_lag_24</th>\n",
       "      <th>Returns_lag_25</th>\n",
       "      <th>Returns_lag_26</th>\n",
       "      <th>Returns_lag_27</th>\n",
       "      <th>Returns_lag_28</th>\n",
       "      <th>Returns_lag_29</th>\n",
       "      <th>MOM1</th>\n",
       "      <th>MOM2</th>\n",
       "    </tr>\n",
       "    <tr>\n",
       "      <th>time</th>\n",
       "      <th></th>\n",
       "      <th></th>\n",
       "      <th></th>\n",
       "      <th></th>\n",
       "      <th></th>\n",
       "      <th></th>\n",
       "      <th></th>\n",
       "      <th></th>\n",
       "      <th></th>\n",
       "      <th></th>\n",
       "      <th></th>\n",
       "      <th></th>\n",
       "      <th></th>\n",
       "      <th></th>\n",
       "      <th></th>\n",
       "      <th></th>\n",
       "      <th></th>\n",
       "      <th></th>\n",
       "      <th></th>\n",
       "      <th></th>\n",
       "      <th></th>\n",
       "    </tr>\n",
       "  </thead>\n",
       "  <tbody>\n",
       "    <tr>\n",
       "      <th>2018-01-02 03:00:00</th>\n",
       "      <td>0.78267</td>\n",
       "      <td>60.669419</td>\n",
       "      <td>-0.000039</td>\n",
       "      <td>0.000562</td>\n",
       "      <td>60.094516</td>\n",
       "      <td>59.531142</td>\n",
       "      <td>61.816813</td>\n",
       "      <td>59.812965</td>\n",
       "      <td>62.630244</td>\n",
       "      <td>60.738574</td>\n",
       "      <td>...</td>\n",
       "      <td>-0.000474</td>\n",
       "      <td>-0.000192</td>\n",
       "      <td>-0.001293</td>\n",
       "      <td>0.001075</td>\n",
       "      <td>0.000371</td>\n",
       "      <td>-0.000192</td>\n",
       "      <td>0.000026</td>\n",
       "      <td>-0.000064</td>\n",
       "      <td>1.0</td>\n",
       "      <td>0.0</td>\n",
       "    </tr>\n",
       "    <tr>\n",
       "      <th>2018-01-02 03:10:00</th>\n",
       "      <td>0.78318</td>\n",
       "      <td>63.690322</td>\n",
       "      <td>-0.000074</td>\n",
       "      <td>0.000651</td>\n",
       "      <td>60.669419</td>\n",
       "      <td>60.094516</td>\n",
       "      <td>59.531142</td>\n",
       "      <td>61.816813</td>\n",
       "      <td>59.812965</td>\n",
       "      <td>62.630244</td>\n",
       "      <td>...</td>\n",
       "      <td>-0.000269</td>\n",
       "      <td>-0.000474</td>\n",
       "      <td>-0.000192</td>\n",
       "      <td>-0.001293</td>\n",
       "      <td>0.001075</td>\n",
       "      <td>0.000371</td>\n",
       "      <td>-0.000192</td>\n",
       "      <td>0.000026</td>\n",
       "      <td>1.0</td>\n",
       "      <td>0.0</td>\n",
       "    </tr>\n",
       "    <tr>\n",
       "      <th>2018-01-02 03:20:00</th>\n",
       "      <td>0.78318</td>\n",
       "      <td>66.794347</td>\n",
       "      <td>-0.000088</td>\n",
       "      <td>0.000000</td>\n",
       "      <td>63.690322</td>\n",
       "      <td>60.669419</td>\n",
       "      <td>60.094516</td>\n",
       "      <td>59.531142</td>\n",
       "      <td>61.816813</td>\n",
       "      <td>59.812965</td>\n",
       "      <td>...</td>\n",
       "      <td>-0.000321</td>\n",
       "      <td>-0.000269</td>\n",
       "      <td>-0.000474</td>\n",
       "      <td>-0.000192</td>\n",
       "      <td>-0.001293</td>\n",
       "      <td>0.001075</td>\n",
       "      <td>0.000371</td>\n",
       "      <td>-0.000192</td>\n",
       "      <td>1.0</td>\n",
       "      <td>0.0</td>\n",
       "    </tr>\n",
       "    <tr>\n",
       "      <th>2018-01-02 03:30:00</th>\n",
       "      <td>0.78312</td>\n",
       "      <td>66.794347</td>\n",
       "      <td>-0.000085</td>\n",
       "      <td>-0.000077</td>\n",
       "      <td>66.794347</td>\n",
       "      <td>63.690322</td>\n",
       "      <td>60.669419</td>\n",
       "      <td>60.094516</td>\n",
       "      <td>59.531142</td>\n",
       "      <td>61.816813</td>\n",
       "      <td>...</td>\n",
       "      <td>0.000423</td>\n",
       "      <td>-0.000321</td>\n",
       "      <td>-0.000269</td>\n",
       "      <td>-0.000474</td>\n",
       "      <td>-0.000192</td>\n",
       "      <td>-0.001293</td>\n",
       "      <td>0.001075</td>\n",
       "      <td>0.000371</td>\n",
       "      <td>1.0</td>\n",
       "      <td>0.0</td>\n",
       "    </tr>\n",
       "    <tr>\n",
       "      <th>2018-01-02 03:40:00</th>\n",
       "      <td>0.78336</td>\n",
       "      <td>66.061838</td>\n",
       "      <td>-0.000090</td>\n",
       "      <td>0.000306</td>\n",
       "      <td>66.794347</td>\n",
       "      <td>66.794347</td>\n",
       "      <td>63.690322</td>\n",
       "      <td>60.669419</td>\n",
       "      <td>60.094516</td>\n",
       "      <td>59.531142</td>\n",
       "      <td>...</td>\n",
       "      <td>0.000256</td>\n",
       "      <td>0.000423</td>\n",
       "      <td>-0.000321</td>\n",
       "      <td>-0.000269</td>\n",
       "      <td>-0.000474</td>\n",
       "      <td>-0.000192</td>\n",
       "      <td>-0.001293</td>\n",
       "      <td>0.001075</td>\n",
       "      <td>1.0</td>\n",
       "      <td>0.0</td>\n",
       "    </tr>\n",
       "  </tbody>\n",
       "</table>\n",
       "<p>5 rows × 93 columns</p>\n",
       "</div>"
      ],
      "text/plain": [
       "                      AUDUSD        RSI      MACD   Returns  RSI_lag_1  \\\n",
       "time                                                                     \n",
       "2018-01-02 03:00:00  0.78267  60.669419 -0.000039  0.000562  60.094516   \n",
       "2018-01-02 03:10:00  0.78318  63.690322 -0.000074  0.000651  60.669419   \n",
       "2018-01-02 03:20:00  0.78318  66.794347 -0.000088  0.000000  63.690322   \n",
       "2018-01-02 03:30:00  0.78312  66.794347 -0.000085 -0.000077  66.794347   \n",
       "2018-01-02 03:40:00  0.78336  66.061838 -0.000090  0.000306  66.794347   \n",
       "\n",
       "                     RSI_lag_2  RSI_lag_3  RSI_lag_4  RSI_lag_5  RSI_lag_6  \\\n",
       "time                                                                         \n",
       "2018-01-02 03:00:00  59.531142  61.816813  59.812965  62.630244  60.738574   \n",
       "2018-01-02 03:10:00  60.094516  59.531142  61.816813  59.812965  62.630244   \n",
       "2018-01-02 03:20:00  60.669419  60.094516  59.531142  61.816813  59.812965   \n",
       "2018-01-02 03:30:00  63.690322  60.669419  60.094516  59.531142  61.816813   \n",
       "2018-01-02 03:40:00  66.794347  63.690322  60.669419  60.094516  59.531142   \n",
       "\n",
       "                     ...   Returns_lag_22  Returns_lag_23  Returns_lag_24  \\\n",
       "time                 ...                                                    \n",
       "2018-01-02 03:00:00  ...        -0.000474       -0.000192       -0.001293   \n",
       "2018-01-02 03:10:00  ...        -0.000269       -0.000474       -0.000192   \n",
       "2018-01-02 03:20:00  ...        -0.000321       -0.000269       -0.000474   \n",
       "2018-01-02 03:30:00  ...         0.000423       -0.000321       -0.000269   \n",
       "2018-01-02 03:40:00  ...         0.000256        0.000423       -0.000321   \n",
       "\n",
       "                     Returns_lag_25  Returns_lag_26  Returns_lag_27  \\\n",
       "time                                                                  \n",
       "2018-01-02 03:00:00        0.001075        0.000371       -0.000192   \n",
       "2018-01-02 03:10:00       -0.001293        0.001075        0.000371   \n",
       "2018-01-02 03:20:00       -0.000192       -0.001293        0.001075   \n",
       "2018-01-02 03:30:00       -0.000474       -0.000192       -0.001293   \n",
       "2018-01-02 03:40:00       -0.000269       -0.000474       -0.000192   \n",
       "\n",
       "                     Returns_lag_28  Returns_lag_29  MOM1  MOM2  \n",
       "time                                                             \n",
       "2018-01-02 03:00:00        0.000026       -0.000064   1.0   0.0  \n",
       "2018-01-02 03:10:00       -0.000192        0.000026   1.0   0.0  \n",
       "2018-01-02 03:20:00        0.000371       -0.000192   1.0   0.0  \n",
       "2018-01-02 03:30:00        0.001075        0.000371   1.0   0.0  \n",
       "2018-01-02 03:40:00       -0.001293        0.001075   1.0   0.0  \n",
       "\n",
       "[5 rows x 93 columns]"
      ]
     },
     "execution_count": 42,
     "metadata": {},
     "output_type": "execute_result"
    }
   ],
   "source": [
    "fulldata_copy.head()"
   ]
  },
  {
   "cell_type": "markdown",
   "metadata": {},
   "source": [
    "# 8. store the data and features in an HDF5 file 'data_features.h5'"
   ]
  },
  {
   "cell_type": "code",
   "execution_count": 43,
   "metadata": {},
   "outputs": [],
   "source": [
    "# create a new HDF5 file to store the full datas plus the lagged\n",
    "# features that we have calculated."
   ]
  },
  {
   "cell_type": "code",
   "execution_count": 44,
   "metadata": {},
   "outputs": [],
   "source": [
    "h6 = pd.HDFStore('/root/pyalgocourse/final_project/data_features.h5','w')"
   ]
  },
  {
   "cell_type": "code",
   "execution_count": 45,
   "metadata": {},
   "outputs": [],
   "source": [
    "h6['data'] = fulldata_copy"
   ]
  },
  {
   "cell_type": "code",
   "execution_count": 46,
   "metadata": {},
   "outputs": [
    {
     "data": {
      "text/plain": [
       "<class 'pandas.io.pytables.HDFStore'>\n",
       "File path: /root/pyalgocourse/final_project/data_features.h5\n",
       "/data            frame        (shape->[12078,93])"
      ]
     },
     "execution_count": 46,
     "metadata": {},
     "output_type": "execute_result"
    }
   ],
   "source": [
    "h6"
   ]
  },
  {
   "cell_type": "code",
   "execution_count": 47,
   "metadata": {},
   "outputs": [
    {
     "name": "stdout",
     "output_type": "stream",
     "text": [
      "-rw-r--r-- 1 0 0 198816 May 27 02:23 data.h5\r\n"
     ]
    }
   ],
   "source": [
    "ls -n data.*"
   ]
  },
  {
   "cell_type": "code",
   "execution_count": 48,
   "metadata": {},
   "outputs": [],
   "source": [
    "h6.close()"
   ]
  },
  {
   "cell_type": "markdown",
   "metadata": {},
   "source": [
    "## **NOW GO TO NOTEBOOK -> TWO_backtest_initial.ipynb**"
   ]
  },
  {
   "cell_type": "code",
   "execution_count": null,
   "metadata": {},
   "outputs": [],
   "source": []
  }
 ],
 "metadata": {
  "kernelspec": {
   "display_name": "Python 3",
   "language": "python",
   "name": "python3"
  },
  "language_info": {
   "codemirror_mode": {
    "name": "ipython",
    "version": 3
   },
   "file_extension": ".py",
   "mimetype": "text/x-python",
   "name": "python",
   "nbconvert_exporter": "python",
   "pygments_lexer": "ipython3",
   "version": "3.6.4"
  }
 },
 "nbformat": 4,
 "nbformat_minor": 2
}
