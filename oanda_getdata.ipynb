{
 "cells": [
  {
   "cell_type": "markdown",
   "metadata": {},
   "source": [
    "## Imports"
   ]
  },
  {
   "cell_type": "code",
   "execution_count": 1,
   "metadata": {},
   "outputs": [],
   "source": [
    "import sys\n",
    "sys.path.insert(0, '/root/')"
   ]
  },
  {
   "cell_type": "code",
   "execution_count": 2,
   "metadata": {},
   "outputs": [],
   "source": [
    "from tpqoa import tpqoa\n",
    "import numpy as np\n",
    "import pandas as pd\n",
    "import tables as tb\n",
    "import tstables as tstb\n",
    "%matplotlib inline\n",
    "import matplotlib.pyplot as plt\n",
    "plt.style.use('seaborn')"
   ]
  },
  {
   "cell_type": "markdown",
   "metadata": {},
   "source": [
    "## Connecting to the Oanda API"
   ]
  },
  {
   "cell_type": "code",
   "execution_count": 3,
   "metadata": {},
   "outputs": [],
   "source": [
    "oanda = tpqoa('/root/pyalgo.cfg')"
   ]
  },
  {
   "cell_type": "code",
   "execution_count": 4,
   "metadata": {},
   "outputs": [],
   "source": [
    "instrument_1 = 'AUD_USD'"
   ]
  },
  {
   "cell_type": "code",
   "execution_count": 5,
   "metadata": {},
   "outputs": [],
   "source": [
    "month1 = oanda.get_history(instrument_1,\n",
    "                          start = '2017-12-31',\n",
    "                          end = '2018-2-1',\n",
    "                          granularity = 'M10',\n",
    "                          price = 'A')"
   ]
  },
  {
   "cell_type": "code",
   "execution_count": 6,
   "metadata": {},
   "outputs": [],
   "source": [
    "month2 = oanda.get_history(instrument_1,\n",
    "                          start = '2018-2-1',\n",
    "                          end = '2018-3-1',\n",
    "                          granularity ='M10',\n",
    "                          price = 'A')"
   ]
  },
  {
   "cell_type": "code",
   "execution_count": 7,
   "metadata": {},
   "outputs": [],
   "source": [
    "month3 = oanda.get_history(instrument_1,\n",
    "                        start = '2018-3-1',\n",
    "                        end = '2018-3-31',\n",
    "                        granularity = 'M10',\n",
    "                        price = 'A')"
   ]
  },
  {
   "cell_type": "code",
   "execution_count": 8,
   "metadata": {},
   "outputs": [],
   "source": [
    "month4 = oanda.get_history(instrument_1,\n",
    "                        start = '2018-3-31',\n",
    "                        end = '2018-4-30',\n",
    "                        granularity = 'M10',\n",
    "                        price = 'A')"
   ]
  },
  {
   "cell_type": "code",
   "execution_count": 9,
   "metadata": {},
   "outputs": [],
   "source": [
    "month1cls = month1['c']\n",
    "month2cls = month2['c']\n",
    "month3cls = month3['c']\n",
    "month4cls = month4['c']"
   ]
  },
  {
   "cell_type": "code",
   "execution_count": 10,
   "metadata": {},
   "outputs": [],
   "source": [
    "seg_data = [month1cls, month2cls, month3cls, month4cls]"
   ]
  },
  {
   "cell_type": "code",
   "execution_count": 11,
   "metadata": {},
   "outputs": [],
   "source": [
    "fulldata = pd.concat(seg_data)"
   ]
  },
  {
   "cell_type": "markdown",
   "metadata": {},
   "source": [
    "# storage with HDF5"
   ]
  },
  {
   "cell_type": "code",
   "execution_count": 12,
   "metadata": {},
   "outputs": [],
   "source": [
    "h5 = pd.HDFStore('/root/pyalgocourse/test_project/data.h5','w')"
   ]
  },
  {
   "cell_type": "code",
   "execution_count": 13,
   "metadata": {},
   "outputs": [],
   "source": [
    "h5['data'] = fulldata"
   ]
  },
  {
   "cell_type": "code",
   "execution_count": 14,
   "metadata": {},
   "outputs": [
    {
     "data": {
      "text/plain": [
       "<class 'pandas.io.pytables.HDFStore'>\n",
       "File path: /root/pyalgocourse/test_project/data.h5\n",
       "/data            series       (shape->[12108])"
      ]
     },
     "execution_count": 14,
     "metadata": {},
     "output_type": "execute_result"
    }
   ],
   "source": [
    "h5"
   ]
  },
  {
   "cell_type": "code",
   "execution_count": 15,
   "metadata": {},
   "outputs": [
    {
     "name": "stdout",
     "output_type": "stream",
     "text": [
      "-rw-r--r-- 1 0 0 198816 May 22 06:31 data.h5\r\n"
     ]
    }
   ],
   "source": [
    "ls -n data.*"
   ]
  },
  {
   "cell_type": "code",
   "execution_count": 16,
   "metadata": {},
   "outputs": [],
   "source": [
    "h5.close()"
   ]
  },
  {
   "cell_type": "markdown",
   "metadata": {},
   "source": [
    "## Start with data saved from HDF5 file"
   ]
  },
  {
   "cell_type": "code",
   "execution_count": 17,
   "metadata": {},
   "outputs": [],
   "source": [
    "h5 = pd.HDFStore('/root/pyalgocourse/test_project/data.h5','r')"
   ]
  },
  {
   "cell_type": "code",
   "execution_count": 18,
   "metadata": {},
   "outputs": [],
   "source": [
    "fulldata_copy = h5['data']"
   ]
  },
  {
   "cell_type": "code",
   "execution_count": 19,
   "metadata": {},
   "outputs": [],
   "source": [
    "h5.close()"
   ]
  },
  {
   "cell_type": "code",
   "execution_count": 20,
   "metadata": {},
   "outputs": [
    {
     "data": {
      "image/png": "[encoded data removed]",
      "text/plain": [
       "<Figure size 432x288 with 1 Axes>"
      ]
     },
     "metadata": {},
     "output_type": "display_data"
    }
   ],
   "source": [
    "fulldata_copy.plot();"
   ]
  },
  {
   "cell_type": "markdown",
   "metadata": {},
   "source": [
    "## Calculate parameters for data"
   ]
  },
  {
   "cell_type": "code",
   "execution_count": 21,
   "metadata": {},
   "outputs": [],
   "source": [
    "# https://github.com/mtamer/python-rsi/blob/master/Stock%20Screener/rsi.py"
   ]
  },
  {
   "cell_type": "code",
   "execution_count": 22,
   "metadata": {},
   "outputs": [],
   "source": [
    "def relative_strength(data, n = 21):\n",
    "     \n",
    "    abchange = (data - data.shift(1))\n",
    "    rsperiod = abchange[:n + 1]\n",
    "    upday = rsperiod[rsperiod >= 0].sum() / n\n",
    "    dnday = -rsperiod[rsperiod < 0].sum() / n\n",
    "    rs = upday / dnday\n",
    "    rsi = np.zeros_like(data)\n",
    "    rsi[:n] = 100. - (100. / ( 1. + rs))\n",
    "    \n",
    "    for i in range(n, len(data)):\n",
    "        abchg = abchange[i - 1]\n",
    "        if abchg > 0:\n",
    "            upval = abchg\n",
    "            dnval = 0\n",
    "        else:\n",
    "            upval = 0\n",
    "            dnval = abs(abchg)\n",
    "            \n",
    "        upday = (upday * (n - 1) + upval) / n\n",
    "        dnday = (dnday * (n - 1) + dnval) / n\n",
    "        \n",
    "        rs = upday / dnday\n",
    "        rsi[i] = 100. - (100. / ( 1. + rs))\n",
    "        \n",
    "    \n",
    "    rsi = pd.DataFrame(rsi)\n",
    "    rsi.index = fulldata_copy.index\n",
    "    rsi.columns = ['RSI']\n",
    "    return rsi\n",
    "    "
   ]
  },
  {
   "cell_type": "code",
   "execution_count": 23,
   "metadata": {},
   "outputs": [],
   "source": [
    "rsi = relative_strength(fulldata_copy)"
   ]
  },
  {
   "cell_type": "code",
   "execution_count": 24,
   "metadata": {},
   "outputs": [],
   "source": [
    "fulldata_copy = pd.DataFrame(fulldata_copy)"
   ]
  },
  {
   "cell_type": "code",
   "execution_count": 25,
   "metadata": {},
   "outputs": [
    {
     "data": {
      "text/html": [
       "<div>\n",
       "<table border=\"1\" class=\"dataframe\">\n",
       "  <thead>\n",
       "    <tr style=\"text-align: right;\">\n",
       "      <th></th>\n",
       "      <th>c</th>\n",
       "    </tr>\n",
       "    <tr>\n",
       "      <th>time</th>\n",
       "      <th></th>\n",
       "    </tr>\n",
       "  </thead>\n",
       "  <tbody>\n",
       "    <tr>\n",
       "      <th>2018-01-01 22:00:00</th>\n",
       "      <td>0.78072</td>\n",
       "    </tr>\n",
       "    <tr>\n",
       "      <th>2018-01-01 22:10:00</th>\n",
       "      <td>0.78067</td>\n",
       "    </tr>\n",
       "    <tr>\n",
       "      <th>2018-01-01 22:20:00</th>\n",
       "      <td>0.78069</td>\n",
       "    </tr>\n",
       "    <tr>\n",
       "      <th>2018-01-01 22:30:00</th>\n",
       "      <td>0.78054</td>\n",
       "    </tr>\n",
       "    <tr>\n",
       "      <th>2018-01-01 22:40:00</th>\n",
       "      <td>0.78083</td>\n",
       "    </tr>\n",
       "  </tbody>\n",
       "</table>\n",
       "</div>"
      ],
      "text/plain": [
       "                           c\n",
       "time                        \n",
       "2018-01-01 22:00:00  0.78072\n",
       "2018-01-01 22:10:00  0.78067\n",
       "2018-01-01 22:20:00  0.78069\n",
       "2018-01-01 22:30:00  0.78054\n",
       "2018-01-01 22:40:00  0.78083"
      ]
     },
     "execution_count": 25,
     "metadata": {},
     "output_type": "execute_result"
    }
   ],
   "source": [
    "fulldata_copy.head()"
   ]
  },
  {
   "cell_type": "code",
   "execution_count": 26,
   "metadata": {},
   "outputs": [],
   "source": [
    "fulldata_copy['RSI'] = rsi['RSI']"
   ]
  },
  {
   "cell_type": "code",
   "execution_count": 27,
   "metadata": {},
   "outputs": [
    {
     "data": {
      "text/html": [
       "<div>\n",
       "<table border=\"1\" class=\"dataframe\">\n",
       "  <thead>\n",
       "    <tr style=\"text-align: right;\">\n",
       "      <th></th>\n",
       "      <th>c</th>\n",
       "      <th>RSI</th>\n",
       "    </tr>\n",
       "    <tr>\n",
       "      <th>time</th>\n",
       "      <th></th>\n",
       "      <th></th>\n",
       "    </tr>\n",
       "  </thead>\n",
       "  <tbody>\n",
       "    <tr>\n",
       "      <th>2018-01-01 22:00:00</th>\n",
       "      <td>0.78072</td>\n",
       "      <td>63.131313</td>\n",
       "    </tr>\n",
       "    <tr>\n",
       "      <th>2018-01-01 22:10:00</th>\n",
       "      <td>0.78067</td>\n",
       "      <td>63.131313</td>\n",
       "    </tr>\n",
       "    <tr>\n",
       "      <th>2018-01-01 22:20:00</th>\n",
       "      <td>0.78069</td>\n",
       "      <td>63.131313</td>\n",
       "    </tr>\n",
       "    <tr>\n",
       "      <th>2018-01-01 22:30:00</th>\n",
       "      <td>0.78054</td>\n",
       "      <td>63.131313</td>\n",
       "    </tr>\n",
       "    <tr>\n",
       "      <th>2018-01-01 22:40:00</th>\n",
       "      <td>0.78083</td>\n",
       "      <td>63.131313</td>\n",
       "    </tr>\n",
       "  </tbody>\n",
       "</table>\n",
       "</div>"
      ],
      "text/plain": [
       "                           c        RSI\n",
       "time                                   \n",
       "2018-01-01 22:00:00  0.78072  63.131313\n",
       "2018-01-01 22:10:00  0.78067  63.131313\n",
       "2018-01-01 22:20:00  0.78069  63.131313\n",
       "2018-01-01 22:30:00  0.78054  63.131313\n",
       "2018-01-01 22:40:00  0.78083  63.131313"
      ]
     },
     "execution_count": 27,
     "metadata": {},
     "output_type": "execute_result"
    }
   ],
   "source": [
    "fulldata_copy.head()"
   ]
  },
  {
   "cell_type": "code",
   "execution_count": 28,
   "metadata": {},
   "outputs": [],
   "source": [
    "fulldata_copy.columns = ['AUDUSD','RSI']"
   ]
  },
  {
   "cell_type": "code",
   "execution_count": 29,
   "metadata": {},
   "outputs": [],
   "source": [
    "fulldata_copy['MACD'] = fulldata_copy['AUDUSD'].ewm(span = 26).mean() - fulldata_copy['AUDUSD'].ewm(span = 12).mean()"
   ]
  },
  {
   "cell_type": "code",
   "execution_count": 30,
   "metadata": {},
   "outputs": [],
   "source": [
    "fulldata_copy['Returns'] = np.log(fulldata_copy['AUDUSD'] / fulldata_copy['AUDUSD'].shift(1))"
   ]
  },
  {
   "cell_type": "code",
   "execution_count": 31,
   "metadata": {},
   "outputs": [
    {
     "data": {
      "text/html": [
       "<div>\n",
       "<table border=\"1\" class=\"dataframe\">\n",
       "  <thead>\n",
       "    <tr style=\"text-align: right;\">\n",
       "      <th></th>\n",
       "      <th>AUDUSD</th>\n",
       "      <th>RSI</th>\n",
       "      <th>MACD</th>\n",
       "      <th>Returns</th>\n",
       "    </tr>\n",
       "    <tr>\n",
       "      <th>time</th>\n",
       "      <th></th>\n",
       "      <th></th>\n",
       "      <th></th>\n",
       "      <th></th>\n",
       "    </tr>\n",
       "  </thead>\n",
       "  <tbody>\n",
       "    <tr>\n",
       "      <th>2018-01-01 22:00:00</th>\n",
       "      <td>0.78072</td>\n",
       "      <td>63.131313</td>\n",
       "      <td>0.000000e+00</td>\n",
       "      <td>NaN</td>\n",
       "    </tr>\n",
       "    <tr>\n",
       "      <th>2018-01-01 22:10:00</th>\n",
       "      <td>0.78067</td>\n",
       "      <td>63.131313</td>\n",
       "      <td>1.121795e-06</td>\n",
       "      <td>-0.000064</td>\n",
       "    </tr>\n",
       "    <tr>\n",
       "      <th>2018-01-01 22:20:00</th>\n",
       "      <td>0.78069</td>\n",
       "      <td>63.131313</td>\n",
       "      <td>8.091905e-07</td>\n",
       "      <td>0.000026</td>\n",
       "    </tr>\n",
       "    <tr>\n",
       "      <th>2018-01-01 22:30:00</th>\n",
       "      <td>0.78054</td>\n",
       "      <td>63.131313</td>\n",
       "      <td>6.062874e-06</td>\n",
       "      <td>-0.000192</td>\n",
       "    </tr>\n",
       "    <tr>\n",
       "      <th>2018-01-01 22:40:00</th>\n",
       "      <td>0.78083</td>\n",
       "      <td>63.131313</td>\n",
       "      <td>-2.749760e-06</td>\n",
       "      <td>0.000371</td>\n",
       "    </tr>\n",
       "  </tbody>\n",
       "</table>\n",
       "</div>"
      ],
      "text/plain": [
       "                      AUDUSD        RSI          MACD   Returns\n",
       "time                                                           \n",
       "2018-01-01 22:00:00  0.78072  63.131313  0.000000e+00       NaN\n",
       "2018-01-01 22:10:00  0.78067  63.131313  1.121795e-06 -0.000064\n",
       "2018-01-01 22:20:00  0.78069  63.131313  8.091905e-07  0.000026\n",
       "2018-01-01 22:30:00  0.78054  63.131313  6.062874e-06 -0.000192\n",
       "2018-01-01 22:40:00  0.78083  63.131313 -2.749760e-06  0.000371"
      ]
     },
     "execution_count": 31,
     "metadata": {},
     "output_type": "execute_result"
    }
   ],
   "source": [
    "fulldata_copy.head()"
   ]
  },
  {
   "cell_type": "code",
   "execution_count": 32,
   "metadata": {},
   "outputs": [
    {
     "data": {
      "text/html": [
       "<div>\n",
       "<table border=\"1\" class=\"dataframe\">\n",
       "  <thead>\n",
       "    <tr style=\"text-align: right;\">\n",
       "      <th></th>\n",
       "      <th>AUDUSD</th>\n",
       "      <th>RSI</th>\n",
       "      <th>MACD</th>\n",
       "      <th>Returns</th>\n",
       "    </tr>\n",
       "    <tr>\n",
       "      <th>time</th>\n",
       "      <th></th>\n",
       "      <th></th>\n",
       "      <th></th>\n",
       "      <th></th>\n",
       "    </tr>\n",
       "  </thead>\n",
       "  <tbody>\n",
       "    <tr>\n",
       "      <th>2018-04-29 23:10:00</th>\n",
       "      <td>0.75740</td>\n",
       "      <td>49.180254</td>\n",
       "      <td>-0.000010</td>\n",
       "      <td>-0.000172</td>\n",
       "    </tr>\n",
       "    <tr>\n",
       "      <th>2018-04-29 23:20:00</th>\n",
       "      <td>0.75728</td>\n",
       "      <td>47.251147</td>\n",
       "      <td>0.000030</td>\n",
       "      <td>-0.000158</td>\n",
       "    </tr>\n",
       "    <tr>\n",
       "      <th>2018-04-29 23:30:00</th>\n",
       "      <td>0.75745</td>\n",
       "      <td>45.520534</td>\n",
       "      <td>0.000048</td>\n",
       "      <td>0.000224</td>\n",
       "    </tr>\n",
       "    <tr>\n",
       "      <th>2018-04-29 23:40:00</th>\n",
       "      <td>0.75760</td>\n",
       "      <td>48.335277</td>\n",
       "      <td>0.000049</td>\n",
       "      <td>0.000198</td>\n",
       "    </tr>\n",
       "    <tr>\n",
       "      <th>2018-04-29 23:50:00</th>\n",
       "      <td>0.75740</td>\n",
       "      <td>50.695350</td>\n",
       "      <td>0.000066</td>\n",
       "      <td>-0.000264</td>\n",
       "    </tr>\n",
       "  </tbody>\n",
       "</table>\n",
       "</div>"
      ],
      "text/plain": [
       "                      AUDUSD        RSI      MACD   Returns\n",
       "time                                                       \n",
       "2018-04-29 23:10:00  0.75740  49.180254 -0.000010 -0.000172\n",
       "2018-04-29 23:20:00  0.75728  47.251147  0.000030 -0.000158\n",
       "2018-04-29 23:30:00  0.75745  45.520534  0.000048  0.000224\n",
       "2018-04-29 23:40:00  0.75760  48.335277  0.000049  0.000198\n",
       "2018-04-29 23:50:00  0.75740  50.695350  0.000066 -0.000264"
      ]
     },
     "execution_count": 32,
     "metadata": {},
     "output_type": "execute_result"
    }
   ],
   "source": [
    "fulldata_copy.tail()"
   ]
  },
  {
   "cell_type": "code",
   "execution_count": 33,
   "metadata": {},
   "outputs": [
    {
     "data": {
      "image/png": "[encoded data removed]",
      "text/plain": [
       "<Figure size 720x432 with 2 Axes>"
      ]
     },
     "metadata": {},
     "output_type": "display_data"
    }
   ],
   "source": [
    "fulldata_copy[['AUDUSD','RSI']].plot(figsize=(10,6),secondary_y = 'RSI');"
   ]
  },
  {
   "cell_type": "code",
   "execution_count": 34,
   "metadata": {},
   "outputs": [
    {
     "data": {
      "image/png": "[encoded data removed]",
      "text/plain": [
       "<Figure size 720x432 with 2 Axes>"
      ]
     },
     "metadata": {},
     "output_type": "display_data"
    }
   ],
   "source": [
    "fulldata_copy[['AUDUSD','MACD']][:500].plot(figsize=(10,6),secondary_y = 'MACD');"
   ]
  },
  {
   "cell_type": "code",
   "execution_count": 35,
   "metadata": {},
   "outputs": [],
   "source": [
    "lags = 30\n",
    "cols = []\n",
    "for lags in range(1, lags + 1):\n",
    "    col = 'lag_%d' % lags\n",
    "    fulldata_copy[col] = fulldata_copy['Returns'].shift(lags)\n",
    "    cols.append(col)"
   ]
  },
  {
   "cell_type": "code",
   "execution_count": 36,
   "metadata": {},
   "outputs": [
    {
     "data": {
      "text/html": [
       "<div>\n",
       "<table border=\"1\" class=\"dataframe\">\n",
       "  <thead>\n",
       "    <tr style=\"text-align: right;\">\n",
       "      <th></th>\n",
       "      <th>AUDUSD</th>\n",
       "      <th>RSI</th>\n",
       "      <th>MACD</th>\n",
       "      <th>Returns</th>\n",
       "      <th>lag_1</th>\n",
       "      <th>lag_2</th>\n",
       "      <th>lag_3</th>\n",
       "      <th>lag_4</th>\n",
       "      <th>lag_5</th>\n",
       "      <th>lag_6</th>\n",
       "      <th>...</th>\n",
       "      <th>lag_21</th>\n",
       "      <th>lag_22</th>\n",
       "      <th>lag_23</th>\n",
       "      <th>lag_24</th>\n",
       "      <th>lag_25</th>\n",
       "      <th>lag_26</th>\n",
       "      <th>lag_27</th>\n",
       "      <th>lag_28</th>\n",
       "      <th>lag_29</th>\n",
       "      <th>lag_30</th>\n",
       "    </tr>\n",
       "    <tr>\n",
       "      <th>time</th>\n",
       "      <th></th>\n",
       "      <th></th>\n",
       "      <th></th>\n",
       "      <th></th>\n",
       "      <th></th>\n",
       "      <th></th>\n",
       "      <th></th>\n",
       "      <th></th>\n",
       "      <th></th>\n",
       "      <th></th>\n",
       "      <th></th>\n",
       "      <th></th>\n",
       "      <th></th>\n",
       "      <th></th>\n",
       "      <th></th>\n",
       "      <th></th>\n",
       "      <th></th>\n",
       "      <th></th>\n",
       "      <th></th>\n",
       "      <th></th>\n",
       "      <th></th>\n",
       "    </tr>\n",
       "  </thead>\n",
       "  <tbody>\n",
       "    <tr>\n",
       "      <th>2018-04-29 23:10:00</th>\n",
       "      <td>0.75740</td>\n",
       "      <td>49.180254</td>\n",
       "      <td>-0.000010</td>\n",
       "      <td>-0.000172</td>\n",
       "      <td>-0.000119</td>\n",
       "      <td>-0.000106</td>\n",
       "      <td>-0.000330</td>\n",
       "      <td>-0.000185</td>\n",
       "      <td>0.000106</td>\n",
       "      <td>0.000040</td>\n",
       "      <td>...</td>\n",
       "      <td>-0.000026</td>\n",
       "      <td>-0.000066</td>\n",
       "      <td>-0.000026</td>\n",
       "      <td>0.000026</td>\n",
       "      <td>0.000119</td>\n",
       "      <td>0.000198</td>\n",
       "      <td>0.000449</td>\n",
       "      <td>0.000594</td>\n",
       "      <td>0.000079</td>\n",
       "      <td>0.000172</td>\n",
       "    </tr>\n",
       "    <tr>\n",
       "      <th>2018-04-29 23:20:00</th>\n",
       "      <td>0.75728</td>\n",
       "      <td>47.251147</td>\n",
       "      <td>0.000030</td>\n",
       "      <td>-0.000158</td>\n",
       "      <td>-0.000172</td>\n",
       "      <td>-0.000119</td>\n",
       "      <td>-0.000106</td>\n",
       "      <td>-0.000330</td>\n",
       "      <td>-0.000185</td>\n",
       "      <td>0.000106</td>\n",
       "      <td>...</td>\n",
       "      <td>-0.000185</td>\n",
       "      <td>-0.000026</td>\n",
       "      <td>-0.000066</td>\n",
       "      <td>-0.000026</td>\n",
       "      <td>0.000026</td>\n",
       "      <td>0.000119</td>\n",
       "      <td>0.000198</td>\n",
       "      <td>0.000449</td>\n",
       "      <td>0.000594</td>\n",
       "      <td>0.000079</td>\n",
       "    </tr>\n",
       "    <tr>\n",
       "      <th>2018-04-29 23:30:00</th>\n",
       "      <td>0.75745</td>\n",
       "      <td>45.520534</td>\n",
       "      <td>0.000048</td>\n",
       "      <td>0.000224</td>\n",
       "      <td>-0.000158</td>\n",
       "      <td>-0.000172</td>\n",
       "      <td>-0.000119</td>\n",
       "      <td>-0.000106</td>\n",
       "      <td>-0.000330</td>\n",
       "      <td>-0.000185</td>\n",
       "      <td>...</td>\n",
       "      <td>-0.000132</td>\n",
       "      <td>-0.000185</td>\n",
       "      <td>-0.000026</td>\n",
       "      <td>-0.000066</td>\n",
       "      <td>-0.000026</td>\n",
       "      <td>0.000026</td>\n",
       "      <td>0.000119</td>\n",
       "      <td>0.000198</td>\n",
       "      <td>0.000449</td>\n",
       "      <td>0.000594</td>\n",
       "    </tr>\n",
       "    <tr>\n",
       "      <th>2018-04-29 23:40:00</th>\n",
       "      <td>0.75760</td>\n",
       "      <td>48.335277</td>\n",
       "      <td>0.000049</td>\n",
       "      <td>0.000198</td>\n",
       "      <td>0.000224</td>\n",
       "      <td>-0.000158</td>\n",
       "      <td>-0.000172</td>\n",
       "      <td>-0.000119</td>\n",
       "      <td>-0.000106</td>\n",
       "      <td>-0.000330</td>\n",
       "      <td>...</td>\n",
       "      <td>-0.000040</td>\n",
       "      <td>-0.000132</td>\n",
       "      <td>-0.000185</td>\n",
       "      <td>-0.000026</td>\n",
       "      <td>-0.000066</td>\n",
       "      <td>-0.000026</td>\n",
       "      <td>0.000026</td>\n",
       "      <td>0.000119</td>\n",
       "      <td>0.000198</td>\n",
       "      <td>0.000449</td>\n",
       "    </tr>\n",
       "    <tr>\n",
       "      <th>2018-04-29 23:50:00</th>\n",
       "      <td>0.75740</td>\n",
       "      <td>50.695350</td>\n",
       "      <td>0.000066</td>\n",
       "      <td>-0.000264</td>\n",
       "      <td>0.000198</td>\n",
       "      <td>0.000224</td>\n",
       "      <td>-0.000158</td>\n",
       "      <td>-0.000172</td>\n",
       "      <td>-0.000119</td>\n",
       "      <td>-0.000106</td>\n",
       "      <td>...</td>\n",
       "      <td>0.000106</td>\n",
       "      <td>-0.000040</td>\n",
       "      <td>-0.000132</td>\n",
       "      <td>-0.000185</td>\n",
       "      <td>-0.000026</td>\n",
       "      <td>-0.000066</td>\n",
       "      <td>-0.000026</td>\n",
       "      <td>0.000026</td>\n",
       "      <td>0.000119</td>\n",
       "      <td>0.000198</td>\n",
       "    </tr>\n",
       "  </tbody>\n",
       "</table>\n",
       "<p>5 rows × 34 columns</p>\n",
       "</div>"
      ],
      "text/plain": [
       "                      AUDUSD        RSI      MACD   Returns     lag_1  \\\n",
       "time                                                                    \n",
       "2018-04-29 23:10:00  0.75740  49.180254 -0.000010 -0.000172 -0.000119   \n",
       "2018-04-29 23:20:00  0.75728  47.251147  0.000030 -0.000158 -0.000172   \n",
       "2018-04-29 23:30:00  0.75745  45.520534  0.000048  0.000224 -0.000158   \n",
       "2018-04-29 23:40:00  0.75760  48.335277  0.000049  0.000198  0.000224   \n",
       "2018-04-29 23:50:00  0.75740  50.695350  0.000066 -0.000264  0.000198   \n",
       "\n",
       "                        lag_2     lag_3     lag_4     lag_5     lag_6  \\\n",
       "time                                                                    \n",
       "2018-04-29 23:10:00 -0.000106 -0.000330 -0.000185  0.000106  0.000040   \n",
       "2018-04-29 23:20:00 -0.000119 -0.000106 -0.000330 -0.000185  0.000106   \n",
       "2018-04-29 23:30:00 -0.000172 -0.000119 -0.000106 -0.000330 -0.000185   \n",
       "2018-04-29 23:40:00 -0.000158 -0.000172 -0.000119 -0.000106 -0.000330   \n",
       "2018-04-29 23:50:00  0.000224 -0.000158 -0.000172 -0.000119 -0.000106   \n",
       "\n",
       "                       ...       lag_21    lag_22    lag_23    lag_24  \\\n",
       "time                   ...                                              \n",
       "2018-04-29 23:10:00    ...    -0.000026 -0.000066 -0.000026  0.000026   \n",
       "2018-04-29 23:20:00    ...    -0.000185 -0.000026 -0.000066 -0.000026   \n",
       "2018-04-29 23:30:00    ...    -0.000132 -0.000185 -0.000026 -0.000066   \n",
       "2018-04-29 23:40:00    ...    -0.000040 -0.000132 -0.000185 -0.000026   \n",
       "2018-04-29 23:50:00    ...     0.000106 -0.000040 -0.000132 -0.000185   \n",
       "\n",
       "                       lag_25    lag_26    lag_27    lag_28    lag_29  \\\n",
       "time                                                                    \n",
       "2018-04-29 23:10:00  0.000119  0.000198  0.000449  0.000594  0.000079   \n",
       "2018-04-29 23:20:00  0.000026  0.000119  0.000198  0.000449  0.000594   \n",
       "2018-04-29 23:30:00 -0.000026  0.000026  0.000119  0.000198  0.000449   \n",
       "2018-04-29 23:40:00 -0.000066 -0.000026  0.000026  0.000119  0.000198   \n",
       "2018-04-29 23:50:00 -0.000026 -0.000066 -0.000026  0.000026  0.000119   \n",
       "\n",
       "                       lag_30  \n",
       "time                           \n",
       "2018-04-29 23:10:00  0.000172  \n",
       "2018-04-29 23:20:00  0.000079  \n",
       "2018-04-29 23:30:00  0.000594  \n",
       "2018-04-29 23:40:00  0.000449  \n",
       "2018-04-29 23:50:00  0.000198  \n",
       "\n",
       "[5 rows x 34 columns]"
      ]
     },
     "execution_count": 36,
     "metadata": {},
     "output_type": "execute_result"
    }
   ],
   "source": [
    "fulldata_copy.tail()"
   ]
  },
  {
   "cell_type": "code",
   "execution_count": 37,
   "metadata": {},
   "outputs": [],
   "source": [
    "fulldata_copy['MOM1'] = np.where(fulldata_copy['Returns'].rolling(10).mean() > 0, 1, 0)\n",
    "fulldata_copy['MOM1'] = fulldata_copy['MOM1'].shift(1)\n",
    "cols.append('MOM1')\n",
    "fulldata_copy['MOM2'] = np.where(fulldata_copy['Returns'].rolling(50).mean() > 0, 1, 0)\n",
    "fulldata_copy['MOM2'] = fulldata_copy['MOM2'].shift(1)\n",
    "cols.append('MOM2')\n",
    "cols.append('RSI')\n",
    "cols.append('MACD')"
   ]
  },
  {
   "cell_type": "code",
   "execution_count": 38,
   "metadata": {},
   "outputs": [
    {
     "data": {
      "text/plain": [
       "['lag_1',\n",
       " 'lag_2',\n",
       " 'lag_3',\n",
       " 'lag_4',\n",
       " 'lag_5',\n",
       " 'lag_6',\n",
       " 'lag_7',\n",
       " 'lag_8',\n",
       " 'lag_9',\n",
       " 'lag_10',\n",
       " 'lag_11',\n",
       " 'lag_12',\n",
       " 'lag_13',\n",
       " 'lag_14',\n",
       " 'lag_15',\n",
       " 'lag_16',\n",
       " 'lag_17',\n",
       " 'lag_18',\n",
       " 'lag_19',\n",
       " 'lag_20',\n",
       " 'lag_21',\n",
       " 'lag_22',\n",
       " 'lag_23',\n",
       " 'lag_24',\n",
       " 'lag_25',\n",
       " 'lag_26',\n",
       " 'lag_27',\n",
       " 'lag_28',\n",
       " 'lag_29',\n",
       " 'lag_30',\n",
       " 'MOM1',\n",
       " 'MOM2',\n",
       " 'RSI',\n",
       " 'MACD']"
      ]
     },
     "execution_count": 38,
     "metadata": {},
     "output_type": "execute_result"
    }
   ],
   "source": [
    "cols"
   ]
  },
  {
   "cell_type": "code",
   "execution_count": 39,
   "metadata": {},
   "outputs": [
    {
     "data": {
      "text/html": [
       "<div>\n",
       "<table border=\"1\" class=\"dataframe\">\n",
       "  <thead>\n",
       "    <tr style=\"text-align: right;\">\n",
       "      <th></th>\n",
       "      <th>AUDUSD</th>\n",
       "      <th>RSI</th>\n",
       "      <th>MACD</th>\n",
       "      <th>Returns</th>\n",
       "      <th>lag_1</th>\n",
       "      <th>lag_2</th>\n",
       "      <th>lag_3</th>\n",
       "      <th>lag_4</th>\n",
       "      <th>lag_5</th>\n",
       "      <th>lag_6</th>\n",
       "      <th>...</th>\n",
       "      <th>lag_23</th>\n",
       "      <th>lag_24</th>\n",
       "      <th>lag_25</th>\n",
       "      <th>lag_26</th>\n",
       "      <th>lag_27</th>\n",
       "      <th>lag_28</th>\n",
       "      <th>lag_29</th>\n",
       "      <th>lag_30</th>\n",
       "      <th>MOM1</th>\n",
       "      <th>MOM2</th>\n",
       "    </tr>\n",
       "    <tr>\n",
       "      <th>time</th>\n",
       "      <th></th>\n",
       "      <th></th>\n",
       "      <th></th>\n",
       "      <th></th>\n",
       "      <th></th>\n",
       "      <th></th>\n",
       "      <th></th>\n",
       "      <th></th>\n",
       "      <th></th>\n",
       "      <th></th>\n",
       "      <th></th>\n",
       "      <th></th>\n",
       "      <th></th>\n",
       "      <th></th>\n",
       "      <th></th>\n",
       "      <th></th>\n",
       "      <th></th>\n",
       "      <th></th>\n",
       "      <th></th>\n",
       "      <th></th>\n",
       "      <th></th>\n",
       "    </tr>\n",
       "  </thead>\n",
       "  <tbody>\n",
       "    <tr>\n",
       "      <th>2018-04-29 23:10:00</th>\n",
       "      <td>0.75740</td>\n",
       "      <td>49.180254</td>\n",
       "      <td>-0.000010</td>\n",
       "      <td>-0.000172</td>\n",
       "      <td>-0.000119</td>\n",
       "      <td>-0.000106</td>\n",
       "      <td>-0.000330</td>\n",
       "      <td>-0.000185</td>\n",
       "      <td>0.000106</td>\n",
       "      <td>0.000040</td>\n",
       "      <td>...</td>\n",
       "      <td>-0.000026</td>\n",
       "      <td>0.000026</td>\n",
       "      <td>0.000119</td>\n",
       "      <td>0.000198</td>\n",
       "      <td>0.000449</td>\n",
       "      <td>0.000594</td>\n",
       "      <td>0.000079</td>\n",
       "      <td>0.000172</td>\n",
       "      <td>0.0</td>\n",
       "      <td>1.0</td>\n",
       "    </tr>\n",
       "    <tr>\n",
       "      <th>2018-04-29 23:20:00</th>\n",
       "      <td>0.75728</td>\n",
       "      <td>47.251147</td>\n",
       "      <td>0.000030</td>\n",
       "      <td>-0.000158</td>\n",
       "      <td>-0.000172</td>\n",
       "      <td>-0.000119</td>\n",
       "      <td>-0.000106</td>\n",
       "      <td>-0.000330</td>\n",
       "      <td>-0.000185</td>\n",
       "      <td>0.000106</td>\n",
       "      <td>...</td>\n",
       "      <td>-0.000066</td>\n",
       "      <td>-0.000026</td>\n",
       "      <td>0.000026</td>\n",
       "      <td>0.000119</td>\n",
       "      <td>0.000198</td>\n",
       "      <td>0.000449</td>\n",
       "      <td>0.000594</td>\n",
       "      <td>0.000079</td>\n",
       "      <td>0.0</td>\n",
       "      <td>1.0</td>\n",
       "    </tr>\n",
       "    <tr>\n",
       "      <th>2018-04-29 23:30:00</th>\n",
       "      <td>0.75745</td>\n",
       "      <td>45.520534</td>\n",
       "      <td>0.000048</td>\n",
       "      <td>0.000224</td>\n",
       "      <td>-0.000158</td>\n",
       "      <td>-0.000172</td>\n",
       "      <td>-0.000119</td>\n",
       "      <td>-0.000106</td>\n",
       "      <td>-0.000330</td>\n",
       "      <td>-0.000185</td>\n",
       "      <td>...</td>\n",
       "      <td>-0.000026</td>\n",
       "      <td>-0.000066</td>\n",
       "      <td>-0.000026</td>\n",
       "      <td>0.000026</td>\n",
       "      <td>0.000119</td>\n",
       "      <td>0.000198</td>\n",
       "      <td>0.000449</td>\n",
       "      <td>0.000594</td>\n",
       "      <td>0.0</td>\n",
       "      <td>1.0</td>\n",
       "    </tr>\n",
       "    <tr>\n",
       "      <th>2018-04-29 23:40:00</th>\n",
       "      <td>0.75760</td>\n",
       "      <td>48.335277</td>\n",
       "      <td>0.000049</td>\n",
       "      <td>0.000198</td>\n",
       "      <td>0.000224</td>\n",
       "      <td>-0.000158</td>\n",
       "      <td>-0.000172</td>\n",
       "      <td>-0.000119</td>\n",
       "      <td>-0.000106</td>\n",
       "      <td>-0.000330</td>\n",
       "      <td>...</td>\n",
       "      <td>-0.000185</td>\n",
       "      <td>-0.000026</td>\n",
       "      <td>-0.000066</td>\n",
       "      <td>-0.000026</td>\n",
       "      <td>0.000026</td>\n",
       "      <td>0.000119</td>\n",
       "      <td>0.000198</td>\n",
       "      <td>0.000449</td>\n",
       "      <td>0.0</td>\n",
       "      <td>1.0</td>\n",
       "    </tr>\n",
       "    <tr>\n",
       "      <th>2018-04-29 23:50:00</th>\n",
       "      <td>0.75740</td>\n",
       "      <td>50.695350</td>\n",
       "      <td>0.000066</td>\n",
       "      <td>-0.000264</td>\n",
       "      <td>0.000198</td>\n",
       "      <td>0.000224</td>\n",
       "      <td>-0.000158</td>\n",
       "      <td>-0.000172</td>\n",
       "      <td>-0.000119</td>\n",
       "      <td>-0.000106</td>\n",
       "      <td>...</td>\n",
       "      <td>-0.000132</td>\n",
       "      <td>-0.000185</td>\n",
       "      <td>-0.000026</td>\n",
       "      <td>-0.000066</td>\n",
       "      <td>-0.000026</td>\n",
       "      <td>0.000026</td>\n",
       "      <td>0.000119</td>\n",
       "      <td>0.000198</td>\n",
       "      <td>0.0</td>\n",
       "      <td>1.0</td>\n",
       "    </tr>\n",
       "  </tbody>\n",
       "</table>\n",
       "<p>5 rows × 36 columns</p>\n",
       "</div>"
      ],
      "text/plain": [
       "                      AUDUSD        RSI      MACD   Returns     lag_1  \\\n",
       "time                                                                    \n",
       "2018-04-29 23:10:00  0.75740  49.180254 -0.000010 -0.000172 -0.000119   \n",
       "2018-04-29 23:20:00  0.75728  47.251147  0.000030 -0.000158 -0.000172   \n",
       "2018-04-29 23:30:00  0.75745  45.520534  0.000048  0.000224 -0.000158   \n",
       "2018-04-29 23:40:00  0.75760  48.335277  0.000049  0.000198  0.000224   \n",
       "2018-04-29 23:50:00  0.75740  50.695350  0.000066 -0.000264  0.000198   \n",
       "\n",
       "                        lag_2     lag_3     lag_4     lag_5     lag_6  ...   \\\n",
       "time                                                                   ...    \n",
       "2018-04-29 23:10:00 -0.000106 -0.000330 -0.000185  0.000106  0.000040  ...    \n",
       "2018-04-29 23:20:00 -0.000119 -0.000106 -0.000330 -0.000185  0.000106  ...    \n",
       "2018-04-29 23:30:00 -0.000172 -0.000119 -0.000106 -0.000330 -0.000185  ...    \n",
       "2018-04-29 23:40:00 -0.000158 -0.000172 -0.000119 -0.000106 -0.000330  ...    \n",
       "2018-04-29 23:50:00  0.000224 -0.000158 -0.000172 -0.000119 -0.000106  ...    \n",
       "\n",
       "                       lag_23    lag_24    lag_25    lag_26    lag_27  \\\n",
       "time                                                                    \n",
       "2018-04-29 23:10:00 -0.000026  0.000026  0.000119  0.000198  0.000449   \n",
       "2018-04-29 23:20:00 -0.000066 -0.000026  0.000026  0.000119  0.000198   \n",
       "2018-04-29 23:30:00 -0.000026 -0.000066 -0.000026  0.000026  0.000119   \n",
       "2018-04-29 23:40:00 -0.000185 -0.000026 -0.000066 -0.000026  0.000026   \n",
       "2018-04-29 23:50:00 -0.000132 -0.000185 -0.000026 -0.000066 -0.000026   \n",
       "\n",
       "                       lag_28    lag_29    lag_30  MOM1  MOM2  \n",
       "time                                                           \n",
       "2018-04-29 23:10:00  0.000594  0.000079  0.000172   0.0   1.0  \n",
       "2018-04-29 23:20:00  0.000449  0.000594  0.000079   0.0   1.0  \n",
       "2018-04-29 23:30:00  0.000198  0.000449  0.000594   0.0   1.0  \n",
       "2018-04-29 23:40:00  0.000119  0.000198  0.000449   0.0   1.0  \n",
       "2018-04-29 23:50:00  0.000026  0.000119  0.000198   0.0   1.0  \n",
       "\n",
       "[5 rows x 36 columns]"
      ]
     },
     "execution_count": 39,
     "metadata": {},
     "output_type": "execute_result"
    }
   ],
   "source": [
    "fulldata_copy.tail()"
   ]
  },
  {
   "cell_type": "code",
   "execution_count": 40,
   "metadata": {},
   "outputs": [],
   "source": [
    "fulldata_copy.dropna(inplace = True)"
   ]
  },
  {
   "cell_type": "code",
   "execution_count": 41,
   "metadata": {},
   "outputs": [
    {
     "data": {
      "text/html": [
       "<div>\n",
       "<table border=\"1\" class=\"dataframe\">\n",
       "  <thead>\n",
       "    <tr style=\"text-align: right;\">\n",
       "      <th></th>\n",
       "      <th>AUDUSD</th>\n",
       "      <th>RSI</th>\n",
       "      <th>MACD</th>\n",
       "      <th>Returns</th>\n",
       "      <th>lag_1</th>\n",
       "      <th>lag_2</th>\n",
       "      <th>lag_3</th>\n",
       "      <th>lag_4</th>\n",
       "      <th>lag_5</th>\n",
       "      <th>lag_6</th>\n",
       "      <th>...</th>\n",
       "      <th>lag_23</th>\n",
       "      <th>lag_24</th>\n",
       "      <th>lag_25</th>\n",
       "      <th>lag_26</th>\n",
       "      <th>lag_27</th>\n",
       "      <th>lag_28</th>\n",
       "      <th>lag_29</th>\n",
       "      <th>lag_30</th>\n",
       "      <th>MOM1</th>\n",
       "      <th>MOM2</th>\n",
       "    </tr>\n",
       "    <tr>\n",
       "      <th>time</th>\n",
       "      <th></th>\n",
       "      <th></th>\n",
       "      <th></th>\n",
       "      <th></th>\n",
       "      <th></th>\n",
       "      <th></th>\n",
       "      <th></th>\n",
       "      <th></th>\n",
       "      <th></th>\n",
       "      <th></th>\n",
       "      <th></th>\n",
       "      <th></th>\n",
       "      <th></th>\n",
       "      <th></th>\n",
       "      <th></th>\n",
       "      <th></th>\n",
       "      <th></th>\n",
       "      <th></th>\n",
       "      <th></th>\n",
       "      <th></th>\n",
       "      <th></th>\n",
       "    </tr>\n",
       "  </thead>\n",
       "  <tbody>\n",
       "    <tr>\n",
       "      <th>2018-01-02 03:10:00</th>\n",
       "      <td>0.78318</td>\n",
       "      <td>63.690322</td>\n",
       "      <td>-0.000410</td>\n",
       "      <td>0.000651</td>\n",
       "      <td>0.000562</td>\n",
       "      <td>0.000102</td>\n",
       "      <td>0.000102</td>\n",
       "      <td>-0.000281</td>\n",
       "      <td>0.000384</td>\n",
       "      <td>-0.000345</td>\n",
       "      <td>...</td>\n",
       "      <td>-0.000474</td>\n",
       "      <td>-0.000192</td>\n",
       "      <td>-0.001293</td>\n",
       "      <td>0.001075</td>\n",
       "      <td>0.000371</td>\n",
       "      <td>-0.000192</td>\n",
       "      <td>0.000026</td>\n",
       "      <td>-0.000064</td>\n",
       "      <td>1.0</td>\n",
       "      <td>0.0</td>\n",
       "    </tr>\n",
       "    <tr>\n",
       "      <th>2018-01-02 03:20:00</th>\n",
       "      <td>0.78318</td>\n",
       "      <td>66.794347</td>\n",
       "      <td>-0.000446</td>\n",
       "      <td>0.000000</td>\n",
       "      <td>0.000651</td>\n",
       "      <td>0.000562</td>\n",
       "      <td>0.000102</td>\n",
       "      <td>0.000102</td>\n",
       "      <td>-0.000281</td>\n",
       "      <td>0.000384</td>\n",
       "      <td>...</td>\n",
       "      <td>-0.000269</td>\n",
       "      <td>-0.000474</td>\n",
       "      <td>-0.000192</td>\n",
       "      <td>-0.001293</td>\n",
       "      <td>0.001075</td>\n",
       "      <td>0.000371</td>\n",
       "      <td>-0.000192</td>\n",
       "      <td>0.000026</td>\n",
       "      <td>1.0</td>\n",
       "      <td>0.0</td>\n",
       "    </tr>\n",
       "    <tr>\n",
       "      <th>2018-01-02 03:30:00</th>\n",
       "      <td>0.78312</td>\n",
       "      <td>66.794347</td>\n",
       "      <td>-0.000465</td>\n",
       "      <td>-0.000077</td>\n",
       "      <td>0.000000</td>\n",
       "      <td>0.000651</td>\n",
       "      <td>0.000562</td>\n",
       "      <td>0.000102</td>\n",
       "      <td>0.000102</td>\n",
       "      <td>-0.000281</td>\n",
       "      <td>...</td>\n",
       "      <td>-0.000321</td>\n",
       "      <td>-0.000269</td>\n",
       "      <td>-0.000474</td>\n",
       "      <td>-0.000192</td>\n",
       "      <td>-0.001293</td>\n",
       "      <td>0.001075</td>\n",
       "      <td>0.000371</td>\n",
       "      <td>-0.000192</td>\n",
       "      <td>1.0</td>\n",
       "      <td>0.0</td>\n",
       "    </tr>\n",
       "    <tr>\n",
       "      <th>2018-01-02 03:40:00</th>\n",
       "      <td>0.78336</td>\n",
       "      <td>66.061838</td>\n",
       "      <td>-0.000493</td>\n",
       "      <td>0.000306</td>\n",
       "      <td>-0.000077</td>\n",
       "      <td>0.000000</td>\n",
       "      <td>0.000651</td>\n",
       "      <td>0.000562</td>\n",
       "      <td>0.000102</td>\n",
       "      <td>0.000102</td>\n",
       "      <td>...</td>\n",
       "      <td>0.000423</td>\n",
       "      <td>-0.000321</td>\n",
       "      <td>-0.000269</td>\n",
       "      <td>-0.000474</td>\n",
       "      <td>-0.000192</td>\n",
       "      <td>-0.001293</td>\n",
       "      <td>0.001075</td>\n",
       "      <td>0.000371</td>\n",
       "      <td>1.0</td>\n",
       "      <td>0.0</td>\n",
       "    </tr>\n",
       "    <tr>\n",
       "      <th>2018-01-02 03:50:00</th>\n",
       "      <td>0.78345</td>\n",
       "      <td>67.556195</td>\n",
       "      <td>-0.000515</td>\n",
       "      <td>0.000115</td>\n",
       "      <td>0.000306</td>\n",
       "      <td>-0.000077</td>\n",
       "      <td>0.000000</td>\n",
       "      <td>0.000651</td>\n",
       "      <td>0.000562</td>\n",
       "      <td>0.000102</td>\n",
       "      <td>...</td>\n",
       "      <td>0.000256</td>\n",
       "      <td>0.000423</td>\n",
       "      <td>-0.000321</td>\n",
       "      <td>-0.000269</td>\n",
       "      <td>-0.000474</td>\n",
       "      <td>-0.000192</td>\n",
       "      <td>-0.001293</td>\n",
       "      <td>0.001075</td>\n",
       "      <td>1.0</td>\n",
       "      <td>0.0</td>\n",
       "    </tr>\n",
       "  </tbody>\n",
       "</table>\n",
       "<p>5 rows × 36 columns</p>\n",
       "</div>"
      ],
      "text/plain": [
       "                      AUDUSD        RSI      MACD   Returns     lag_1  \\\n",
       "time                                                                    \n",
       "2018-01-02 03:10:00  0.78318  63.690322 -0.000410  0.000651  0.000562   \n",
       "2018-01-02 03:20:00  0.78318  66.794347 -0.000446  0.000000  0.000651   \n",
       "2018-01-02 03:30:00  0.78312  66.794347 -0.000465 -0.000077  0.000000   \n",
       "2018-01-02 03:40:00  0.78336  66.061838 -0.000493  0.000306 -0.000077   \n",
       "2018-01-02 03:50:00  0.78345  67.556195 -0.000515  0.000115  0.000306   \n",
       "\n",
       "                        lag_2     lag_3     lag_4     lag_5     lag_6  ...   \\\n",
       "time                                                                   ...    \n",
       "2018-01-02 03:10:00  0.000102  0.000102 -0.000281  0.000384 -0.000345  ...    \n",
       "2018-01-02 03:20:00  0.000562  0.000102  0.000102 -0.000281  0.000384  ...    \n",
       "2018-01-02 03:30:00  0.000651  0.000562  0.000102  0.000102 -0.000281  ...    \n",
       "2018-01-02 03:40:00  0.000000  0.000651  0.000562  0.000102  0.000102  ...    \n",
       "2018-01-02 03:50:00 -0.000077  0.000000  0.000651  0.000562  0.000102  ...    \n",
       "\n",
       "                       lag_23    lag_24    lag_25    lag_26    lag_27  \\\n",
       "time                                                                    \n",
       "2018-01-02 03:10:00 -0.000474 -0.000192 -0.001293  0.001075  0.000371   \n",
       "2018-01-02 03:20:00 -0.000269 -0.000474 -0.000192 -0.001293  0.001075   \n",
       "2018-01-02 03:30:00 -0.000321 -0.000269 -0.000474 -0.000192 -0.001293   \n",
       "2018-01-02 03:40:00  0.000423 -0.000321 -0.000269 -0.000474 -0.000192   \n",
       "2018-01-02 03:50:00  0.000256  0.000423 -0.000321 -0.000269 -0.000474   \n",
       "\n",
       "                       lag_28    lag_29    lag_30  MOM1  MOM2  \n",
       "time                                                           \n",
       "2018-01-02 03:10:00 -0.000192  0.000026 -0.000064   1.0   0.0  \n",
       "2018-01-02 03:20:00  0.000371 -0.000192  0.000026   1.0   0.0  \n",
       "2018-01-02 03:30:00  0.001075  0.000371 -0.000192   1.0   0.0  \n",
       "2018-01-02 03:40:00 -0.001293  0.001075  0.000371   1.0   0.0  \n",
       "2018-01-02 03:50:00 -0.000192 -0.001293  0.001075   1.0   0.0  \n",
       "\n",
       "[5 rows x 36 columns]"
      ]
     },
     "execution_count": 41,
     "metadata": {},
     "output_type": "execute_result"
    }
   ],
   "source": [
    "fulldata_copy.head()"
   ]
  },
  {
   "cell_type": "markdown",
   "metadata": {},
   "source": [
    "# storage with HDF5"
   ]
  },
  {
   "cell_type": "code",
   "execution_count": 42,
   "metadata": {},
   "outputs": [],
   "source": [
    "h6 = pd.HDFStore('/root/pyalgocourse/test_project/data_features.h5','w')"
   ]
  },
  {
   "cell_type": "code",
   "execution_count": 43,
   "metadata": {},
   "outputs": [],
   "source": [
    "h6['data'] = fulldata_copy"
   ]
  },
  {
   "cell_type": "code",
   "execution_count": 44,
   "metadata": {},
   "outputs": [
    {
     "data": {
      "text/plain": [
       "<class 'pandas.io.pytables.HDFStore'>\n",
       "File path: /root/pyalgocourse/test_project/data_features.h5\n",
       "/data            frame        (shape->[12077,36])"
      ]
     },
     "execution_count": 44,
     "metadata": {},
     "output_type": "execute_result"
    }
   ],
   "source": [
    "h6"
   ]
  },
  {
   "cell_type": "code",
   "execution_count": 45,
   "metadata": {},
   "outputs": [
    {
     "name": "stdout",
     "output_type": "stream",
     "text": [
      "-rw-r--r-- 1 0 0 198816 May 22 06:31 data.h5\r\n"
     ]
    }
   ],
   "source": [
    "ls -n data.*"
   ]
  },
  {
   "cell_type": "code",
   "execution_count": 46,
   "metadata": {},
   "outputs": [],
   "source": [
    "h6.close()"
   ]
  },
  {
   "cell_type": "code",
   "execution_count": null,
   "metadata": {},
   "outputs": [],
   "source": []
  }
 ],
 "metadata": {
  "kernelspec": {
   "display_name": "Python 3",
   "language": "python",
   "name": "python3"
  },
  "language_info": {
   "codemirror_mode": {
    "name": "ipython",
    "version": 3
   },
   "file_extension": ".py",
   "mimetype": "text/x-python",
   "name": "python",
   "nbconvert_exporter": "python",
   "pygments_lexer": "ipython3",
   "version": "3.6.4"
  }
 },
 "nbformat": 4,
 "nbformat_minor": 2
}
